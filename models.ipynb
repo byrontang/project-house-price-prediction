{
 "cells": [
  {
   "cell_type": "markdown",
   "metadata": {},
   "source": [
    "# House Price Prediction\n",
    "\n",
    "\n",
    "## Models\n",
    "\n",
    "This notebook implements regression models for predictive problem, with introduction, algorithm, and special toptic for each model. Following single regression model, two ensemble methods, bagging and random forest, are also applied in pursuit of better prediction.\n",
    "\n",
    "## Overview\n",
    "#### Regression\n",
    "1. Linear Regression\n",
    "    - Probablistic View of Linear Regression\n",
    "2. Ridge Regression\n",
    "    - Probablisitc View: Ridge Regression and Bayesian Modeling\n",
    "3. Sparse Regression (Lasso)\n",
    "4. Elastic Net\n",
    "    - Model Comparison - Linear Regression, Ridge, Lasso, and Elastic Net\n",
    "5. Kernel Ridge\n",
    "    - Kernels\n",
    "6. Regression Tree\n",
    "\n",
    "#### Ensemble\n",
    "1. Bagging\n",
    "    - Algorithm\n",
    "    - Model Improvement\n",
    "2. Random Forest\n",
    "    - Algorithm"
   ]
  },
  {
   "cell_type": "code",
   "execution_count": 1,
   "metadata": {},
   "outputs": [],
   "source": [
    "%matplotlib inline\n",
    "import matplotlib.pyplot as plt\n",
    "import numpy as np\n",
    "import pandas as pd"
   ]
  },
  {
   "cell_type": "code",
   "execution_count": 2,
   "metadata": {},
   "outputs": [],
   "source": [
    "### Read in the data\n",
    "df = pd.read_csv('../project-house-price-prediction/data/train.csv')\n",
    "df_test = pd.read_csv('../project-house-price-prediction/data/test.csv')"
   ]
  },
  {
   "cell_type": "markdown",
   "metadata": {},
   "source": [
    "## Data\n",
    "The data preprocessing follows the data exploration done in the notebook notebook data-exploration-and-preprocessing and "
   ]
  },
  {
   "cell_type": "code",
   "execution_count": 3,
   "metadata": {},
   "outputs": [],
   "source": [
    "from sklearn.base import BaseEstimator, TransformerMixin"
   ]
  },
  {
   "cell_type": "code",
   "execution_count": 4,
   "metadata": {},
   "outputs": [],
   "source": [
    "class CleanHouseAttributes(BaseEstimator, TransformerMixin):\n",
    "    \"\"\"Apply rules during data exploration to clean house price dataset\"\"\"\n",
    "    \n",
    "    def fit(self, x, y=None):\n",
    "        return self\n",
    "    \n",
    "    def transform(self, df_house_price, cols_to_drop, target_col=[]):\n",
    "        # Age of building/remodle from YearBuilt and YearRemodAdd\n",
    "        df_house_price['AgeBuilding'] = 2012 - df_house_price['YearBuilt']\n",
    "        df_house_price['AgeRemodel'] = 2012 - df_house_price['YearRemodAdd']\n",
    "    \n",
    "        # Remove categories not exist in test.csv\n",
    "        df_filtered = df_house_price[(df_house_price['HouseStyle'] != '2.5Fin') &\n",
    "                                     (df_house_price['Exterior1st'] != 'Stone') &\n",
    "                                     (df_house_price['Exterior1st'] != 'ImStucc') &\n",
    "                                     (df_house_price['Exterior2nd'] != 'Other')]\n",
    "        \n",
    "        # Drop columns\n",
    "        df_dropped = df_filtered.drop(cols_to_drop + target_col, axis=1)\n",
    "            \n",
    "        # Fill NA for numeric columns\n",
    "        df_numeric = df_dropped.select_dtypes(include=['int64', 'float64']).apply(lambda x: x.fillna(x.mean()), axis=1)\n",
    "        \n",
    "        # Create dummies for non numeric columns\n",
    "        df_nonNumeric = pd.get_dummies(df_dropped.select_dtypes(include=['object']).fillna('NA'))\n",
    "        \n",
    "        # Create boolean variables for Alley, PoolQC, and Fence\n",
    "        df['HasAlley'] = list(1 if x is None else 0 for x in df['Alley'])\n",
    "        df['HasPool'] = list(1 if x is None else 0 for x in df['PoolQC'])\n",
    "        df['Fence'] = list(1 if x is None else 0 for x in df['Fence'])\n",
    "        \n",
    "        X = pd.concat([df_numeric, df_nonNumeric], axis=1)\n",
    "        y = df_filtered[target_col]\n",
    "\n",
    "        return X, y"
   ]
  },
  {
   "cell_type": "code",
   "execution_count": 5,
   "metadata": {},
   "outputs": [],
   "source": [
    "drop_cols = ['Id', 'YearBuilt', 'YearRemodAdd', 'GarageYrBlt', 'TotalBsmtSF', \n",
    "             'TotRmsAbvGrd', 'MoSold', 'YrSold', 'Street', 'Alley', 'Utilities', \n",
    "             'LandSlope', 'Condition2', 'Heating', 'Functional', 'FireplaceQu', \n",
    "             'PoolQC', 'Fence', 'MiscFeature'            ]\n",
    "target_col = ['SalePrice']"
   ]
  },
  {
   "cell_type": "code",
   "execution_count": 6,
   "metadata": {},
   "outputs": [
    {
     "data": {
      "text/html": [
       "<div>\n",
       "<style>\n",
       "    .dataframe thead tr:only-child th {\n",
       "        text-align: right;\n",
       "    }\n",
       "\n",
       "    .dataframe thead th {\n",
       "        text-align: left;\n",
       "    }\n",
       "\n",
       "    .dataframe tbody tr th {\n",
       "        vertical-align: top;\n",
       "    }\n",
       "</style>\n",
       "<table border=\"1\" class=\"dataframe\">\n",
       "  <thead>\n",
       "    <tr style=\"text-align: right;\">\n",
       "      <th></th>\n",
       "      <th>MSSubClass</th>\n",
       "      <th>LotFrontage</th>\n",
       "      <th>LotArea</th>\n",
       "      <th>OverallQual</th>\n",
       "      <th>OverallCond</th>\n",
       "      <th>MasVnrArea</th>\n",
       "      <th>BsmtFinSF1</th>\n",
       "      <th>BsmtFinSF2</th>\n",
       "      <th>BsmtUnfSF</th>\n",
       "      <th>1stFlrSF</th>\n",
       "      <th>...</th>\n",
       "      <th>SaleType_ConLw</th>\n",
       "      <th>SaleType_New</th>\n",
       "      <th>SaleType_Oth</th>\n",
       "      <th>SaleType_WD</th>\n",
       "      <th>SaleCondition_Abnorml</th>\n",
       "      <th>SaleCondition_AdjLand</th>\n",
       "      <th>SaleCondition_Alloca</th>\n",
       "      <th>SaleCondition_Family</th>\n",
       "      <th>SaleCondition_Normal</th>\n",
       "      <th>SaleCondition_Partial</th>\n",
       "    </tr>\n",
       "  </thead>\n",
       "  <tbody>\n",
       "    <tr>\n",
       "      <th>0</th>\n",
       "      <td>60.0</td>\n",
       "      <td>65.0</td>\n",
       "      <td>8450.0</td>\n",
       "      <td>7.0</td>\n",
       "      <td>5.0</td>\n",
       "      <td>196.0</td>\n",
       "      <td>706.0</td>\n",
       "      <td>0.0</td>\n",
       "      <td>150.0</td>\n",
       "      <td>856.0</td>\n",
       "      <td>...</td>\n",
       "      <td>0</td>\n",
       "      <td>0</td>\n",
       "      <td>0</td>\n",
       "      <td>1</td>\n",
       "      <td>0</td>\n",
       "      <td>0</td>\n",
       "      <td>0</td>\n",
       "      <td>0</td>\n",
       "      <td>1</td>\n",
       "      <td>0</td>\n",
       "    </tr>\n",
       "    <tr>\n",
       "      <th>1</th>\n",
       "      <td>20.0</td>\n",
       "      <td>80.0</td>\n",
       "      <td>9600.0</td>\n",
       "      <td>6.0</td>\n",
       "      <td>8.0</td>\n",
       "      <td>0.0</td>\n",
       "      <td>978.0</td>\n",
       "      <td>0.0</td>\n",
       "      <td>284.0</td>\n",
       "      <td>1262.0</td>\n",
       "      <td>...</td>\n",
       "      <td>0</td>\n",
       "      <td>0</td>\n",
       "      <td>0</td>\n",
       "      <td>1</td>\n",
       "      <td>0</td>\n",
       "      <td>0</td>\n",
       "      <td>0</td>\n",
       "      <td>0</td>\n",
       "      <td>1</td>\n",
       "      <td>0</td>\n",
       "    </tr>\n",
       "    <tr>\n",
       "      <th>2</th>\n",
       "      <td>60.0</td>\n",
       "      <td>68.0</td>\n",
       "      <td>11250.0</td>\n",
       "      <td>7.0</td>\n",
       "      <td>5.0</td>\n",
       "      <td>162.0</td>\n",
       "      <td>486.0</td>\n",
       "      <td>0.0</td>\n",
       "      <td>434.0</td>\n",
       "      <td>920.0</td>\n",
       "      <td>...</td>\n",
       "      <td>0</td>\n",
       "      <td>0</td>\n",
       "      <td>0</td>\n",
       "      <td>1</td>\n",
       "      <td>0</td>\n",
       "      <td>0</td>\n",
       "      <td>0</td>\n",
       "      <td>0</td>\n",
       "      <td>1</td>\n",
       "      <td>0</td>\n",
       "    </tr>\n",
       "    <tr>\n",
       "      <th>3</th>\n",
       "      <td>70.0</td>\n",
       "      <td>60.0</td>\n",
       "      <td>9550.0</td>\n",
       "      <td>7.0</td>\n",
       "      <td>5.0</td>\n",
       "      <td>0.0</td>\n",
       "      <td>216.0</td>\n",
       "      <td>0.0</td>\n",
       "      <td>540.0</td>\n",
       "      <td>961.0</td>\n",
       "      <td>...</td>\n",
       "      <td>0</td>\n",
       "      <td>0</td>\n",
       "      <td>0</td>\n",
       "      <td>1</td>\n",
       "      <td>1</td>\n",
       "      <td>0</td>\n",
       "      <td>0</td>\n",
       "      <td>0</td>\n",
       "      <td>0</td>\n",
       "      <td>0</td>\n",
       "    </tr>\n",
       "    <tr>\n",
       "      <th>4</th>\n",
       "      <td>60.0</td>\n",
       "      <td>84.0</td>\n",
       "      <td>14260.0</td>\n",
       "      <td>8.0</td>\n",
       "      <td>5.0</td>\n",
       "      <td>350.0</td>\n",
       "      <td>655.0</td>\n",
       "      <td>0.0</td>\n",
       "      <td>490.0</td>\n",
       "      <td>1145.0</td>\n",
       "      <td>...</td>\n",
       "      <td>0</td>\n",
       "      <td>0</td>\n",
       "      <td>0</td>\n",
       "      <td>1</td>\n",
       "      <td>0</td>\n",
       "      <td>0</td>\n",
       "      <td>0</td>\n",
       "      <td>0</td>\n",
       "      <td>1</td>\n",
       "      <td>0</td>\n",
       "    </tr>\n",
       "  </tbody>\n",
       "</table>\n",
       "<p>5 rows × 244 columns</p>\n",
       "</div>"
      ],
      "text/plain": [
       "   MSSubClass  LotFrontage  LotArea  OverallQual  OverallCond  MasVnrArea  \\\n",
       "0        60.0         65.0   8450.0          7.0          5.0       196.0   \n",
       "1        20.0         80.0   9600.0          6.0          8.0         0.0   \n",
       "2        60.0         68.0  11250.0          7.0          5.0       162.0   \n",
       "3        70.0         60.0   9550.0          7.0          5.0         0.0   \n",
       "4        60.0         84.0  14260.0          8.0          5.0       350.0   \n",
       "\n",
       "   BsmtFinSF1  BsmtFinSF2  BsmtUnfSF  1stFlrSF          ...            \\\n",
       "0       706.0         0.0      150.0     856.0          ...             \n",
       "1       978.0         0.0      284.0    1262.0          ...             \n",
       "2       486.0         0.0      434.0     920.0          ...             \n",
       "3       216.0         0.0      540.0     961.0          ...             \n",
       "4       655.0         0.0      490.0    1145.0          ...             \n",
       "\n",
       "   SaleType_ConLw  SaleType_New  SaleType_Oth  SaleType_WD  \\\n",
       "0               0             0             0            1   \n",
       "1               0             0             0            1   \n",
       "2               0             0             0            1   \n",
       "3               0             0             0            1   \n",
       "4               0             0             0            1   \n",
       "\n",
       "   SaleCondition_Abnorml  SaleCondition_AdjLand  SaleCondition_Alloca  \\\n",
       "0                      0                      0                     0   \n",
       "1                      0                      0                     0   \n",
       "2                      0                      0                     0   \n",
       "3                      1                      0                     0   \n",
       "4                      0                      0                     0   \n",
       "\n",
       "   SaleCondition_Family  SaleCondition_Normal  SaleCondition_Partial  \n",
       "0                     0                     1                      0  \n",
       "1                     0                     1                      0  \n",
       "2                     0                     1                      0  \n",
       "3                     0                     0                      0  \n",
       "4                     0                     1                      0  \n",
       "\n",
       "[5 rows x 244 columns]"
      ]
     },
     "execution_count": 6,
     "metadata": {},
     "output_type": "execute_result"
    }
   ],
   "source": [
    "X, y = CleanHouseAttributes().transform(df, drop_cols, target_col)\n",
    "X.head()"
   ]
  },
  {
   "cell_type": "code",
   "execution_count": 7,
   "metadata": {},
   "outputs": [
    {
     "data": {
      "image/png": "[encoded data removed]",
      "text/plain": [
       "<matplotlib.figure.Figure at 0x1fe25545780>"
      ]
     },
     "metadata": {
      "needs_background": "light"
     },
     "output_type": "display_data"
    }
   ],
   "source": [
    "y.hist(bins=50)\n",
    "plt.show()"
   ]
  },
  {
   "cell_type": "markdown",
   "metadata": {},
   "source": [
    "<a id = \"sklearn\"></a>\n",
    "## Regression\n",
    "\n",
    "### Probblem Definition\n",
    "**Input:** $x \\in \\mathbb{R}^{d}, d = 244$\n",
    "\n",
    "**Output:** $y \\in \\mathbb{R}$\n",
    "\n",
    "**Goal:** Find a function $f: \\mathbb{R}^{d} \\rightarrow \\mathbb{R}$ such that $y \\approx f(x;w)$ for the data pair $(x, y)$. $f(x;w)$ is call a $\\textit{regression funciton}$. Its free parameters are $w$."
   ]
  },
  {
   "cell_type": "markdown",
   "metadata": {},
   "source": [
    "### 1. Linear Regression\n",
    "\n",
    "A regression method is called $\\textit{linear}$ if the prediction $f$ is a linear function of the unknown parameters $w$. \n",
    "\n",
    "The linear regression has the form\n",
    "$$y_{i} \\approx f(x_{i};w) = w_{0} + x_{i}^{T}w,$$\n",
    "\n",
    "or in matrix form, \n",
    "$$y = \\mathbf{X}w,$$\n",
    "where a vector of 1 is attached in the first column of matrix $\\mathbf{X}$.\n",
    "\n",
    "With least square solution, we get the loss function for linear regression as\n",
    "$$L = \\sum_{i=1}^{n}\\left(y_{i}-x_{i}^{T}w\\right)^{2} = \\|y -\\mathbf{X}w\\|^{2} = (y-\\mathbf{X}w)^{T}(y-\\mathbf{X}w)$$\n",
    "\n",
    "If we take the gradient with respect to $w$, we find that\n",
    "$$\\nabla_{w}L = 2\\mathbf{X}^T\\mathbf{X}w-2\\mathbf{X}^Ty = 0 \\Rightarrow  w_{LS} = (\\mathbf{X}^T \\mathbf{X})^{−1}\\mathbf{X}^T y$$\n",
    "\n",
    "### Probablistic View of Linear Regression\n",
    "\n",
    "Gaussian density in $n$ dimensions: Assume a diagonal covariance matrix $\\Sigma = \\sigma^2I$. The density is \n",
    "$$p(y|\\mu, \\sigma^2) = \\frac{1}{(2\\pi\\sigma^2)^\\frac{n}{2}} \\exp (-\\frac{1}{2\\sigma^2}(y-\\mu)^T(y-\\mu)).$$\n",
    "Plug $\\mu=Xw$ into the multivariate Gaussian distribution and solve for $w$ using maximum likelihood.\n",
    "$$w_{ML} = \\operatorname*{arg\\,max}_w \\ln p(y|\\mu = Xw, \\sigma^2) \n",
    "= \\operatorname*{arg\\,max}_w -\\frac{1}{2\\sigma^2}\\|y-Xw\\|^2-\\frac{n}{2}\\ln(2\\pi\\sigma^2).$$\n",
    "\n",
    "**Least squres (LS) and maximum likelihood (ML) share the same solution.**\n",
    "\n",
    "$$\\text{LS: } \\operatorname*{arg\\,min}_w\\|y-Xw\\|^2  \\Leftrightarrow  \\text{ML: } \\operatorname*{arg\\,max}_w-\\frac{1}{2\\sigma^2}\\|y-Xw\\|^2$$"
   ]
  },
  {
   "cell_type": "code",
   "execution_count": 8,
   "metadata": {},
   "outputs": [],
   "source": [
    "from sklearn.model_selection import train_test_split\n",
    "from sklearn.model_selection import cross_val_score\n",
    "from sklearn.linear_model import LinearRegression\n",
    "from sklearn.metrics import mean_squared_error"
   ]
  },
  {
   "cell_type": "code",
   "execution_count": 9,
   "metadata": {},
   "outputs": [
    {
     "name": "stdout",
     "output_type": "stream",
     "text": [
      "R-squared: 0.857646419466\n",
      "RMSE: 25676.4180144\n"
     ]
    }
   ],
   "source": [
    "X_train, X_test, y_train, y_test = train_test_split(X, y, test_size = 0.3, random_state = 42)\n",
    "lr = LinearRegression()\n",
    "lr.fit(X_train, y_train)\n",
    "y_pred = lr.predict(X_test)\n",
    "\n",
    "print(\"R-squared:\", lr.score(X_test, y_test))\n",
    "print(\"RMSE:\", np.sqrt(mean_squared_error(y_test, y_pred)))"
   ]
  },
  {
   "cell_type": "markdown",
   "metadata": {},
   "source": [
    "#### Note: See appendix for interpreting the coefficient of linear regression\n",
    "If the purpose of builing linear regression models is for interpretation. The package `statsmodels.api` would be a better option then the package `sklearn` for providing coefficients with p-value."
   ]
  },
  {
   "cell_type": "code",
   "execution_count": 10,
   "metadata": {},
   "outputs": [],
   "source": [
    "import statsmodels.api as sm"
   ]
  },
  {
   "cell_type": "code",
   "execution_count": 11,
   "metadata": {},
   "outputs": [
    {
     "name": "stdout",
     "output_type": "stream",
     "text": [
      "                            OLS Regression Results                            \n",
      "==============================================================================\n",
      "Dep. Variable:              SalePrice   R-squared:                       0.917\n",
      "Model:                            OLS   Adj. R-squared:                  0.904\n",
      "Method:                 Least Squares   F-statistic:                     67.76\n",
      "Date:                Sat, 28 Sep 2019   Prob (F-statistic):               0.00\n",
      "Time:                        09:41:37   Log-Likelihood:                -16579.\n",
      "No. Observations:                1448   AIC:                         3.357e+04\n",
      "Df Residuals:                    1243   BIC:                         3.465e+04\n",
      "Df Model:                         204                                         \n",
      "Covariance Type:            nonrobust                                         \n",
      "=========================================================================================\n",
      "                            coef    std err          t      P>|t|      [0.025      0.975]\n",
      "-----------------------------------------------------------------------------------------\n",
      "const                 -8024.1486   3445.501     -2.329      0.020   -1.48e+04   -1264.508\n",
      "MSSubClass              -48.4863     85.794     -0.565      0.572    -216.802     119.830\n",
      "LotFrontage              -2.3696      3.135     -0.756      0.450      -8.520       3.781\n",
      "LotArea                   0.4239      0.107      3.949      0.000       0.213       0.634\n",
      "OverallQual            6285.8406   1068.874      5.881      0.000    4188.845    8382.837\n",
      "OverallCond            5975.8587    923.719      6.469      0.000    4163.639    7788.078\n",
      "MasVnrArea               11.3803      6.040      1.884      0.060      -0.469      23.229\n",
      "BsmtFinSF1               35.2524      5.530      6.375      0.000      24.404      46.101\n",
      "BsmtFinSF2               25.0134      9.478      2.639      0.008       6.420      43.607\n",
      "BsmtUnfSF                20.1988      5.067      3.986      0.000      10.258      30.139\n",
      "1stFlrSF                 13.7841      6.576      2.096      0.036       0.883      26.685\n",
      "2ndFlrSF                 33.4401      5.924      5.645      0.000      21.818      45.062\n",
      "LowQualFinSF            -17.7210     14.525     -1.220      0.223     -46.217      10.775\n",
      "GrLivArea                29.5032      5.544      5.322      0.000      18.627      40.379\n",
      "BsmtFullBath           1907.4400   2108.358      0.905      0.366   -2228.892    6043.772\n",
      "BsmtHalfBath          -1620.3800   3210.042     -0.505      0.614   -7918.079    4677.318\n",
      "FullBath               4661.5977   2360.482      1.975      0.049      30.629    9292.566\n",
      "HalfBath               2159.9591   2233.535      0.967      0.334   -2221.956    6541.874\n",
      "BedroomAbvGr          -1362.3451   1342.502     -1.015      0.310   -3996.165    1271.475\n",
      "KitchenAbvGr          -1.275e+04   5761.356     -2.213      0.027   -2.41e+04   -1445.156\n",
      "Fireplaces             3267.7735   1424.242      2.294      0.022     473.590    6061.957\n",
      "GarageCars             6628.7320   2424.836      2.734      0.006    1871.508    1.14e+04\n",
      "GarageArea               10.3645      8.130      1.275      0.203      -5.586      26.315\n",
      "WoodDeckSF               16.0957      6.244      2.578      0.010       3.847      28.345\n",
      "OpenPorchSF               2.2691     12.139      0.187      0.852     -21.546      26.084\n",
      "EnclosedPorch             6.0048     13.165      0.456      0.648     -19.823      31.833\n",
      "3SsnPorch                44.9479     23.980      1.874      0.061      -2.099      91.995\n",
      "ScreenPorch              29.0583     13.051      2.227      0.026       3.454      54.663\n",
      "PoolArea                 94.0691     19.397      4.850      0.000      56.014     132.124\n",
      "MiscVal                  -0.7852      1.466     -0.536      0.592      -3.660       2.090\n",
      "AgeBuilding            -262.9917     79.719     -3.299      0.001    -419.390    -106.593\n",
      "AgeRemodel              -60.4708     58.507     -1.034      0.302    -175.254      54.312\n",
      "MSZoning_C (all)       -2.53e+04   8532.915     -2.965      0.003    -4.2e+04   -8559.399\n",
      "MSZoning_FV            1.028e+04   6342.777      1.621      0.105   -2164.724    2.27e+04\n",
      "MSZoning_RH            3321.0310   6420.322      0.517      0.605   -9274.833    1.59e+04\n",
      "MSZoning_RL            3428.3044   3353.837      1.022      0.307   -3151.502       1e+04\n",
      "MSZoning_RM             247.4141   3749.585      0.066      0.947   -7108.800    7603.629\n",
      "LotShape_IR1          -7880.2126   2922.967     -2.696      0.007   -1.36e+04   -2145.718\n",
      "LotShape_IR2           -366.4817   4020.694     -0.091      0.927   -8254.577    7521.614\n",
      "LotShape_IR3           6542.1022   7143.550      0.916      0.360   -7472.646    2.06e+04\n",
      "LotShape_Reg          -6319.5564   2981.791     -2.119      0.034   -1.22e+04    -469.656\n",
      "LandContour_Bnk       -6791.4658   3391.326     -2.003      0.045   -1.34e+04    -138.111\n",
      "LandContour_HLS        5801.2115   3513.399      1.651      0.099   -1091.636    1.27e+04\n",
      "LandContour_Low       -9066.2566   4387.106     -2.067      0.039   -1.77e+04    -459.306\n",
      "LandContour_Lvl        2032.3623   2293.780      0.886      0.376   -2467.747    6532.471\n",
      "LotConfig_Corner       2243.3491   3148.081      0.713      0.476   -3932.791    8419.489\n",
      "LotConfig_CulDSac      1.098e+04   3711.024      2.958      0.003    3697.197    1.83e+04\n",
      "LotConfig_FR2         -6728.8607   4131.217     -1.629      0.104   -1.48e+04    1376.069\n",
      "LotConfig_FR3          -1.46e+04   1.07e+04     -1.362      0.173   -3.56e+04    6427.778\n",
      "LotConfig_Inside         86.4592   2960.148      0.029      0.977   -5720.980    5893.898\n",
      "Neighborhood_Blmngtn   3156.5253   7407.953      0.426      0.670   -1.14e+04    1.77e+04\n",
      "Neighborhood_Blueste  -1914.3721   1.81e+04     -0.106      0.916   -3.75e+04    3.37e+04\n",
      "Neighborhood_BrDale    3864.3897   8266.296      0.467      0.640   -1.24e+04    2.01e+04\n",
      "Neighborhood_BrkSide  -4719.7750   4864.532     -0.970      0.332   -1.43e+04    4823.826\n",
      "Neighborhood_ClearCr  -1.188e+04   6012.087     -1.976      0.048   -2.37e+04     -85.148\n",
      "Neighborhood_CollgCr  -5907.8182   3190.492     -1.852      0.064   -1.22e+04     351.525\n",
      "Neighborhood_Crawfor   1.672e+04   4543.386      3.680      0.000    7805.852    2.56e+04\n",
      "Neighborhood_Edwards  -2.302e+04   3342.904     -6.885      0.000   -2.96e+04   -1.65e+04\n",
      "Neighborhood_Gilbert  -8662.4798   4080.802     -2.123      0.034   -1.67e+04    -656.459\n",
      "Neighborhood_IDOTRR   -9236.3450   6814.611     -1.355      0.176   -2.26e+04    4133.065\n",
      "Neighborhood_MeadowV   1337.2152   8600.267      0.155      0.876   -1.55e+04    1.82e+04\n",
      "Neighborhood_Mitchel  -1.888e+04   4167.067     -4.531      0.000   -2.71e+04   -1.07e+04\n",
      "Neighborhood_NAmes    -1.531e+04   2840.575     -5.391      0.000   -2.09e+04   -9739.973\n",
      "Neighborhood_NPkVill   1.481e+04   1.31e+04      1.133      0.257   -1.08e+04    4.05e+04\n",
      "Neighborhood_NWAmes   -1.354e+04   3762.924     -3.597      0.000   -2.09e+04   -6153.916\n",
      "Neighborhood_NoRidge   3.459e+04   5171.548      6.689      0.000    2.44e+04    4.47e+04\n",
      "Neighborhood_NridgHt   2.393e+04   4474.788      5.348      0.000    1.52e+04    3.27e+04\n",
      "Neighborhood_OldTown  -1.657e+04   4993.735     -3.318      0.001   -2.64e+04   -6771.601\n",
      "Neighborhood_SWISU    -9474.9965   6540.119     -1.449      0.148   -2.23e+04    3355.895\n",
      "Neighborhood_Sawyer   -1.046e+04   3696.432     -2.829      0.005   -1.77e+04   -3205.304\n",
      "Neighborhood_SawyerW   -644.8048   4022.100     -0.160      0.873   -8535.659    7246.049\n",
      "Neighborhood_Somerst   4710.0350   6475.086      0.727      0.467   -7993.271    1.74e+04\n",
      "Neighborhood_StoneBr    4.51e+04   5975.529      7.547      0.000    3.34e+04    5.68e+04\n",
      "Neighborhood_Timber   -1.027e+04   4952.871     -2.074      0.038      -2e+04    -556.793\n",
      "Neighborhood_Veenker   4242.7666   8213.372      0.517      0.606   -1.19e+04    2.04e+04\n",
      "Condition1_Artery       613.0059   4899.453      0.125      0.900   -8999.105    1.02e+04\n",
      "Condition1_Feedr       4809.8779   4117.262      1.168      0.243   -3267.673    1.29e+04\n",
      "Condition1_Norm        1.265e+04   3155.793      4.009      0.000    6460.749    1.88e+04\n",
      "Condition1_PosA        4105.5775   9019.684      0.455      0.649   -1.36e+04    2.18e+04\n",
      "Condition1_PosN       -1.456e+04   6211.899     -2.343      0.019   -2.67e+04   -2368.561\n",
      "Condition1_RRAe        -1.72e+04   8124.418     -2.117      0.034   -3.31e+04   -1260.499\n",
      "Condition1_RRAn        4892.5119   5605.894      0.873      0.383   -6105.548    1.59e+04\n",
      "Condition1_RRNe       -6370.1407   1.64e+04     -0.388      0.698   -3.86e+04    2.59e+04\n",
      "Condition1_RRNn        3028.1142   1.16e+04      0.262      0.794   -1.97e+04    2.57e+04\n",
      "BldgType_1Fam          8832.3603   6704.165      1.317      0.188   -4320.369     2.2e+04\n",
      "BldgType_2fmCon        8110.7273   7359.181      1.102      0.271   -6327.061    2.25e+04\n",
      "BldgType_Duplex         392.0964   5770.522      0.068      0.946   -1.09e+04    1.17e+04\n",
      "BldgType_Twnhs        -1.523e+04   5329.198     -2.858      0.004   -2.57e+04   -4776.428\n",
      "BldgType_TwnhsE       -1.013e+04   4169.853     -2.429      0.015   -1.83e+04   -1946.961\n",
      "HouseStyle_1.5Fin     -4228.1636   3106.880     -1.361      0.174   -1.03e+04    1867.144\n",
      "HouseStyle_1.5Unf      7022.1169   7037.271      0.998      0.319   -6784.125    2.08e+04\n",
      "HouseStyle_1Story      3590.1201   3950.214      0.909      0.364   -4159.703    1.13e+04\n",
      "HouseStyle_2.5Unf     -4019.9388   8211.934     -0.490      0.625   -2.01e+04    1.21e+04\n",
      "HouseStyle_2Story     -8767.5323   3509.062     -2.499      0.013   -1.57e+04   -1883.194\n",
      "HouseStyle_SFoyer      -730.0569   5179.114     -0.141      0.888   -1.09e+04    9430.713\n",
      "HouseStyle_SLvl        -890.6939   4472.028     -0.199      0.842   -9664.251    7882.863\n",
      "RoofStyle_Flat        -1.315e+04    1.7e+04     -0.774      0.439   -4.65e+04    2.02e+04\n",
      "RoofStyle_Gable       -3745.2677   5802.515     -0.645      0.519   -1.51e+04    7638.537\n",
      "RoofStyle_Gambrel      -371.3451   8948.291     -0.041      0.967   -1.79e+04    1.72e+04\n",
      "RoofStyle_Hip         -3761.6317   5958.193     -0.631      0.528   -1.55e+04    7927.594\n",
      "RoofStyle_Mansard      3906.1567   1.03e+04      0.378      0.706   -1.64e+04    2.42e+04\n",
      "RoofStyle_Shed         9101.0976   1.82e+04      0.500      0.617   -2.66e+04    4.48e+04\n",
      "RoofMatl_ClyTile      -5.509e+05   3.19e+04    -17.247      0.000   -6.14e+05   -4.88e+05\n",
      "RoofMatl_CompShg       5.847e+04   1.05e+04      5.582      0.000    3.79e+04     7.9e+04\n",
      "RoofMatl_Membran       1.008e+05   2.76e+04      3.647      0.000    4.66e+04    1.55e+05\n",
      "RoofMatl_Metal         8.006e+04   2.69e+04      2.978      0.003    2.73e+04    1.33e+05\n",
      "RoofMatl_Roll          5.018e+04    2.6e+04      1.931      0.054    -789.250    1.01e+05\n",
      "RoofMatl_Tar&Grv       5.593e+04   1.51e+04      3.713      0.000    2.64e+04    8.55e+04\n",
      "RoofMatl_WdShake       7.245e+04   1.73e+04      4.197      0.000    3.86e+04    1.06e+05\n",
      "RoofMatl_WdShngl       1.249e+05   1.43e+04      8.755      0.000    9.69e+04    1.53e+05\n",
      "Exterior1st_AsbShng    1.059e+04   1.21e+04      0.872      0.383   -1.32e+04    3.44e+04\n",
      "Exterior1st_AsphShn   -1.061e+04   3.09e+04     -0.344      0.731   -7.12e+04       5e+04\n",
      "Exterior1st_BrkComm   -7616.1327   2.44e+04     -0.312      0.755   -5.55e+04    4.03e+04\n",
      "Exterior1st_BrkFace    1.725e+04   6570.397      2.625      0.009    4357.042    3.01e+04\n",
      "Exterior1st_CBlock    -2087.5908   1.33e+04     -0.157      0.875   -2.81e+04    2.39e+04\n",
      "Exterior1st_CemntBd   -2037.7467   1.48e+04     -0.138      0.890    -3.1e+04     2.7e+04\n",
      "Exterior1st_HdBoard   -5079.1692   5820.593     -0.873      0.383   -1.65e+04    6340.103\n",
      "Exterior1st_MetalSd     -60.3672   8621.728     -0.007      0.994    -1.7e+04    1.69e+04\n",
      "Exterior1st_Plywood   -5934.3410   5872.485     -1.011      0.312   -1.75e+04    5586.736\n",
      "Exterior1st_Stucco     8873.3939   8886.065      0.999      0.318   -8559.948    2.63e+04\n",
      "Exterior1st_VinylSd   -6577.1487   7937.675     -0.829      0.407   -2.21e+04    8995.571\n",
      "Exterior1st_Wd Sdng   -1855.3466   5501.224     -0.337      0.736   -1.26e+04    8937.363\n",
      "Exterior1st_WdShing   -2879.5607   7044.331     -0.409      0.683   -1.67e+04    1.09e+04\n",
      "Exterior2nd_AsbShng   -8277.7666   1.15e+04     -0.717      0.474   -3.09e+04    1.44e+04\n",
      "Exterior2nd_AsphShn    9365.2710   1.87e+04      0.500      0.617   -2.74e+04    4.61e+04\n",
      "Exterior2nd_Brk Cmn   -2490.9989   1.67e+04     -0.149      0.882   -3.53e+04    3.03e+04\n",
      "Exterior2nd_BrkFace   -2086.0630   7500.165     -0.278      0.781   -1.68e+04    1.26e+04\n",
      "Exterior2nd_CBlock    -2087.5908   1.33e+04     -0.157      0.875   -2.81e+04    2.39e+04\n",
      "Exterior2nd_CmentBd   -4057.5089   1.48e+04     -0.274      0.784   -3.31e+04     2.5e+04\n",
      "Exterior2nd_HdBoard     882.6357   5124.463      0.172      0.863   -9170.916    1.09e+04\n",
      "Exterior2nd_ImStucc    1.964e+04   9003.248      2.182      0.029    1981.070    3.73e+04\n",
      "Exterior2nd_MetalSd    1635.5880   8419.112      0.194      0.846   -1.49e+04    1.82e+04\n",
      "Exterior2nd_Plywood    -940.1737   4770.770     -0.197      0.844   -1.03e+04    8419.478\n",
      "Exterior2nd_Stone     -2.194e+04   1.34e+04     -1.636      0.102   -4.83e+04    4371.893\n",
      "Exterior2nd_Stucco    -3809.7386   8439.402     -0.451      0.652   -2.04e+04    1.27e+04\n",
      "Exterior2nd_VinylSd    7563.1518   7513.122      1.007      0.314   -7176.649    2.23e+04\n",
      "Exterior2nd_Wd Sdng    1275.0253   4714.631      0.270      0.787   -7974.489    1.05e+04\n",
      "Exterior2nd_Wd Shng   -2699.1740   5655.541     -0.477      0.633   -1.38e+04    8396.286\n",
      "MasVnrType_BrkCmn     -7045.1829   5957.380     -1.183      0.237   -1.87e+04    4642.448\n",
      "MasVnrType_BrkFace      228.6844   2712.461      0.084      0.933   -5092.823    5550.192\n",
      "MasVnrType_NA         -8674.2039   7758.989     -1.118      0.264   -2.39e+04    6547.957\n",
      "MasVnrType_None        1513.3943   2953.245      0.512      0.608   -4280.502    7307.290\n",
      "MasVnrType_Stone       5953.1596   3245.067      1.835      0.067    -413.255    1.23e+04\n",
      "ExterQual_Ex           9812.4333   4826.946      2.033      0.042     342.573    1.93e+04\n",
      "ExterQual_Fa          -4453.9445   7584.575     -0.587      0.557   -1.93e+04    1.04e+04\n",
      "ExterQual_Gd          -6758.5446   3241.284     -2.085      0.037   -1.31e+04    -399.553\n",
      "ExterQual_TA          -6624.0928   3195.265     -2.073      0.038   -1.29e+04    -355.385\n",
      "ExterCond_Ex           1.707e+04   1.39e+04      1.230      0.219   -1.02e+04    4.43e+04\n",
      "ExterCond_Fa          -3094.3106   7532.319     -0.411      0.681   -1.79e+04    1.17e+04\n",
      "ExterCond_Gd          -3638.0714   6488.029     -0.561      0.575   -1.64e+04    9090.626\n",
      "ExterCond_Po          -1.634e+04   2.17e+04     -0.753      0.451   -5.89e+04    2.62e+04\n",
      "ExterCond_TA          -2019.4704   6233.375     -0.324      0.746   -1.42e+04    1.02e+04\n",
      "Foundation_BrkTil     -1353.1698   4266.711     -0.317      0.751   -9723.920    7017.581\n",
      "Foundation_CBlock      3042.7599   3786.943      0.803      0.422   -4386.746    1.05e+04\n",
      "Foundation_PConc       3022.7239   3893.885      0.776      0.438   -4616.589    1.07e+04\n",
      "Foundation_Slab       -3155.1194   8664.559     -0.364      0.716   -2.02e+04    1.38e+04\n",
      "Foundation_Stone       1.076e+04   1.03e+04      1.043      0.297   -9486.718     3.1e+04\n",
      "Foundation_Wood       -2.035e+04   1.32e+04     -1.540      0.124   -4.63e+04    5572.610\n",
      "BsmtQual_Ex            9845.6891   4444.667      2.215      0.027    1125.812    1.86e+04\n",
      "BsmtQual_Fa           -5028.8218   4820.136     -1.043      0.297   -1.45e+04    4427.679\n",
      "BsmtQual_Gd           -1.183e+04   3478.181     -3.401      0.001   -1.87e+04   -5005.353\n",
      "BsmtQual_NA            7445.8805   1.07e+04      0.696      0.487   -1.36e+04    2.84e+04\n",
      "BsmtQual_TA           -8457.7893   3440.561     -2.458      0.014   -1.52e+04   -1707.842\n",
      "BsmtCond_Fa           -1.154e+04   7777.209     -1.483      0.138   -2.68e+04    3721.172\n",
      "BsmtCond_Gd           -8206.5313   7957.449     -1.031      0.303   -2.38e+04    7404.983\n",
      "BsmtCond_NA            7445.8805   1.07e+04      0.696      0.487   -1.36e+04    2.84e+04\n",
      "BsmtCond_Po            1.018e+04   2.24e+04      0.454      0.650   -3.38e+04    5.42e+04\n",
      "BsmtCond_TA           -5902.0556   7552.634     -0.781      0.435   -2.07e+04    8915.263\n",
      "BsmtExposure_Av       -1525.7947   5261.984     -0.290      0.772   -1.18e+04    8797.556\n",
      "BsmtExposure_Gd        1.447e+04   5516.854      2.623      0.009    3646.175    2.53e+04\n",
      "BsmtExposure_Mn       -3281.2269   5461.705     -0.601      0.548    -1.4e+04    7433.952\n",
      "BsmtExposure_NA       -1.086e+04   1.99e+04     -0.547      0.585   -4.98e+04    2.81e+04\n",
      "BsmtExposure_No       -6824.0714   5151.822     -1.325      0.186   -1.69e+04    3283.156\n",
      "BsmtFinType1_ALQ      -2940.3123   2670.458     -1.101      0.271   -8179.416    2298.791\n",
      "BsmtFinType1_BLQ       -661.1934   2813.679     -0.235      0.814   -6181.279    4858.892\n",
      "BsmtFinType1_GLQ       2934.6695   2714.482      1.081      0.280   -2390.802    8260.142\n",
      "BsmtFinType1_LwQ      -9448.3016   3516.426     -2.687      0.007   -1.63e+04   -2549.516\n",
      "BsmtFinType1_NA        7445.8805   1.07e+04      0.696      0.487   -1.36e+04    2.84e+04\n",
      "BsmtFinType1_Rec      -4150.8629   2892.163     -1.435      0.151   -9824.922    1523.197\n",
      "BsmtFinType1_Unf      -1204.0285   2733.886     -0.440      0.660   -6567.569    4159.512\n",
      "BsmtFinType2_ALQ       1.206e+04   6941.068      1.738      0.083   -1556.611    2.57e+04\n",
      "BsmtFinType2_BLQ      -2340.3730   5715.206     -0.409      0.682   -1.36e+04    8872.143\n",
      "BsmtFinType2_GLQ       5754.7346   8293.109      0.694      0.488   -1.05e+04     2.2e+04\n",
      "BsmtFinType2_LwQ      -4753.1579   5519.948     -0.861      0.389   -1.56e+04    6076.286\n",
      "BsmtFinType2_NA       -1.727e+04   2.26e+04     -0.764      0.445   -6.16e+04    2.71e+04\n",
      "BsmtFinType2_Rec      -2204.7003   5280.269     -0.418      0.676   -1.26e+04    8154.523\n",
      "BsmtFinType2_Unf        727.2308   5280.761      0.138      0.890   -9632.959    1.11e+04\n",
      "HeatingQC_Ex            849.2164   5818.680      0.146      0.884   -1.06e+04    1.23e+04\n",
      "HeatingQC_Fa           2118.8804   6511.421      0.325      0.745   -1.07e+04    1.49e+04\n",
      "HeatingQC_Gd          -2720.5968   5878.371     -0.463      0.644   -1.43e+04    8812.028\n",
      "HeatingQC_Po          -5724.8409    2.3e+04     -0.249      0.803   -5.08e+04    3.93e+04\n",
      "HeatingQC_TA          -2546.8076   5787.200     -0.440      0.660   -1.39e+04    8806.951\n",
      "CentralAir_N          -4713.0965   2599.974     -1.813      0.070   -9813.919     387.726\n",
      "CentralAir_Y          -3311.0521   2678.709     -1.236      0.217   -8566.342    1944.238\n",
      "Electrical_FuseA      -1377.6619   9618.950     -0.143      0.886   -2.02e+04    1.75e+04\n",
      "Electrical_FuseF        848.7724   1.07e+04      0.080      0.937      -2e+04    2.17e+04\n",
      "Electrical_FuseP      -7915.7672   1.72e+04     -0.460      0.646   -4.17e+04    2.59e+04\n",
      "Electrical_Mix        -1.211e+04   3.68e+04     -0.329      0.742   -8.43e+04    6.01e+04\n",
      "Electrical_NA          1.613e+04   2.33e+04      0.693      0.488   -2.95e+04    6.18e+04\n",
      "Electrical_SBrkr      -3597.3528   9550.835     -0.377      0.706   -2.23e+04    1.51e+04\n",
      "KitchenQual_Ex         1.643e+04   3326.567      4.940      0.000    9906.961     2.3e+04\n",
      "KitchenQual_Fa        -6777.6177   4086.638     -1.658      0.097   -1.48e+04    1239.852\n",
      "KitchenQual_Gd        -9237.1124   2157.032     -4.282      0.000   -1.35e+04   -5005.288\n",
      "KitchenQual_TA        -8442.6854   2039.724     -4.139      0.000   -1.24e+04   -4441.003\n",
      "GarageType_2Types     -2.241e+04   9863.841     -2.272      0.023   -4.18e+04   -3056.164\n",
      "GarageType_Attchd       978.4282   2916.459      0.335      0.737   -4743.297    6700.154\n",
      "GarageType_Basment     5331.8913   6337.232      0.841      0.400   -7100.962    1.78e+04\n",
      "GarageType_BuiltIn    -2087.5197   4085.742     -0.511      0.609   -1.01e+04    5928.193\n",
      "GarageType_CarPort     5473.7228   8350.156      0.656      0.512   -1.09e+04    2.19e+04\n",
      "GarageType_Detchd      3015.8695   3058.844      0.986      0.324   -2985.199    9016.938\n",
      "GarageType_NA          1671.2395   1642.861      1.017      0.309   -1551.847    4894.326\n",
      "GarageFinish_Fin      -1366.2757   1802.633     -0.758      0.449   -4902.814    2170.263\n",
      "GarageFinish_NA        1671.2395   1642.861      1.017      0.309   -1551.847    4894.326\n",
      "GarageFinish_RFn      -4980.0730   1689.961     -2.947      0.003   -8295.564   -1664.582\n",
      "GarageFinish_Unf      -3349.0394   1824.824     -1.835      0.067   -6929.115     231.036\n",
      "GarageQual_Ex          2994.4816   7882.117      0.380      0.704   -1.25e+04    1.85e+04\n",
      "GarageQual_Fa         -4512.9419   6796.869     -0.664      0.507   -1.78e+04    8821.661\n",
      "GarageQual_Gd          9969.6792   8825.074      1.130      0.259   -7344.008    2.73e+04\n",
      "GarageQual_NA          1671.2395   1642.861      1.017      0.309   -1551.847    4894.326\n",
      "GarageQual_Po         -1.924e+04   1.97e+04     -0.977      0.329   -5.79e+04    1.94e+04\n",
      "GarageQual_TA          1095.7352   6701.852      0.163      0.870   -1.21e+04    1.42e+04\n",
      "GarageCond_Ex          2994.4816   7882.117      0.380      0.704   -1.25e+04    1.85e+04\n",
      "GarageCond_Fa         -2821.9842   5685.296     -0.496      0.620    -1.4e+04    8331.853\n",
      "GarageCond_Gd         -8217.3536   9163.148     -0.897      0.370   -2.62e+04    9759.591\n",
      "GarageCond_NA          1671.2395   1642.861      1.017      0.309   -1551.847    4894.326\n",
      "GarageCond_Po          -635.6298   1.11e+04     -0.057      0.954   -2.24e+04    2.11e+04\n",
      "GarageCond_TA         -1014.9020   5009.752     -0.203      0.839   -1.08e+04    8813.602\n",
      "PavedDrive_N          -1990.8907   2988.430     -0.666      0.505   -7853.815    3872.034\n",
      "PavedDrive_P          -4862.6920   3748.964     -1.297      0.195   -1.22e+04    2492.305\n",
      "PavedDrive_Y          -1170.5660   2404.391     -0.487      0.626   -5887.679    3546.547\n",
      "SaleType_COD           -1.28e+04   5714.197     -2.240      0.025    -2.4e+04   -1587.012\n",
      "SaleType_CWD          -1018.5777   1.22e+04     -0.083      0.933    -2.5e+04    2.29e+04\n",
      "SaleType_Con           1.219e+04   1.68e+04      0.727      0.467   -2.07e+04    4.51e+04\n",
      "SaleType_ConLD         3993.0085   8853.388      0.451      0.652   -1.34e+04    2.14e+04\n",
      "SaleType_ConLI        -3746.7281    1.1e+04     -0.341      0.733   -2.53e+04    1.78e+04\n",
      "SaleType_ConLw        -8284.7754   1.13e+04     -0.733      0.464   -3.05e+04    1.39e+04\n",
      "SaleType_New            1.83e+04   1.42e+04      1.288      0.198   -9565.852    4.62e+04\n",
      "SaleType_Oth          -3084.0410   1.39e+04     -0.222      0.824   -3.03e+04    2.42e+04\n",
      "SaleType_WD           -1.357e+04   4240.492     -3.200      0.001   -2.19e+04   -5252.371\n",
      "SaleCondition_Abnorml -4235.9813   4706.910     -0.900      0.368   -1.35e+04    4998.385\n",
      "SaleCondition_AdjLand  1.117e+04    1.3e+04      0.858      0.391   -1.44e+04    3.67e+04\n",
      "SaleCondition_Alloca   3767.6254   8133.750      0.463      0.643   -1.22e+04    1.97e+04\n",
      "SaleCondition_Family  -5130.1903   6333.688     -0.810      0.418   -1.76e+04    7295.709\n",
      "SaleCondition_Normal   2822.5486   4112.223      0.686      0.493   -5245.116    1.09e+04\n",
      "SaleCondition_Partial -1.641e+04   1.33e+04     -1.235      0.217   -4.25e+04    9657.329\n",
      "==============================================================================\n",
      "Omnibus:                      741.471   Durbin-Watson:                   1.905\n",
      "Prob(Omnibus):                  0.000   Jarque-Bera (JB):            96560.179\n",
      "Skew:                          -1.362   Prob(JB):                         0.00\n",
      "Kurtosis:                      42.913   Cond. No.                     4.89e+18\n",
      "==============================================================================\n",
      "\n",
      "Warnings:\n",
      "[1] Standard Errors assume that the covariance matrix of the errors is correctly specified.\n",
      "[2] The smallest eigenvalue is 1.29e-26. This might indicate that there are\n",
      "strong multicollinearity problems or that the design matrix is singular.\n"
     ]
    }
   ],
   "source": [
    "X_sm = sm.add_constant(X)\n",
    "lr_sm = sm.OLS(y, X_sm)\n",
    "lr_sm = lr_sm.fit()\n",
    "print(lr_sm.summary())"
   ]
  },
  {
   "cell_type": "markdown",
   "metadata": {},
   "source": [
    "### 2. Ridge Regression\n",
    "Least square solution is unbiased but potentially has high variance. The value in $w_{ML}$ may be huge. In general, we often want to constraint the model parameters. One way is to add regularization. Ridge Regression addresses variance issues with $w_{ML}$ by using the squared penalty on the gression coefficient vector $w$,\n",
    "$$w_{RR} = \\operatorname*{arg\\,min}_w \\|y-\\mathbf{X}w\\|^2+\\lambda\\|w\\|^2 = (\\lambda\\mathbf{I}+\\mathbf{X}^T\\mathbf{X})^{-1}\\mathbf{X}^Ty.$$\n",
    "\n",
    "### Probablisitc View: Ridge Regression and Bayesian Modeling\n",
    "Adding a $l2$ regularization term to linear regression is like defining a prior on the unknown parameter $w$ and trying to learn its posterior. \n",
    "\n",
    "In Bayesian setting, we can model the data as:\n",
    "\n",
    "**Likelihood:** $y \\sim N(Xw, \\sigma^2I)$\n",
    "\n",
    "**Prior:** $w \\sim N(0, \\lambda^{-1}I)$ Then \n",
    "$$p(w) = (\\frac{\\lambda}{2\\pi})^{\\frac{d}{2}} e^{-\\frac{\\lambda}{2}w^Tw}$$\n",
    "\n",
    "Maximum $\\textit{a poseriori}$ (MAP) estimation seeks the most probable value $w$ under the posterior:\n",
    "$$w_{MAP} = \\operatorname*{arg\\,max}_w\\ln p(w|y,X) = \\operatorname*{arg\\,max}_w\\ln p(y|w,X) + \\ln p(w)$$\n",
    "$$=\\operatorname*{arg\\,max}_w\\frac{1}{2\\sigma^2}(y-Xw)^T(y-Xw) - \\frac{\\lambda}{2}w^Tw + const.$$\n",
    "\n",
    "Take gradient of the function, we can get the solution for $w_{MAP}$ = $(\\lambda\\sigma^2I+X^TX)^{-1}X^Ty$.\n",
    "\n",
    "**Notice that $w_{MAP} = w_{RR}$**"
   ]
  },
  {
   "cell_type": "code",
   "execution_count": 12,
   "metadata": {},
   "outputs": [],
   "source": [
    "from sklearn.model_selection import GridSearchCV\n",
    "from sklearn.linear_model import Ridge"
   ]
  },
  {
   "cell_type": "code",
   "execution_count": 13,
   "metadata": {},
   "outputs": [
    {
     "name": "stdout",
     "output_type": "stream",
     "text": [
      "{'alpha': 0.70000000000000007} 0.798337499746\n",
      "R-squared: 0.892846699556\n",
      "RMSE: 22276.810783\n"
     ]
    }
   ],
   "source": [
    "param_grid = {'alpha': np.linspace(0, 10, 101)}\n",
    "ridge = Ridge(normalize=True)\n",
    "gs_ridge = GridSearchCV(ridge, param_grid, cv=5)\n",
    "gs_ridge.fit(X_train, y_train)\n",
    "print(gs_ridge.best_params_, gs_ridge.best_score_)\n",
    "\n",
    "y_pred = gs_ridge.predict(X_test)\n",
    "print(\"R-squared:\", gs_ridge.score(X_test, y_test))\n",
    "print(\"RMSE:\", np.sqrt(mean_squared_error(y_test, y_pred)))"
   ]
  },
  {
   "cell_type": "markdown",
   "metadata": {},
   "source": [
    "### 3. Sparse Regression (Lasso)\n",
    "The pentalty term of Lasso will select a small subset of the d dimensions and switch off the rest, encourasing sparse solutions.\n",
    "\n",
    "**LASSO:** Least Absolute Shrinkage and Selection Operator\n",
    "\n",
    "With the LASSO, we replac the $l_2$ penalty with an $l_1$ penalty:\n",
    "$$w_{lasso} = \\operatorname*{arg\\,min}_w \\|y-\\mathbf{X}w\\|^2+\\lambda\\|w\\|_1,$$\n",
    "where\n",
    "$$\\|w\\|_1 = \\sum_{j=1}^{d}|w_j|.$$"
   ]
  },
  {
   "cell_type": "code",
   "execution_count": 14,
   "metadata": {},
   "outputs": [],
   "source": [
    "# Suppress warnings from using Lasso\n",
    "import warnings\n",
    "def warn(*args, **kwargs):\n",
    "    pass\n",
    "import warnings\n",
    "warnings.warn = warn"
   ]
  },
  {
   "cell_type": "code",
   "execution_count": 15,
   "metadata": {},
   "outputs": [],
   "source": [
    "from sklearn.linear_model import Lasso"
   ]
  },
  {
   "cell_type": "code",
   "execution_count": 16,
   "metadata": {},
   "outputs": [
    {
     "name": "stdout",
     "output_type": "stream",
     "text": [
      "{'alpha': 10.0} 0.778958046344\n",
      "R-squared: 0.883019421248\n",
      "RMSE: 23275.9343009\n"
     ]
    }
   ],
   "source": [
    "param_grid = {'alpha': np.linspace(0, 10, 11)}\n",
    "lasso = Lasso(normalize=True)\n",
    "gs_lasso = GridSearchCV(lasso, param_grid, cv=5)\n",
    "gs_lasso.fit(X_train, y_train)\n",
    "print(gs_lasso.best_params_, gs_lasso.best_score_)\n",
    "\n",
    "y_pred = gs_lasso.predict(X_test)\n",
    "print(\"R-squared:\", gs_lasso.score(X_test, y_test))\n",
    "print(\"RMSE:\", np.sqrt(mean_squared_error(y_test, y_pred)))"
   ]
  },
  {
   "cell_type": "markdown",
   "metadata": {},
   "source": [
    "### 4. Elastic Net\n",
    "Elastic Net combines $l_1$ and $l_2$ penalties.\n",
    "$$w_{elastic} = \\operatorname*{argmin}_w \\|y-\\mathbf{X}w\\|^2+\\lambda_2\\|w\\|^2+\\lambda_1\\|w\\|_1$$"
   ]
  },
  {
   "cell_type": "code",
   "execution_count": 17,
   "metadata": {},
   "outputs": [],
   "source": [
    "from sklearn.linear_model import ElasticNet"
   ]
  },
  {
   "cell_type": "code",
   "execution_count": 18,
   "metadata": {},
   "outputs": [
    {
     "name": "stdout",
     "output_type": "stream",
     "text": [
      "{'alpha': 1.0, 'l1_ratio': 1} 0.752483263323\n",
      "R-squared: 0.859179034362\n",
      "RMSE: 25537.8245446\n"
     ]
    }
   ],
   "source": [
    "param_grid = {'alpha': np.linspace(0, 1, 5), 'l1_ratio': [0.1, 1]}\n",
    "en = ElasticNet()\n",
    "gs_en = GridSearchCV(en, param_grid, cv=5)\n",
    "gs_en.fit(X_train, y_train)\n",
    "print(gs_en.best_params_, gs_en.best_score_)\n",
    "\n",
    "y_pred = gs_en.predict(X_test)\n",
    "print(\"R-squared:\", gs_en.score(X_test, y_test))\n",
    "print(\"RMSE:\", np.sqrt(mean_squared_error(y_test, y_pred)))"
   ]
  },
  {
   "cell_type": "markdown",
   "metadata": {},
   "source": [
    "### Model Comparison - Linear Regression, Ridge, Lasso, and Elastic Net\n",
    "#### Predictive Performance\n",
    "In general, regression models with regularization terms have better prediction, or generalization, than linear regression."
   ]
  },
  {
   "cell_type": "code",
   "execution_count": 19,
   "metadata": {},
   "outputs": [],
   "source": [
    "df_variance = pd.DataFrame({})\n",
    "# Apply best models from grid search\n",
    "for (k,v) in zip(['Linear Regression', 'Ridge Regression', 'Sparse Regression', 'Elastic Net'],\n",
    "                 [lr, Ridge(alpha=0.7), Lasso(alpha=10), ElasticNet(alpha=1, l1_ratio=1)]):\n",
    "    cv_results = cross_val_score(v, X, y, cv=5)\n",
    "    df_variance[k] = cv_results"
   ]
  },
  {
   "cell_type": "code",
   "execution_count": 20,
   "metadata": {},
   "outputs": [
    {
     "data": {
      "image/png": "[encoded data removed]",
      "text/plain": [
       "<matplotlib.figure.Figure at 0x1fe39828be0>"
      ]
     },
     "metadata": {
      "needs_background": "light"
     },
     "output_type": "display_data"
    }
   ],
   "source": [
    "df_variance_plot = df_variance.melt()\n",
    "plt.plot(df_variance_plot['variable'], df_variance_plot['value'], 'o')\n",
    "plt.show()"
   ]
  },
  {
   "cell_type": "markdown",
   "metadata": {},
   "source": [
    "#### Coefficients - Quadratic Penalty (Ridge) vs Linear Penalty (Lasso)\n",
    "- Suppose $w_k$ is large, all other$w_j$ are very small but non-zero\n",
    "- Linear penalty: Penalty should keep $w_k$ and push other $w_j$ to zero\n",
    "- Quadratic penalty: Will favor entries $w_j$ with all have similar size, and so it will push $w_k$ towards small value.\n",
    "\n",
    "Overall, a quadratic penalty favors many small but non-zero values, and a linear penalty term achieves sparsity"
   ]
  },
  {
   "cell_type": "code",
   "execution_count": 21,
   "metadata": {},
   "outputs": [
    {
     "data": {
      "image/png": "[encoded data removed]",
      "text/plain": [
       "<matplotlib.figure.Figure at 0x1fe39872dd8>"
      ]
     },
     "metadata": {
      "needs_background": "light"
     },
     "output_type": "display_data"
    }
   ],
   "source": [
    "plt.figure(figsize=(18, 4))\n",
    "plt.plot(lr.coef_.squeeze(), label='LR', alpha = 0.5)\n",
    "plt.plot(gs_ridge.best_estimator_.coef_.squeeze(), color = 'green', label='Ridge', alpha =0.5)\n",
    "plt.plot(gs_lasso.best_estimator_.coef_, color = 'orange', label='Lasso', alpha =0.5)\n",
    "plt.legend();"
   ]
  },
  {
   "cell_type": "markdown",
   "metadata": {},
   "source": [
    "### 5. Kernel Ridge\n",
    "Definition from sklearn: Kernel ridge regression (KRR) combines ridge regression (linear least squares with l2-norm regularization) with the kernel trick. It thus learns a linear function in the space induced by the respective kernel and the data.\n",
    "\n",
    "### Kernels\n",
    "A kernel $K(\\cdot,\\cdot): \\mathbb{R}^d \\times \\mathbb{R}^d \\rightarrow$ is a symmetric function defined as follows:\n",
    "\n",
    "For any set of n data points $x_1,...,x_n \\in \\mathbb{R}^d$, the $n \\times n$ matrix $K$, where $K_{ij} = K(x_i, x_j)$, is positive semidefinite.\n",
    "\n",
    "From Mercer's theorem, if the function $K(\\cdot,\\cdot)$ satisfies the above properties, then there exists a mapping $\\pi: \\mathbb{R}^d \\rightarrow \\mathbb{R}^D$ such that\n",
    "$$K(x_i, x_j) = \\pi(x_i)^T\\pi(x_j).$$\n",
    "\n",
    "We usually only define $K(\\cdot,\\cdot)$ and avoid ever using $\\phi(\\cdot)$. However, the kernel $K(\\cdot,\\cdot)$ implies that x_i and x_j have been mapped into a higher, or infinite, dimension $D$ to get the output."
   ]
  },
  {
   "cell_type": "code",
   "execution_count": 22,
   "metadata": {},
   "outputs": [],
   "source": [
    "from sklearn.kernel_ridge import KernelRidge"
   ]
  },
  {
   "cell_type": "code",
   "execution_count": 23,
   "metadata": {},
   "outputs": [
    {
     "name": "stdout",
     "output_type": "stream",
     "text": [
      "{'alpha': 10} 0.75619309626\n",
      "R-squared: 0.876486633334\n",
      "RMSE: 23917.0284244\n"
     ]
    }
   ],
   "source": [
    "param_grid = {'alpha': [0.1, 1, 10, 100]}\n",
    "kr = KernelRidge()\n",
    "gs_kr = GridSearchCV(kr, param_grid, cv=5)\n",
    "gs_kr.fit(X_train, y_train)\n",
    "print(gs_kr.best_params_, gs_kr.best_score_)\n",
    "\n",
    "y_pred = gs_kr.predict(X_test)\n",
    "print(\"R-squared:\", gs_kr.score(X_test, y_test))\n",
    "print(\"RMSE:\", np.sqrt(mean_squared_error(y_test, y_pred)))"
   ]
  },
  {
   "cell_type": "markdown",
   "metadata": {},
   "source": [
    "### 6. Regression Tree"
   ]
  },
  {
   "cell_type": "code",
   "execution_count": 24,
   "metadata": {},
   "outputs": [],
   "source": [
    "from sklearn.tree import DecisionTreeRegressor"
   ]
  },
  {
   "cell_type": "code",
   "execution_count": 25,
   "metadata": {},
   "outputs": [
    {
     "name": "stdout",
     "output_type": "stream",
     "text": [
      "{'max_features': 'auto', 'min_samples_split': 8, 'max_depth': 8} 0.705364013491\n",
      "0.724064797691\n",
      "35748.1683338\n"
     ]
    }
   ],
   "source": [
    "param_grid = {'max_depth': np.arange(4,9), \n",
    "              'min_samples_split': np.arange(2,11), \n",
    "              'max_features': ['auto', 'sqrt']}\n",
    "dt = DecisionTreeRegressor()\n",
    "gs_dt = GridSearchCV(dt, param_grid, cv=5)\n",
    "gs_dt.fit(X_train, y_train)\n",
    "print(gs_dt.best_params_, gs_dt.best_score_)\n",
    "\n",
    "y_pred = gs_dt.predict(X_test)\n",
    "print(gs_dt.score(X_test, y_test))\n",
    "print(np.sqrt(mean_squared_error(y_test, y_pred)))"
   ]
  },
  {
   "cell_type": "markdown",
   "metadata": {},
   "source": [
    "## Ensemble Models"
   ]
  },
  {
   "cell_type": "markdown",
   "metadata": {},
   "source": [
    "### Bagging\n",
    "\n",
    "Bagging uses the boostrap for regression or classification: **Bagging** = **B**oostrap **agg**regation\n",
    "\n",
    "#### Algorithm\n",
    "For $b = 1,...,B$:\n",
    "1. Draw a boostrap sample $\\mathbb{B}_b$ of size $n$ from training data. (Boostrap = resampling with replacement)\n",
    "2. Train a classifier or regression model $f_b$ on $\\mathbb{B}_b$\n",
    "    - For a new point $x_0$, compute:\n",
    "    $$f_avg(X_0) = \\frac{1}{B}\\sum{b=1}^{B}f_b(X_0)$$\n",
    "    - For regression, f_avg(x_0) is the prediction\n",
    "    - For classification, view f_avg(x_0) as an average over $B$ votes. Pick the majority."
   ]
  },
  {
   "cell_type": "code",
   "execution_count": 26,
   "metadata": {},
   "outputs": [],
   "source": [
    "from sklearn.ensemble import BaggingRegressor"
   ]
  },
  {
   "cell_type": "code",
   "execution_count": 27,
   "metadata": {},
   "outputs": [],
   "source": [
    "def apply_bagging(model, X_train, y_train, X_test, y_test, iteration = 10):\n",
    "    bagging = BaggingRegressor(model,\n",
    "                               n_estimators=iteration)\n",
    "    bagging.fit(X_train, y_train)\n",
    "    y_pred = bagging.predict(X_test)\n",
    "    print('R-squared: {} RMSE: {}'.format(bagging.score(X_test, y_test), \n",
    "                                          np.sqrt(mean_squared_error(y_test, y_pred))))"
   ]
  },
  {
   "cell_type": "code",
   "execution_count": 28,
   "metadata": {},
   "outputs": [
    {
     "name": "stdout",
     "output_type": "stream",
     "text": [
      "Linear Regression\n",
      "R-squared: -28958853.612029236 RMSE: 366219048.6547565\n",
      "Ridge Regression\n",
      "R-squared: 0.8958007273581908 RMSE: 21967.598557649744\n",
      "Sparse Regression\n",
      "R-squared: 0.8876132342319248 RMSE: 22814.335641428563\n",
      "Kernel Regression\n",
      "R-squared: 0.8911861644987287 RMSE: 22448.757016097577\n",
      "Decision Tree Regression\n",
      "R-squared: 0.8581976343851245 RMSE: 25626.658282072534\n"
     ]
    }
   ],
   "source": [
    "# initiate best models from previous codes\n",
    "lr = LinearRegression()\n",
    "ridge = Ridge(alpha=0.7, normalize=True)\n",
    "lasso = Lasso(alpha=10, normalize=True)\n",
    "kr = KernelRidge(alpha=10)\n",
    "dt = DecisionTreeRegressor(max_depth=7, max_features='auto', min_samples_split=9)\n",
    "\n",
    "models = [lr, ridge, lasso, kr, dt]\n",
    "model_names = ['Linear Regression',\n",
    "               'Ridge Regression',\n",
    "               'Sparse Regression',\n",
    "               'Kernel Regression',\n",
    "               'Decision Tree Regression']\n",
    "for (k, v) in zip(model_names, models):\n",
    "    print(k)\n",
    "    apply_bagging(v, X_train, np.ravel(y_train), X_test, y_test, 100)"
   ]
  },
  {
   "cell_type": "markdown",
   "metadata": {},
   "source": [
    "#### Model Improvement\n",
    "- We can further use the parameter max_features in BaggingRegressor to select a subset of features. However, if we use all features by default setting, bagged regressions are correlated. In general, when bootstrap samples are correlated, the benefit of bagging decreases. This could be the reason why bagging doesn't improve much compare to single models.\n",
    "- Random forests model is a modification of bagging where trees are designed to reduce correlation. The modification is to only consider random subset of dimensions of $x \\in \\mathbb{R}^d$."
   ]
  },
  {
   "cell_type": "markdown",
   "metadata": {},
   "source": [
    "### Random Forest\n",
    "\n",
    "#### Algorithm\n",
    "Input parameter: $m$ - a positive integer with $m<d$ often $m \\approx \\sqrt{d}$\n",
    "For $b = 1,...,B$:\n",
    "1. Draw a boostrap sample $\\mathbb{B}_b$ of size $n$ from the training data.\n",
    "2. Train a tree classfier on $\\mathbb{B}_b$, where each split is computed as follows:\n",
    "    - Randomly select $m$ dimensions of $x \\in \\mathbb{R}^d$ newly chosen for each $b$.\n",
    "    - Make the best split restricted to that subset of dimensions."
   ]
  },
  {
   "cell_type": "code",
   "execution_count": 29,
   "metadata": {},
   "outputs": [],
   "source": [
    "from sklearn.ensemble import RandomForestRegressor"
   ]
  },
  {
   "cell_type": "code",
   "execution_count": 30,
   "metadata": {},
   "outputs": [
    {
     "name": "stdout",
     "output_type": "stream",
     "text": [
      "{'max_features': 'auto', 'max_depth': 9, 'n_estimators': 100} 0.838760742815\n",
      "0.867244718782 24795.6868749\n"
     ]
    }
   ],
   "source": [
    "param_grid = {'n_estimators':[100, 500, 1000],\n",
    "              'max_depth': np.arange(4, 10), \n",
    "              'max_features': ['auto', 'sqrt']}\n",
    "rf = RandomForestRegressor()\n",
    "gs_rf = GridSearchCV(rf, param_grid, cv=5)\n",
    "gs_rf.fit(X_train, np.ravel(y_train))\n",
    "print(gs_rf.best_params_, gs_rf.best_score_)\n",
    "\n",
    "y_pred = gs_rf.predict(X_test)\n",
    "print(gs_rf.score(X_test, y_test), np.sqrt(mean_squared_error(y_test, y_pred)))"
   ]
  },
  {
   "cell_type": "markdown",
   "metadata": {},
   "source": [
    "## Performance on Kaggle"
   ]
  },
  {
   "cell_type": "code",
   "execution_count": 31,
   "metadata": {},
   "outputs": [
    {
     "ename": "ValueError",
     "evalue": "shapes (1448,246) and (244,1) not aligned: 246 (dim 1) != 244 (dim 0)",
     "output_type": "error",
     "traceback": [
      "\u001b[1;31m---------------------------------------------------------------------------\u001b[0m",
      "\u001b[1;31mValueError\u001b[0m                                Traceback (most recent call last)",
      "\u001b[1;32m<ipython-input-31-e105becbbfef>\u001b[0m in \u001b[0;36m<module>\u001b[1;34m()\u001b[0m\n\u001b[0;32m      2\u001b[0m \u001b[0mlr_kaggle\u001b[0m \u001b[1;33m=\u001b[0m \u001b[0mLinearRegression\u001b[0m\u001b[1;33m(\u001b[0m\u001b[1;33m)\u001b[0m\u001b[1;33m\u001b[0m\u001b[0m\n\u001b[0;32m      3\u001b[0m \u001b[0mlr_kaggle\u001b[0m\u001b[1;33m.\u001b[0m\u001b[0mfit\u001b[0m\u001b[1;33m(\u001b[0m\u001b[0mX\u001b[0m\u001b[1;33m,\u001b[0m \u001b[0my\u001b[0m\u001b[1;33m)\u001b[0m\u001b[1;33m\u001b[0m\u001b[0m\n\u001b[1;32m----> 4\u001b[1;33m \u001b[0my_pred_kaggle\u001b[0m \u001b[1;33m=\u001b[0m \u001b[0mlr_kaggle\u001b[0m\u001b[1;33m.\u001b[0m\u001b[0mpredict\u001b[0m\u001b[1;33m(\u001b[0m\u001b[0mX_test_kaggle\u001b[0m\u001b[1;33m)\u001b[0m\u001b[1;33m\u001b[0m\u001b[0m\n\u001b[0m\u001b[0;32m      5\u001b[0m \u001b[0my_pred_kaggle\u001b[0m\u001b[1;33m\u001b[0m\u001b[0m\n",
      "\u001b[1;32mc:\\users\\byron\\appdata\\local\\programs\\python\\python35\\lib\\site-packages\\sklearn\\linear_model\\base.py\u001b[0m in \u001b[0;36mpredict\u001b[1;34m(self, X)\u001b[0m\n\u001b[0;32m    254\u001b[0m             \u001b[0mReturns\u001b[0m \u001b[0mpredicted\u001b[0m \u001b[0mvalues\u001b[0m\u001b[1;33m.\u001b[0m\u001b[1;33m\u001b[0m\u001b[0m\n\u001b[0;32m    255\u001b[0m         \"\"\"\n\u001b[1;32m--> 256\u001b[1;33m         \u001b[1;32mreturn\u001b[0m \u001b[0mself\u001b[0m\u001b[1;33m.\u001b[0m\u001b[0m_decision_function\u001b[0m\u001b[1;33m(\u001b[0m\u001b[0mX\u001b[0m\u001b[1;33m)\u001b[0m\u001b[1;33m\u001b[0m\u001b[0m\n\u001b[0m\u001b[0;32m    257\u001b[0m \u001b[1;33m\u001b[0m\u001b[0m\n\u001b[0;32m    258\u001b[0m     \u001b[0m_preprocess_data\u001b[0m \u001b[1;33m=\u001b[0m \u001b[0mstaticmethod\u001b[0m\u001b[1;33m(\u001b[0m\u001b[0m_preprocess_data\u001b[0m\u001b[1;33m)\u001b[0m\u001b[1;33m\u001b[0m\u001b[0m\n",
      "\u001b[1;32mc:\\users\\byron\\appdata\\local\\programs\\python\\python35\\lib\\site-packages\\sklearn\\linear_model\\base.py\u001b[0m in \u001b[0;36m_decision_function\u001b[1;34m(self, X)\u001b[0m\n\u001b[0;32m    239\u001b[0m         \u001b[0mX\u001b[0m \u001b[1;33m=\u001b[0m \u001b[0mcheck_array\u001b[0m\u001b[1;33m(\u001b[0m\u001b[0mX\u001b[0m\u001b[1;33m,\u001b[0m \u001b[0maccept_sparse\u001b[0m\u001b[1;33m=\u001b[0m\u001b[1;33m[\u001b[0m\u001b[1;34m'csr'\u001b[0m\u001b[1;33m,\u001b[0m \u001b[1;34m'csc'\u001b[0m\u001b[1;33m,\u001b[0m \u001b[1;34m'coo'\u001b[0m\u001b[1;33m]\u001b[0m\u001b[1;33m)\u001b[0m\u001b[1;33m\u001b[0m\u001b[0m\n\u001b[0;32m    240\u001b[0m         return safe_sparse_dot(X, self.coef_.T,\n\u001b[1;32m--> 241\u001b[1;33m                                dense_output=True) + self.intercept_\n\u001b[0m\u001b[0;32m    242\u001b[0m \u001b[1;33m\u001b[0m\u001b[0m\n\u001b[0;32m    243\u001b[0m     \u001b[1;32mdef\u001b[0m \u001b[0mpredict\u001b[0m\u001b[1;33m(\u001b[0m\u001b[0mself\u001b[0m\u001b[1;33m,\u001b[0m \u001b[0mX\u001b[0m\u001b[1;33m)\u001b[0m\u001b[1;33m:\u001b[0m\u001b[1;33m\u001b[0m\u001b[0m\n",
      "\u001b[1;32mc:\\users\\byron\\appdata\\local\\programs\\python\\python35\\lib\\site-packages\\sklearn\\utils\\extmath.py\u001b[0m in \u001b[0;36msafe_sparse_dot\u001b[1;34m(a, b, dense_output)\u001b[0m\n\u001b[0;32m    138\u001b[0m         \u001b[1;32mreturn\u001b[0m \u001b[0mret\u001b[0m\u001b[1;33m\u001b[0m\u001b[0m\n\u001b[0;32m    139\u001b[0m     \u001b[1;32melse\u001b[0m\u001b[1;33m:\u001b[0m\u001b[1;33m\u001b[0m\u001b[0m\n\u001b[1;32m--> 140\u001b[1;33m         \u001b[1;32mreturn\u001b[0m \u001b[0mnp\u001b[0m\u001b[1;33m.\u001b[0m\u001b[0mdot\u001b[0m\u001b[1;33m(\u001b[0m\u001b[0ma\u001b[0m\u001b[1;33m,\u001b[0m \u001b[0mb\u001b[0m\u001b[1;33m)\u001b[0m\u001b[1;33m\u001b[0m\u001b[0m\n\u001b[0m\u001b[0;32m    141\u001b[0m \u001b[1;33m\u001b[0m\u001b[0m\n\u001b[0;32m    142\u001b[0m \u001b[1;33m\u001b[0m\u001b[0m\n",
      "\u001b[1;31mValueError\u001b[0m: shapes (1448,246) and (244,1) not aligned: 246 (dim 1) != 244 (dim 0)"
     ]
    }
   ],
   "source": [
    "X_test_kaggle, y_test_kaggle = CleanHouseAttributes().transform(df, drop_cols, target_col)\n",
    "lr_kaggle = LinearRegression()\n",
    "lr_kaggle.fit(X, y)\n",
    "y_pred_kaggle = lr_kaggle.predict(X_test_kaggle)\n",
    "y_pred_kaggle"
   ]
  },
  {
   "cell_type": "code",
   "execution_count": null,
   "metadata": {},
   "outputs": [],
   "source": [
    "pd.DataFrame({'Id': df_test.Id.values,\\n,\n",
    "              'SalePrice': np.squeeze(y_pred_kaggle)}).to_csv('../project-house-price-prediction/data/pred.csv',\\n"
   ]
  },
  {
   "cell_type": "markdown",
   "metadata": {},
   "source": [
    "## References for Model Introduction and Algorithms\n",
    "- Applied Machine Learning Certification - Columnbia Engineering Executive Education\n",
    "\n",
    "### Note: The coding was done through personal works and researches and not borrowed from the certification course."
   ]
  }
 ],
 "metadata": {
  "kernelspec": {
   "display_name": "Python 3",
   "language": "python",
   "name": "python3"
  },
  "language_info": {
   "codemirror_mode": {
    "name": "ipython",
    "version": 3
   },
   "file_extension": ".py",
   "mimetype": "text/x-python",
   "name": "python",
   "nbconvert_exporter": "python",
   "pygments_lexer": "ipython3",
   "version": "3.5.2"
  }
 },
 "nbformat": 4,
 "nbformat_minor": 2
}
