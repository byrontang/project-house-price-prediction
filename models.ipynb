{
 "cells": [
  {
   "cell_type": "markdown",
   "metadata": {},
   "source": [
    "# House Price Prediction\n",
    "\n",
    "\n",
    "## Models\n",
    "\n",
    "This notebook implements regression models for predictive problem, with introduction, algorithm, and special toptic for each model. Following single regression model, two ensemble methods, bagging and random forest, are also applied in pursuit of better prediction.\n",
    "\n",
    "## Overview\n",
    "#### Regression\n",
    "1. Linear Regression\n",
    "    - Probablistic View of Linear Regression\n",
    "2. Ridge Regression\n",
    "    - Probablisitc View: Ridge Regression and Bayesian Modeling\n",
    "3. Sparse Regression (Lasso)\n",
    "4. Elastic Net\n",
    "    - Model Comparison - Linear Regression, Ridge, and Lasso\n",
    "5. Kernel Ridge\n",
    "    - Kernels\n",
    "6. Regression Tree\n",
    "\n",
    "#### Ensemble\n",
    "1. Bagging\n",
    "    - Algorithm\n",
    "    - Model Improvement\n",
    "2. Random Forest\n",
    "    - Algorithm"
   ]
  },
  {
   "cell_type": "code",
   "execution_count": 1,
   "metadata": {},
   "outputs": [],
   "source": [
    "%matplotlib inline\n",
    "import matplotlib.pyplot as plt\n",
    "import numpy as np\n",
    "import pandas as pd"
   ]
  },
  {
   "cell_type": "code",
   "execution_count": 2,
   "metadata": {},
   "outputs": [],
   "source": [
    "### Read in the data\n",
    "df = pd.read_csv('../project-house-price-prediction/data/train.csv')\n",
    "df_test = pd.read_csv('../project-house-price-prediction/data/test.csv')"
   ]
  },
  {
   "cell_type": "markdown",
   "metadata": {},
   "source": [
    "## Data\n",
    "The data preparation below follows the data exploration done in the notebook data-exploration-and-preprocessing."
   ]
  },
  {
   "cell_type": "code",
   "execution_count": 3,
   "metadata": {},
   "outputs": [],
   "source": [
    "from sklearn.base import BaseEstimator, TransformerMixin"
   ]
  },
  {
   "cell_type": "code",
   "execution_count": 4,
   "metadata": {},
   "outputs": [],
   "source": [
    "class CleanHouseAttributes(BaseEstimator, TransformerMixin):\n",
    "    \"\"\"Apply rules during data exploration to clean house price dataset\"\"\"\n",
    "    \n",
    "    def fit(self, x, y=None):\n",
    "        return self\n",
    "    \n",
    "    def transform(self, df_house_price, cols_to_drop, target_col=[]):\n",
    "        # Age of building/remodle from YearBuilt and YearRemodAdd\n",
    "        df_house_price['AgeBuilding'] = 2012 - df_house_price['YearBuilt']\n",
    "        df_house_price['AgeRemodel'] = 2012 - df_house_price['YearRemodAdd']\n",
    "        \n",
    "        # Create boolean variables for Alley, PoolQC, and Fence\n",
    "        df_house_price['HasAlley'] = ~df_house_price[['Alley']].isnull()\n",
    "        df_house_price['HasPool'] = ~df_house_price[['PoolQC']].isnull()\n",
    "        df_house_price['Fence'] = ~df_house_price[['Fence']].isnull()\n",
    "\n",
    "        # Remove categories not exist in test.csv\n",
    "        df_filtered = df_house_price[(df_house_price['HouseStyle'] != '2.5Fin') &\n",
    "                                     (~df_house_price['RoofMatl'].isin(['Membran', 'Roll', 'ClyTile', 'Metal'])) &\n",
    "                                     (~df_house_price['Exterior1st'].isin(['Stone', 'ImStucc'])) &\n",
    "                                     (df_house_price['Exterior2nd'] != 'Other') &\n",
    "                                     (df_house_price['Electrical'] != 'Mix')]\n",
    "        \n",
    "        # Drop columns\n",
    "        df_dropped = df_filtered.drop(cols_to_drop + target_col + ['HasAlley', 'HasPool', 'Fence'], axis=1)\n",
    "               \n",
    "        # Fill NA for numeric columns\n",
    "        df_numeric = df_dropped.select_dtypes(include=['int64', 'float64']).apply(lambda x: x.fillna(x.mean()), axis=1)\n",
    "        \n",
    "        # Fill NA for non-numcric columns with the most frequent category\n",
    "        df_nonNumeric = df_dropped.select_dtypes(include=['object']).apply(lambda x: x.fillna(x.mode()[0]))\n",
    "                \n",
    "        X = pd.concat([df_numeric, pd.get_dummies(df_nonNumeric)], axis=1)\n",
    "        y = df_filtered[target_col]\n",
    "\n",
    "        return X, y"
   ]
  },
  {
   "cell_type": "code",
   "execution_count": 5,
   "metadata": {},
   "outputs": [],
   "source": [
    "drop_cols = ['Id', 'YearBuilt', 'YearRemodAdd', 'GarageYrBlt', 'TotalBsmtSF', \n",
    "             'TotRmsAbvGrd', 'MoSold', 'YrSold', 'GarageQual', 'Street', 'Alley', \n",
    "             'Utilities', 'LandSlope', 'Condition2', 'Heating', 'Functional', \n",
    "             'FireplaceQu', 'PoolQC', 'Fence', 'MiscFeature']\n",
    "target_col = ['SalePrice']"
   ]
  },
  {
   "cell_type": "code",
   "execution_count": 6,
   "metadata": {},
   "outputs": [
    {
     "name": "stdout",
     "output_type": "stream",
     "text": [
      "<class 'pandas.core.frame.DataFrame'>\n",
      "Int64Index: 1443 entries, 0 to 1459\n",
      "Columns: 223 entries, MSSubClass to SaleCondition_Partial\n",
      "dtypes: float64(31), uint8(192)\n",
      "memory usage: 631.3 KB\n"
     ]
    }
   ],
   "source": [
    "X, y = CleanHouseAttributes().transform(df, drop_cols, target_col)\n",
    "X.info()"
   ]
  },
  {
   "cell_type": "code",
   "execution_count": 7,
   "metadata": {},
   "outputs": [
    {
     "name": "stdout",
     "output_type": "stream",
     "text": [
      "<class 'pandas.core.frame.DataFrame'>\n",
      "Int64Index: 1459 entries, 0 to 1458\n",
      "Columns: 223 entries, MSSubClass to SaleCondition_Partial\n",
      "dtypes: float64(31), uint8(192)\n",
      "memory usage: 638.3 KB\n"
     ]
    }
   ],
   "source": [
    "X_test, y_test = CleanHouseAttributes().transform(df_test, drop_cols)\n",
    "X_test.info()"
   ]
  },
  {
   "cell_type": "code",
   "execution_count": 8,
   "metadata": {},
   "outputs": [
    {
     "data": {
      "image/png": "[encoded data removed]",
      "text/plain": [
       "<matplotlib.figure.Figure at 0x2598dd435c0>"
      ]
     },
     "metadata": {
      "needs_background": "light"
     },
     "output_type": "display_data"
    }
   ],
   "source": [
    "y.hist(bins=50)\n",
    "plt.show()"
   ]
  },
  {
   "cell_type": "markdown",
   "metadata": {},
   "source": [
    "<a id = \"sklearn\"></a>\n",
    "## Regression\n",
    "\n",
    "### Probblem Definition\n",
    "**Input:** $x \\in \\mathbb{R}^{d}, d = 243$\n",
    "\n",
    "**Output:** $y \\in \\mathbb{R}$\n",
    "\n",
    "**Goal:** Find a function $f: \\mathbb{R}^{d} \\rightarrow \\mathbb{R}$ such that $y \\approx f(x;w)$ for the data pair $(x, y)$. $f(x;w)$ is call a $\\textit{regression funciton}$. Its free parameters are $w$."
   ]
  },
  {
   "cell_type": "markdown",
   "metadata": {},
   "source": [
    "### 1. Linear Regression\n",
    "\n",
    "A regression method is called $\\textit{linear}$ if the prediction $f$ is a linear function of the unknown parameters $w$. \n",
    "\n",
    "The linear regression has the form\n",
    "$$y_{i} \\approx f(x_{i};w) = w_{0} + x_{i}^{T}w,$$\n",
    "\n",
    "or in matrix form, \n",
    "$$y = \\mathbf{X}w,$$\n",
    "where a vector of 1 is attached in the first column of matrix $\\mathbf{X}$.\n",
    "\n",
    "With least square solution, we get the loss function for linear regression as\n",
    "$$L = \\sum_{i=1}^{n}\\left(y_{i}-x_{i}^{T}w\\right)^{2} = \\|y -\\mathbf{X}w\\|^{2} = (y-\\mathbf{X}w)^{T}(y-\\mathbf{X}w)$$\n",
    "\n",
    "If we take the gradient with respect to $w$, we find that\n",
    "$$\\nabla_{w}L = 2\\mathbf{X}^T\\mathbf{X}w-2\\mathbf{X}^Ty = 0 \\Rightarrow  w_{LS} = (\\mathbf{X}^T \\mathbf{X})^{−1}\\mathbf{X}^T y$$\n",
    "\n",
    "### Probablistic View of Linear Regression\n",
    "\n",
    "Gaussian density in $n$ dimensions: Assume a diagonal covariance matrix $\\Sigma = \\sigma^2I$. The density is \n",
    "$$p(y|\\mu, \\sigma^2) = \\frac{1}{(2\\pi\\sigma^2)^\\frac{n}{2}} \\exp (-\\frac{1}{2\\sigma^2}(y-\\mu)^T(y-\\mu)).$$\n",
    "Plug $\\mu=Xw$ into the multivariate Gaussian distribution and solve for $w$ using maximum likelihood.\n",
    "$$w_{ML} = \\operatorname*{arg\\,max}_w \\ln p(y|\\mu = Xw, \\sigma^2) \n",
    "= \\operatorname*{arg\\,max}_w -\\frac{1}{2\\sigma^2}\\|y-Xw\\|^2-\\frac{n}{2}\\ln(2\\pi\\sigma^2).$$\n",
    "\n",
    "**Least squres (LS) and maximum likelihood (ML) share the same solution.**\n",
    "\n",
    "$$\\text{LS: } \\operatorname*{arg\\,min}_w\\|y-Xw\\|^2  \\Leftrightarrow  \\text{ML: } \\operatorname*{arg\\,max}_w-\\frac{1}{2\\sigma^2}\\|y-Xw\\|^2$$"
   ]
  },
  {
   "cell_type": "code",
   "execution_count": 9,
   "metadata": {},
   "outputs": [],
   "source": [
    "from sklearn.model_selection import train_test_split\n",
    "from sklearn.model_selection import cross_val_score\n",
    "from sklearn.linear_model import LinearRegression\n",
    "from sklearn.metrics import mean_squared_error"
   ]
  },
  {
   "cell_type": "code",
   "execution_count": 10,
   "metadata": {},
   "outputs": [
    {
     "name": "stdout",
     "output_type": "stream",
     "text": [
      "R-squared: 0.87554536605\n",
      "RMSE: 28925.9097315\n"
     ]
    }
   ],
   "source": [
    "X_train, X_test, y_train, y_test = train_test_split(X, y, test_size = 0.3, random_state = 42)\n",
    "lr = LinearRegression()\n",
    "lr.fit(X_train, y_train)\n",
    "y_pred = lr.predict(X_test)\n",
    "\n",
    "print(\"R-squared:\", lr.score(X_test, y_test))\n",
    "print(\"RMSE:\", np.sqrt(mean_squared_error(y_test, y_pred)))"
   ]
  },
  {
   "cell_type": "markdown",
   "metadata": {},
   "source": [
    "#### Note: See appendix for interpreting the coefficient of linear regression\n",
    "If the purpose of builing linear regression models is for interpretation. The package `statsmodels.api` would be a better option then the package `sklearn` for providing coefficients with p-value."
   ]
  },
  {
   "cell_type": "code",
   "execution_count": 11,
   "metadata": {},
   "outputs": [],
   "source": [
    "import statsmodels.api as sm"
   ]
  },
  {
   "cell_type": "code",
   "execution_count": 12,
   "metadata": {},
   "outputs": [
    {
     "name": "stdout",
     "output_type": "stream",
     "text": [
      "                            OLS Regression Results                            \n",
      "==============================================================================\n",
      "Dep. Variable:              SalePrice   R-squared:                       0.917\n",
      "Model:                            OLS   Adj. R-squared:                  0.904\n",
      "Method:                 Least Squares   F-statistic:                     72.36\n",
      "Date:                Thu, 10 Oct 2019   Prob (F-statistic):               0.00\n",
      "Time:                        08:03:49   Log-Likelihood:                -16531.\n",
      "No. Observations:                1443   AIC:                         3.344e+04\n",
      "Df Residuals:                    1252   BIC:                         3.445e+04\n",
      "Df Model:                         190                                         \n",
      "Covariance Type:            nonrobust                                         \n",
      "=========================================================================================\n",
      "                            coef    std err          t      P>|t|      [0.025      0.975]\n",
      "-----------------------------------------------------------------------------------------\n",
      "const                  4137.4208   3217.077      1.286      0.199   -2174.035    1.04e+04\n",
      "MSSubClass              -49.7914     85.727     -0.581      0.561    -217.976     118.393\n",
      "LotFrontage              -2.4750      3.129     -0.791      0.429      -8.614       3.663\n",
      "LotArea                   0.4074      0.107      3.802      0.000       0.197       0.618\n",
      "OverallQual            6072.7704   1066.380      5.695      0.000    3980.682    8164.859\n",
      "OverallCond            5963.7825    920.884      6.476      0.000    4157.137    7770.428\n",
      "MasVnrArea               10.1755      5.702      1.784      0.075      -1.012      21.362\n",
      "BsmtFinSF1               30.8121      4.879      6.315      0.000      21.239      40.385\n",
      "BsmtFinSF2               20.3886      8.950      2.278      0.023       2.830      37.948\n",
      "BsmtUnfSF                15.1576      4.162      3.642      0.000       6.993      23.323\n",
      "1stFlrSF                 15.0894      6.339      2.380      0.017       2.653      27.526\n",
      "2ndFlrSF                 31.0564      5.846      5.312      0.000      19.587      42.526\n",
      "LowQualFinSF            -14.0289     14.375     -0.976      0.329     -42.231      14.173\n",
      "GrLivArea                32.1168      5.468      5.874      0.000      21.390      42.844\n",
      "BsmtFullBath           1484.4680   2101.437      0.706      0.480   -2638.258    5607.194\n",
      "BsmtHalfBath          -2228.5090   3203.149     -0.696      0.487   -8512.640    4055.622\n",
      "FullBath               4868.2724   2359.495      2.063      0.039     239.271    9497.273\n",
      "HalfBath               1883.5204   2223.823      0.847      0.397   -2479.311    6246.351\n",
      "BedroomAbvGr          -1532.6848   1340.385     -1.143      0.253   -4162.333    1096.963\n",
      "KitchenAbvGr          -1.204e+04   5741.588     -2.097      0.036   -2.33e+04    -775.309\n",
      "Fireplaces             3322.7973   1421.793      2.337      0.020     533.438    6112.156\n",
      "GarageCars             5278.2373   2326.873      2.268      0.023     713.236    9843.238\n",
      "GarageArea                9.3162      8.062      1.156      0.248      -6.501      25.134\n",
      "WoodDeckSF               15.3949      6.228      2.472      0.014       3.177      27.613\n",
      "OpenPorchSF               4.7332     12.078      0.392      0.695     -18.963      28.429\n",
      "EnclosedPorch             6.3759     13.129      0.486      0.627     -19.382      32.134\n",
      "3SsnPorch                48.5921     23.932      2.030      0.043       1.640      95.544\n",
      "ScreenPorch              28.0145     13.027      2.151      0.032       2.458      53.571\n",
      "PoolArea                 94.6145     19.367      4.885      0.000      56.620     132.609\n",
      "MiscVal                  -0.7583      1.466     -0.517      0.605      -3.635       2.118\n",
      "AgeBuilding            -264.7004     79.210     -3.342      0.001    -420.099    -109.302\n",
      "AgeRemodel              -66.5886     58.157     -1.145      0.252    -180.685      47.508\n",
      "MSZoning_C (all)      -2.338e+04   8531.572     -2.740      0.006   -4.01e+04   -6640.381\n",
      "MSZoning_FV            1.208e+04   6333.783      1.907      0.057    -348.731    2.45e+04\n",
      "MSZoning_RH            6476.9271   6419.136      1.009      0.313   -6116.523    1.91e+04\n",
      "MSZoning_RL            6721.7060   3324.200      2.022      0.043     200.088    1.32e+04\n",
      "MSZoning_RM            2239.6555   3733.517      0.600      0.549   -5084.984    9564.295\n",
      "LotShape_IR1          -4959.3138   2887.367     -1.718      0.086   -1.06e+04     705.298\n",
      "LotShape_IR2           2483.9743   3981.138      0.624      0.533   -5326.463    1.03e+04\n",
      "LotShape_IR3           1.006e+04   7134.152      1.410      0.159   -3937.340    2.41e+04\n",
      "LotShape_Reg          -3446.1115   2953.653     -1.167      0.244   -9240.766    2348.543\n",
      "LandContour_Bnk       -4590.8622   3388.144     -1.355      0.176   -1.12e+04    2056.204\n",
      "LandContour_HLS        8814.2961   3487.982      2.527      0.012    1971.362    1.57e+04\n",
      "LandContour_Low       -4805.1723   4339.497     -1.107      0.268   -1.33e+04    3708.316\n",
      "LandContour_Lvl        4719.1592   2274.979      2.074      0.038     255.967    9182.351\n",
      "LotConfig_Corner       4274.7069   3145.638      1.359      0.174   -1896.596    1.04e+04\n",
      "LotConfig_CulDSac      1.287e+04   3714.543      3.463      0.001    5577.805    2.02e+04\n",
      "LotConfig_FR2         -4813.3442   4118.616     -1.169      0.243   -1.29e+04    3266.806\n",
      "LotConfig_FR3         -1.036e+04   1.07e+04     -0.969      0.333   -3.13e+04    1.06e+04\n",
      "LotConfig_Inside       2173.4077   2944.613      0.738      0.461   -3603.512    7950.327\n",
      "Neighborhood_Blmngtn   2975.1562   7403.533      0.402      0.688   -1.15e+04    1.75e+04\n",
      "Neighborhood_Blueste   -873.5616   1.81e+04     -0.048      0.962   -3.65e+04    3.47e+04\n",
      "Neighborhood_BrDale    5084.2508   8270.760      0.615      0.539   -1.11e+04    2.13e+04\n",
      "Neighborhood_BrkSide  -3223.8375   4848.939     -0.665      0.506   -1.27e+04    6289.105\n",
      "Neighborhood_ClearCr  -1.174e+04   5990.084     -1.960      0.050   -2.35e+04      11.952\n",
      "Neighborhood_CollgCr  -5740.4300   3183.662     -1.803      0.072    -1.2e+04     505.471\n",
      "Neighborhood_Crawfor   1.615e+04   4518.545      3.574      0.000    7283.968     2.5e+04\n",
      "Neighborhood_Edwards   -2.21e+04   3334.058     -6.628      0.000   -2.86e+04   -1.56e+04\n",
      "Neighborhood_Gilbert  -9344.0068   4061.870     -2.300      0.022   -1.73e+04   -1375.183\n",
      "Neighborhood_IDOTRR   -7756.2371   6792.981     -1.142      0.254   -2.11e+04    5570.645\n",
      "Neighborhood_MeadowV   2742.8325   8592.316      0.319      0.750   -1.41e+04    1.96e+04\n",
      "Neighborhood_Mitchel  -1.829e+04   4168.274     -4.388      0.000   -2.65e+04   -1.01e+04\n",
      "Neighborhood_NAmes    -1.534e+04   2835.472     -5.408      0.000   -2.09e+04   -9772.387\n",
      "Neighborhood_NPkVill   1.509e+04   1.31e+04      1.153      0.249   -1.06e+04    4.08e+04\n",
      "Neighborhood_NWAmes   -1.329e+04   3754.707     -3.538      0.000   -2.07e+04   -5918.912\n",
      "Neighborhood_NoRidge   3.637e+04   5144.611      7.070      0.000    2.63e+04    4.65e+04\n",
      "Neighborhood_NridgHt   2.449e+04   4444.171      5.510      0.000    1.58e+04    3.32e+04\n",
      "Neighborhood_OldTown  -1.622e+04   4991.814     -3.249      0.001    -2.6e+04   -6425.850\n",
      "Neighborhood_SWISU    -9815.3518   6541.474     -1.500      0.134   -2.26e+04    3018.109\n",
      "Neighborhood_Sawyer   -1.101e+04   3678.917     -2.991      0.003   -1.82e+04   -3787.804\n",
      "Neighborhood_SawyerW  -1069.0409   4009.811     -0.267      0.790   -8935.732    6797.650\n",
      "Neighborhood_Somerst   5888.1520   6466.581      0.911      0.363   -6798.378    1.86e+04\n",
      "Neighborhood_StoneBr     4.6e+04   5966.825      7.710      0.000    3.43e+04    5.77e+04\n",
      "Neighborhood_Timber   -9165.3752   4882.900     -1.877      0.061   -1.87e+04     414.193\n",
      "Neighborhood_Veenker   4307.3167   8215.564      0.524      0.600   -1.18e+04    2.04e+04\n",
      "Condition1_Artery      2956.8721   4869.946      0.607      0.544   -6597.282    1.25e+04\n",
      "Condition1_Feedr       6515.5149   4118.420      1.582      0.114   -1564.250    1.46e+04\n",
      "Condition1_Norm        1.387e+04   3156.942      4.393      0.000    7674.275    2.01e+04\n",
      "Condition1_PosA        3912.3297   9009.985      0.434      0.664   -1.38e+04    2.16e+04\n",
      "Condition1_PosN       -1.344e+04   6203.437     -2.167      0.030   -2.56e+04   -1270.389\n",
      "Condition1_RRAe       -1.543e+04   8125.410     -1.899      0.058   -3.14e+04     511.781\n",
      "Condition1_RRAn        5368.4780   5599.185      0.959      0.338   -5616.343    1.64e+04\n",
      "Condition1_RRNe       -4519.0855   1.64e+04     -0.275      0.783   -3.68e+04    2.77e+04\n",
      "Condition1_RRNn        4905.3651   1.16e+04      0.424      0.672   -1.78e+04    2.76e+04\n",
      "BldgType_1Fam          1.057e+04   6690.817      1.580      0.114   -2554.753    2.37e+04\n",
      "BldgType_2fmCon        1.147e+04   7326.629      1.565      0.118   -2906.768    2.58e+04\n",
      "BldgType_Duplex        3815.5798   5752.504      0.663      0.507   -7470.031    1.51e+04\n",
      "BldgType_Twnhs        -1.315e+04   5320.644     -2.471      0.014   -2.36e+04   -2708.891\n",
      "BldgType_TwnhsE       -8569.6624   4152.391     -2.064      0.039   -1.67e+04    -423.250\n",
      "HouseStyle_1.5Fin     -3021.1814   3090.515     -0.978      0.328   -9084.340    3041.978\n",
      "HouseStyle_1.5Unf      9793.2701   6911.671      1.417      0.157   -3766.465    2.34e+04\n",
      "HouseStyle_1Story      5243.2375   3944.832      1.329      0.184   -2495.973     1.3e+04\n",
      "HouseStyle_2.5Unf     -1792.2427   8149.397     -0.220      0.826   -1.78e+04    1.42e+04\n",
      "HouseStyle_2Story     -7094.4172   3491.718     -2.032      0.042   -1.39e+04    -244.153\n",
      "HouseStyle_SFoyer      1011.9935   5151.331      0.196      0.844   -9094.200    1.11e+04\n",
      "HouseStyle_SLvl          -3.2390   4444.251     -0.001      0.999   -8722.241    8715.763\n",
      "RoofStyle_Flat        -1.088e+04   1.71e+04     -0.638      0.524   -4.44e+04    2.26e+04\n",
      "RoofStyle_Gable       -1407.1979   5783.964     -0.243      0.808   -1.28e+04    9940.132\n",
      "RoofStyle_Gambrel      1221.4143   8884.569      0.137      0.891   -1.62e+04    1.87e+04\n",
      "RoofStyle_Hip         -1134.4007   5936.030     -0.191      0.848   -1.28e+04    1.05e+04\n",
      "RoofStyle_Mansard      6389.2218   1.03e+04      0.620      0.535   -1.38e+04    2.66e+04\n",
      "RoofStyle_Shed         9951.6184   1.82e+04      0.548      0.584   -2.57e+04    4.56e+04\n",
      "RoofMatl_CompShg      -1.841e+04   7103.081     -2.592      0.010   -3.23e+04   -4475.665\n",
      "RoofMatl_Tar&Grv      -2.125e+04   1.54e+04     -1.378      0.168   -5.15e+04    9003.580\n",
      "RoofMatl_WdShake      -5123.4175   1.32e+04     -0.388      0.698    -3.1e+04    2.08e+04\n",
      "RoofMatl_WdShngl       4.892e+04    1.1e+04      4.453      0.000    2.74e+04    7.05e+04\n",
      "Exterior1st_AsbShng     1.16e+04   1.21e+04      0.958      0.338   -1.22e+04    3.54e+04\n",
      "Exterior1st_AsphShn   -1048.0083   3.06e+04     -0.034      0.973    -6.1e+04     5.9e+04\n",
      "Exterior1st_BrkComm   -6296.0811   2.44e+04     -0.258      0.796   -5.41e+04    4.15e+04\n",
      "Exterior1st_BrkFace    1.721e+04   6520.394      2.640      0.008    4418.507       3e+04\n",
      "Exterior1st_CBlock    -3038.5944   1.33e+04     -0.229      0.819   -2.91e+04     2.3e+04\n",
      "Exterior1st_CemntBd     -13.2329   1.48e+04     -0.001      0.999    -2.9e+04     2.9e+04\n",
      "Exterior1st_HdBoard   -5976.6552   5772.191     -1.035      0.301   -1.73e+04    5347.579\n",
      "Exterior1st_MetalSd    -607.0559   8605.810     -0.071      0.944   -1.75e+04    1.63e+04\n",
      "Exterior1st_Plywood   -6444.6732   5846.422     -1.102      0.271   -1.79e+04    5025.192\n",
      "Exterior1st_Stucco     9734.9827   8881.611      1.096      0.273   -7689.500    2.72e+04\n",
      "Exterior1st_VinylSd   -6764.8651   7911.313     -0.855      0.393   -2.23e+04    8756.028\n",
      "Exterior1st_Wd Sdng   -2425.2870   5453.432     -0.445      0.657   -1.31e+04    8273.586\n",
      "Exterior1st_WdShing   -1791.7020   7018.384     -0.255      0.799   -1.56e+04     1.2e+04\n",
      "Exterior2nd_AsbShng   -7931.0112   1.15e+04     -0.691      0.490   -3.04e+04    1.46e+04\n",
      "Exterior2nd_AsphShn    9967.1837   1.88e+04      0.532      0.595   -2.68e+04    4.68e+04\n",
      "Exterior2nd_Brk Cmn   -1153.8212   1.67e+04     -0.069      0.945    -3.4e+04    3.16e+04\n",
      "Exterior2nd_BrkFace    -574.8812   7473.705     -0.077      0.939   -1.52e+04    1.41e+04\n",
      "Exterior2nd_CBlock    -3038.5944   1.33e+04     -0.229      0.819   -2.91e+04     2.3e+04\n",
      "Exterior2nd_CmentBd   -5168.3356   1.48e+04     -0.349      0.727   -3.42e+04    2.39e+04\n",
      "Exterior2nd_HdBoard    2595.0807   5109.392      0.508      0.612   -7428.834    1.26e+04\n",
      "Exterior2nd_ImStucc    2.007e+04   9007.263      2.228      0.026    2397.863    3.77e+04\n",
      "Exterior2nd_MetalSd    3140.2191   8401.641      0.374      0.709   -1.33e+04    1.96e+04\n",
      "Exterior2nd_Plywood     645.0386   4761.808      0.135      0.892   -8696.964    9987.042\n",
      "Exterior2nd_Stone     -2.111e+04   1.33e+04     -1.591      0.112   -4.71e+04    4918.890\n",
      "Exterior2nd_Stucco    -2112.7408   8406.346     -0.251      0.802   -1.86e+04    1.44e+04\n",
      "Exterior2nd_VinylSd    9013.3124   7474.315      1.206      0.228   -5650.251    2.37e+04\n",
      "Exterior2nd_Wd Sdng    2485.6350   4704.804      0.528      0.597   -6744.535    1.17e+04\n",
      "Exterior2nd_Wd Shng   -2690.3383   5620.473     -0.479      0.632   -1.37e+04    8336.246\n",
      "MasVnrType_BrkCmn     -6036.7432   5414.370     -1.115      0.265   -1.67e+04    4585.496\n",
      "MasVnrType_BrkFace     1174.3065   2320.601      0.506      0.613   -3378.390    5727.003\n",
      "MasVnrType_None        2062.5365   2357.637      0.875      0.382   -2562.819    6687.891\n",
      "MasVnrType_Stone       6937.3211   2894.218      2.397      0.017    1259.269    1.26e+04\n",
      "ExterQual_Ex           1.323e+04   4852.699      2.726      0.006    3710.098    2.28e+04\n",
      "ExterQual_Fa          -1051.9447   7529.475     -0.140      0.889   -1.58e+04    1.37e+04\n",
      "ExterQual_Gd          -4145.5559   3259.319     -1.272      0.204   -1.05e+04    2248.773\n",
      "ExterQual_TA          -3895.4958   3218.132     -1.210      0.226   -1.02e+04    2418.031\n",
      "ExterCond_Ex           2.318e+04   1.38e+04      1.685      0.092   -3805.123    5.02e+04\n",
      "ExterCond_Fa          -2179.2093   7502.936     -0.290      0.772   -1.69e+04    1.25e+04\n",
      "ExterCond_Gd          -2597.2510   6426.017     -0.404      0.686   -1.52e+04       1e+04\n",
      "ExterCond_Po          -1.356e+04   2.16e+04     -0.627      0.531    -5.6e+04    2.89e+04\n",
      "ExterCond_TA           -698.9193   6182.265     -0.113      0.910   -1.28e+04    1.14e+04\n",
      "Foundation_BrkTil     -1255.4393   4120.211     -0.305      0.761   -9338.719    6827.840\n",
      "Foundation_CBlock      4043.3508   3674.007      1.101      0.271   -3164.539    1.13e+04\n",
      "Foundation_PConc       4291.7344   3786.766      1.133      0.257   -3137.373    1.17e+04\n",
      "Foundation_Slab        7559.3710   6893.714      1.097      0.273   -5965.135    2.11e+04\n",
      "Foundation_Stone       8588.8656   1.01e+04      0.854      0.393   -1.11e+04    2.83e+04\n",
      "Foundation_Wood       -1.909e+04   1.32e+04     -1.452      0.147   -4.49e+04    6710.207\n",
      "BsmtQual_Ex            1.555e+04   3336.716      4.660      0.000    9003.761    2.21e+04\n",
      "BsmtQual_Fa           -1409.7889   4156.795     -0.339      0.735   -9564.842    6745.264\n",
      "BsmtQual_Gd           -6596.5753   2173.999     -3.034      0.002   -1.09e+04   -2331.492\n",
      "BsmtQual_TA           -3406.1474   2271.305     -1.500      0.134   -7862.131    1049.836\n",
      "BsmtCond_Fa           -7665.8475   7524.178     -1.019      0.308   -2.24e+04    7095.541\n",
      "BsmtCond_Gd           -4130.8049   7733.946     -0.534      0.593   -1.93e+04     1.1e+04\n",
      "BsmtCond_Po            1.774e+04    2.2e+04      0.806      0.420   -2.54e+04    6.09e+04\n",
      "BsmtCond_TA           -1802.4518   7336.718     -0.246      0.806   -1.62e+04    1.26e+04\n",
      "BsmtExposure_Av       -1186.9195   1870.560     -0.635      0.526   -4856.697    2482.858\n",
      "BsmtExposure_Gd        1.516e+04   2357.185      6.429      0.000    1.05e+04    1.98e+04\n",
      "BsmtExposure_Mn       -3099.2303   2297.056     -1.349      0.178   -7605.733    1407.273\n",
      "BsmtExposure_No       -6731.5454   1630.264     -4.129      0.000   -9929.895   -3533.195\n",
      "BsmtFinType1_ALQ        459.9019   1972.937      0.233      0.816   -3410.726    4330.530\n",
      "BsmtFinType1_BLQ       2140.7313   2167.170      0.988      0.323   -2110.954    6392.417\n",
      "BsmtFinType1_GLQ       6410.2599   2027.711      3.161      0.002    2432.173    1.04e+04\n",
      "BsmtFinType1_LwQ      -6405.4197   3016.385     -2.124      0.034   -1.23e+04    -487.692\n",
      "BsmtFinType1_Rec      -1167.1934   2287.314     -0.510      0.610   -5654.585    3320.198\n",
      "BsmtFinType1_Unf       2699.1408   2141.938      1.260      0.208   -1503.043    6901.325\n",
      "BsmtFinType2_ALQ       1.137e+04   5845.772      1.945      0.052     -99.218    2.28e+04\n",
      "BsmtFinType2_BLQ      -3172.0457   4329.257     -0.733      0.464   -1.17e+04    5321.353\n",
      "BsmtFinType2_GLQ       5936.7044   7226.757      0.821      0.412   -8241.185    2.01e+04\n",
      "BsmtFinType2_LwQ      -6356.6469   4006.691     -1.587      0.113   -1.42e+04    1503.922\n",
      "BsmtFinType2_Rec      -2996.2474   3720.246     -0.805      0.421   -1.03e+04    4302.356\n",
      "BsmtFinType2_Unf       -643.7146   3763.491     -0.171      0.864   -8027.158    6739.729\n",
      "HeatingQC_Ex           3530.3029   5811.420      0.607      0.544   -7870.893    1.49e+04\n",
      "HeatingQC_Fa           4583.5624   6488.783      0.706      0.480   -8146.524    1.73e+04\n",
      "HeatingQC_Gd            340.5700   5869.467      0.058      0.954   -1.12e+04    1.19e+04\n",
      "HeatingQC_Po          -4745.4135    2.3e+04     -0.207      0.836   -4.98e+04    4.03e+04\n",
      "HeatingQC_TA            428.3990   5775.749      0.074      0.941   -1.09e+04    1.18e+04\n",
      "CentralAir_N           1933.0836   2444.538      0.791      0.429   -2862.760    6728.927\n",
      "CentralAir_Y           2204.3372   2666.992      0.827      0.409   -3027.929    7436.603\n",
      "Electrical_FuseA       2742.6007   5219.138      0.525      0.599   -7496.621     1.3e+04\n",
      "Electrical_FuseF       4910.1279   6025.724      0.815      0.415   -6911.502    1.67e+04\n",
      "Electrical_FuseP      -4260.7197   1.39e+04     -0.307      0.759   -3.15e+04    2.29e+04\n",
      "Electrical_SBrkr        745.4119   4992.135      0.149      0.881   -9048.462    1.05e+04\n",
      "KitchenQual_Ex         1.977e+04   3304.370      5.984      0.000    1.33e+04    2.63e+04\n",
      "KitchenQual_Fa        -3903.5350   4037.540     -0.967      0.334   -1.18e+04    4017.555\n",
      "KitchenQual_Gd        -6156.5898   2153.765     -2.859      0.004   -1.04e+04   -1931.202\n",
      "KitchenQual_TA        -5577.4400   2037.423     -2.737      0.006   -9574.579   -1580.300\n",
      "GarageType_2Types     -1.911e+04   9782.953     -1.954      0.051   -3.83e+04      78.658\n",
      "GarageType_Attchd      4580.8137   2934.622      1.561      0.119   -1176.506    1.03e+04\n",
      "GarageType_Basment     6187.8238   6340.946      0.976      0.329   -6252.229    1.86e+04\n",
      "GarageType_BuiltIn     1281.6607   4095.228      0.313      0.754   -6752.605    9315.926\n",
      "GarageType_CarPort     5543.8038   8270.783      0.670      0.503   -1.07e+04    2.18e+04\n",
      "GarageType_Detchd      5657.4503   3079.747      1.837      0.066    -384.583    1.17e+04\n",
      "GarageFinish_Fin       3191.4016   1727.677      1.847      0.065    -198.060    6580.863\n",
      "GarageFinish_RFn       -594.8595   1616.951     -0.368      0.713   -3767.092    2577.373\n",
      "GarageFinish_Unf       1540.8788   1801.335      0.855      0.392   -1993.090    5074.847\n",
      "GarageCond_Ex          9396.7719   1.51e+04      0.624      0.533   -2.02e+04     3.9e+04\n",
      "GarageCond_Fa         -1925.0359   5932.336     -0.324      0.746   -1.36e+04    9713.379\n",
      "GarageCond_Gd          1342.7239   8772.226      0.153      0.878   -1.59e+04    1.86e+04\n",
      "GarageCond_Po         -8553.7397   1.02e+04     -0.835      0.404   -2.87e+04    1.16e+04\n",
      "GarageCond_TA          3876.7006   4788.987      0.810      0.418   -5518.624    1.33e+04\n",
      "PavedDrive_N           2850.9473   2916.463      0.978      0.328   -2870.746    8572.641\n",
      "PavedDrive_P           -839.0918   3654.386     -0.230      0.818   -8008.487    6330.303\n",
      "PavedDrive_Y           2125.5653   2319.048      0.917      0.360   -2424.084    6675.215\n",
      "SaleType_COD          -1.188e+04   5705.624     -2.082      0.038   -2.31e+04    -685.280\n",
      "SaleType_CWD          -1269.6615   1.22e+04     -0.104      0.917   -2.52e+04    2.27e+04\n",
      "SaleType_Con           1.344e+04   1.68e+04      0.802      0.423   -1.95e+04    4.63e+04\n",
      "SaleType_ConLD         4903.5249   8859.001      0.554      0.580   -1.25e+04    2.23e+04\n",
      "SaleType_ConLI         -765.6316    1.1e+04     -0.070      0.944   -2.23e+04    2.08e+04\n",
      "SaleType_ConLw        -7078.3432   1.13e+04     -0.626      0.531   -2.93e+04    1.51e+04\n",
      "SaleType_New           2.033e+04   1.42e+04      1.431      0.153   -7548.971    4.82e+04\n",
      "SaleType_Oth          -1074.7416   1.39e+04     -0.077      0.938   -2.83e+04    2.62e+04\n",
      "SaleType_WD           -1.247e+04   4235.777     -2.944      0.003   -2.08e+04   -4158.410\n",
      "SaleCondition_Abnorml -2065.9468   4706.552     -0.439      0.661   -1.13e+04    7167.652\n",
      "SaleCondition_AdjLand  1.649e+04   1.29e+04      1.278      0.202   -8831.845    4.18e+04\n",
      "SaleCondition_Alloca   4226.5690   8106.279      0.521      0.602   -1.17e+04    2.01e+04\n",
      "SaleCondition_Family  -3741.3444   6326.731     -0.591      0.554   -1.62e+04    8670.819\n",
      "SaleCondition_Normal   4654.0674   4113.953      1.131      0.258   -3416.935    1.27e+04\n",
      "SaleCondition_Partial -1.542e+04   1.33e+04     -1.162      0.245   -4.15e+04    1.06e+04\n",
      "==============================================================================\n",
      "Omnibus:                      716.265   Durbin-Watson:                   1.913\n",
      "Prob(Omnibus):                  0.000   Jarque-Bera (JB):            89924.690\n",
      "Skew:                          -1.294   Prob(JB):                         0.00\n",
      "Kurtosis:                      41.587   Cond. No.                     2.19e+18\n",
      "==============================================================================\n",
      "\n",
      "Warnings:\n",
      "[1] Standard Errors assume that the covariance matrix of the errors is correctly specified.\n",
      "[2] The smallest eigenvalue is 6.28e-26. This might indicate that there are\n",
      "strong multicollinearity problems or that the design matrix is singular.\n"
     ]
    }
   ],
   "source": [
    "X_sm = sm.add_constant(X)\n",
    "lr_sm = sm.OLS(y, X_sm)\n",
    "lr_sm = lr_sm.fit()\n",
    "print(lr_sm.summary())"
   ]
  },
  {
   "cell_type": "markdown",
   "metadata": {},
   "source": [
    "### 2. Ridge Regression\n",
    "Least square solution is unbiased but potentially has high variance. The value in $w_{ML}$ may be huge. In general, we often want to constraint the model parameters. One way is to add regularization. Ridge Regression addresses variance issues with $w_{ML}$ by using the squared penalty on the gression coefficient vector $w$,\n",
    "$$w_{RR} = \\operatorname*{arg\\,min}_w \\|y-\\mathbf{X}w\\|^2+\\lambda\\|w\\|^2 = (\\lambda\\mathbf{I}+\\mathbf{X}^T\\mathbf{X})^{-1}\\mathbf{X}^Ty.$$\n",
    "\n",
    "### Probablisitc View: Ridge Regression and Bayesian Modeling\n",
    "Adding a $l2$ regularization term to linear regression is like defining a prior on the unknown parameter $w$ and trying to learn its posterior. \n",
    "\n",
    "In Bayesian setting, we can model the data as:\n",
    "\n",
    "**Likelihood:** $y \\sim N(Xw, \\sigma^2I)$\n",
    "\n",
    "**Prior:** $w \\sim N(0, \\lambda^{-1}I)$ Then \n",
    "$$p(w) = (\\frac{\\lambda}{2\\pi})^{\\frac{d}{2}} e^{-\\frac{\\lambda}{2}w^Tw}$$\n",
    "\n",
    "Maximum $\\textit{a poseriori}$ (MAP) estimation seeks the most probable value $w$ under the posterior:\n",
    "$$w_{MAP} = \\operatorname*{arg\\,max}_w\\ln p(w|y,X) = \\operatorname*{arg\\,max}_w\\ln p(y|w,X) + \\ln p(w)$$\n",
    "$$=\\operatorname*{arg\\,max}_w\\frac{1}{2\\sigma^2}(y-Xw)^T(y-Xw) - \\frac{\\lambda}{2}w^Tw + const.$$\n",
    "\n",
    "Take gradient of the function, we can get the solution for $w_{MAP}$ = $(\\lambda\\sigma^2I+X^TX)^{-1}X^Ty$.\n",
    "\n",
    "**Notice that $w_{MAP} = w_{RR}$**"
   ]
  },
  {
   "cell_type": "code",
   "execution_count": 13,
   "metadata": {},
   "outputs": [],
   "source": [
    "from sklearn.model_selection import GridSearchCV\n",
    "from sklearn.linear_model import Ridge"
   ]
  },
  {
   "cell_type": "code",
   "execution_count": 14,
   "metadata": {},
   "outputs": [
    {
     "name": "stdout",
     "output_type": "stream",
     "text": [
      "{'alpha': 0.40000000000000002} 0.857969025909\n",
      "R-squared: 0.879616363038\n",
      "RMSE: 28448.8830927\n"
     ]
    }
   ],
   "source": [
    "param_grid = {'alpha': np.linspace(0, 10, 101)}\n",
    "ridge = Ridge(normalize=True)\n",
    "gs_ridge = GridSearchCV(ridge, param_grid, cv=5)\n",
    "gs_ridge.fit(X_train, y_train)\n",
    "print(gs_ridge.best_params_, gs_ridge.best_score_)\n",
    "\n",
    "y_pred = gs_ridge.predict(X_test)\n",
    "print(\"R-squared:\", gs_ridge.score(X_test, y_test))\n",
    "print(\"RMSE:\", np.sqrt(mean_squared_error(y_test, y_pred)))"
   ]
  },
  {
   "cell_type": "markdown",
   "metadata": {},
   "source": [
    "### 3. Sparse Regression (Lasso)\n",
    "The pentalty term of Lasso will select a small subset of the d dimensions and switch off the rest, encourasing sparse solutions.\n",
    "\n",
    "**LASSO:** Least Absolute Shrinkage and Selection Operator\n",
    "\n",
    "With the LASSO, we replac the $l_2$ penalty with an $l_1$ penalty:\n",
    "$$w_{lasso} = \\operatorname*{arg\\,min}_w \\|y-\\mathbf{X}w\\|^2+\\lambda\\|w\\|_1,$$\n",
    "where\n",
    "$$\\|w\\|_1 = \\sum_{j=1}^{d}|w_j|.$$"
   ]
  },
  {
   "cell_type": "code",
   "execution_count": 15,
   "metadata": {},
   "outputs": [],
   "source": [
    "# Suppress warnings from using Lasso\n",
    "import warnings\n",
    "def warn(*args, **kwargs):\n",
    "    pass\n",
    "import warnings\n",
    "warnings.warn = warn"
   ]
  },
  {
   "cell_type": "code",
   "execution_count": 16,
   "metadata": {},
   "outputs": [],
   "source": [
    "from sklearn.linear_model import Lasso"
   ]
  },
  {
   "cell_type": "code",
   "execution_count": 17,
   "metadata": {},
   "outputs": [
    {
     "name": "stdout",
     "output_type": "stream",
     "text": [
      "{'alpha': 10.0} 0.852771042618\n",
      "R-squared: 0.887929827402\n",
      "RMSE: 27448.9989803\n"
     ]
    }
   ],
   "source": [
    "param_grid = {'alpha': np.linspace(0, 10, 11)}\n",
    "lasso = Lasso(normalize=True)\n",
    "gs_lasso = GridSearchCV(lasso, param_grid, cv=5)\n",
    "gs_lasso.fit(X_train, y_train)\n",
    "print(gs_lasso.best_params_, gs_lasso.best_score_)\n",
    "\n",
    "y_pred = gs_lasso.predict(X_test)\n",
    "print(\"R-squared:\", gs_lasso.score(X_test, y_test))\n",
    "print(\"RMSE:\", np.sqrt(mean_squared_error(y_test, y_pred)))"
   ]
  },
  {
   "cell_type": "markdown",
   "metadata": {},
   "source": [
    "### 4. Elastic Net\n",
    "Elastic Net combines $l_1$ and $l_2$ penalties.\n",
    "$$w_{elastic} = \\operatorname*{argmin}_w \\|y-\\mathbf{X}w\\|^2+\\lambda_2\\|w\\|^2+\\lambda_1\\|w\\|_1$$"
   ]
  },
  {
   "cell_type": "code",
   "execution_count": 18,
   "metadata": {},
   "outputs": [],
   "source": [
    "from sklearn.linear_model import ElasticNet"
   ]
  },
  {
   "cell_type": "code",
   "execution_count": 19,
   "metadata": {},
   "outputs": [
    {
     "name": "stdout",
     "output_type": "stream",
     "text": [
      "{'alpha': 0.25, 'l1_ratio': 0.1} 0.837897356181\n",
      "R-squared: 0.869669502341\n",
      "RMSE: 29600.8728535\n"
     ]
    }
   ],
   "source": [
    "param_grid = {'alpha': np.linspace(0, 1, 5), 'l1_ratio': [0.1, 1]}\n",
    "en = ElasticNet()\n",
    "gs_en = GridSearchCV(en, param_grid, cv=5)\n",
    "gs_en.fit(X_train, y_train)\n",
    "print(gs_en.best_params_, gs_en.best_score_)\n",
    "\n",
    "y_pred = gs_en.predict(X_test)\n",
    "print(\"R-squared:\", gs_en.score(X_test, y_test))\n",
    "print(\"RMSE:\", np.sqrt(mean_squared_error(y_test, y_pred)))"
   ]
  },
  {
   "cell_type": "markdown",
   "metadata": {},
   "source": [
    "### Model Comparison - Linear Regression, Ridge, Lasso, and Elastic Net\n",
    "#### Predictive Performance\n",
    "In general, regression models with regularization terms have better prediction, or generalization, than linear regression."
   ]
  },
  {
   "cell_type": "code",
   "execution_count": 20,
   "metadata": {},
   "outputs": [],
   "source": [
    "df_variance = pd.DataFrame({})\n",
    "# Apply best models from grid search\n",
    "for (k,v) in zip(['Linear Regression', 'Ridge Regression', 'Sparse Regression', 'Elastic Net'],\n",
    "                 [lr, Ridge(alpha=0.7), Lasso(alpha=10), ElasticNet(alpha=1, l1_ratio=1)]):\n",
    "    cv_results = cross_val_score(v, X, y, cv=5)\n",
    "    df_variance[k] = cv_results"
   ]
  },
  {
   "cell_type": "code",
   "execution_count": 21,
   "metadata": {},
   "outputs": [
    {
     "data": {
      "image/png": "[encoded data removed]",
      "text/plain": [
       "<matplotlib.figure.Figure at 0x2598ddb8e10>"
      ]
     },
     "metadata": {
      "needs_background": "light"
     },
     "output_type": "display_data"
    }
   ],
   "source": [
    "df_variance_plot = df_variance.melt()\n",
    "plt.plot(df_variance_plot['variable'], df_variance_plot['value'], 'o')\n",
    "plt.show()"
   ]
  },
  {
   "cell_type": "markdown",
   "metadata": {},
   "source": [
    "#### Coefficients - Quadratic Penalty (Ridge) vs Linear Penalty (Lasso)\n",
    "- Suppose $w_k$ is large, all other$w_j$ are very small but non-zero\n",
    "- Linear penalty: Penalty should keep $w_k$ and push other $w_j$ to zero\n",
    "- Quadratic penalty: Will favor entries $w_j$ with all have similar size, and so it will push $w_k$ towards small value.\n",
    "\n",
    "Overall, a quadratic penalty favors many small but non-zero values, and a linear penalty term achieves sparsity"
   ]
  },
  {
   "cell_type": "code",
   "execution_count": 22,
   "metadata": {},
   "outputs": [
    {
     "data": {
      "image/png": "[encoded data removed]",
      "text/plain": [
       "<matplotlib.figure.Figure at 0x2598dc41320>"
      ]
     },
     "metadata": {
      "needs_background": "light"
     },
     "output_type": "display_data"
    }
   ],
   "source": [
    "plt.figure(figsize=(18, 4))\n",
    "plt.plot(lr.coef_.squeeze(), label='LR', alpha = 0.5)\n",
    "plt.plot(gs_ridge.best_estimator_.coef_.squeeze(), color = 'green', label='Ridge', alpha =0.5)\n",
    "plt.plot(gs_lasso.best_estimator_.coef_, color = 'orange', label='Lasso', alpha =0.5)\n",
    "plt.legend();"
   ]
  },
  {
   "cell_type": "markdown",
   "metadata": {},
   "source": [
    "### 5. Kernel Ridge\n",
    "Definition from sklearn: Kernel ridge regression (KRR) combines ridge regression (linear least squares with l2-norm regularization) with the kernel trick. It thus learns a linear function in the space induced by the respective kernel and the data.\n",
    "\n",
    "### Kernels\n",
    "A kernel $K(\\cdot,\\cdot): \\mathbb{R}^d \\times \\mathbb{R}^d \\rightarrow$ is a symmetric function defined as follows:\n",
    "\n",
    "For any set of n data points $x_1,...,x_n \\in \\mathbb{R}^d$, the $n \\times n$ matrix $K$, where $K_{ij} = K(x_i, x_j)$, is positive semidefinite.\n",
    "\n",
    "From Mercer's theorem, if the function $K(\\cdot,\\cdot)$ satisfies the above properties, then there exists a mapping $\\pi: \\mathbb{R}^d \\rightarrow \\mathbb{R}^D$ such that\n",
    "$$K(x_i, x_j) = \\pi(x_i)^T\\pi(x_j).$$\n",
    "\n",
    "We usually only define $K(\\cdot,\\cdot)$ and avoid ever using $\\phi(\\cdot)$. However, the kernel $K(\\cdot,\\cdot)$ implies that x_i and x_j have been mapped into a higher, or infinite, dimension $D$ to get the output."
   ]
  },
  {
   "cell_type": "code",
   "execution_count": 23,
   "metadata": {},
   "outputs": [],
   "source": [
    "from sklearn.kernel_ridge import KernelRidge"
   ]
  },
  {
   "cell_type": "code",
   "execution_count": 24,
   "metadata": {},
   "outputs": [
    {
     "name": "stdout",
     "output_type": "stream",
     "text": [
      "{'alpha': 10} 0.854513811995\n",
      "R-squared: 0.887205666312\n",
      "RMSE: 27537.5394431\n"
     ]
    }
   ],
   "source": [
    "param_grid = {'alpha': [0.1, 1, 10, 100]}\n",
    "kr = KernelRidge()\n",
    "gs_kr = GridSearchCV(kr, param_grid, cv=5)\n",
    "gs_kr.fit(X_train, y_train)\n",
    "print(gs_kr.best_params_, gs_kr.best_score_)\n",
    "\n",
    "y_pred = gs_kr.predict(X_test)\n",
    "print(\"R-squared:\", gs_kr.score(X_test, y_test))\n",
    "print(\"RMSE:\", np.sqrt(mean_squared_error(y_test, y_pred)))"
   ]
  },
  {
   "cell_type": "markdown",
   "metadata": {},
   "source": [
    "### 6. Regression Tree"
   ]
  },
  {
   "cell_type": "code",
   "execution_count": 25,
   "metadata": {},
   "outputs": [],
   "source": [
    "from sklearn.tree import DecisionTreeRegressor"
   ]
  },
  {
   "cell_type": "code",
   "execution_count": 26,
   "metadata": {},
   "outputs": [
    {
     "name": "stdout",
     "output_type": "stream",
     "text": [
      "{'min_samples_split': 9, 'max_depth': 7, 'max_features': 'auto'} 0.695009862103\n",
      "0.771352769716\n",
      "39207.0767775\n"
     ]
    }
   ],
   "source": [
    "param_grid = {'max_depth': np.arange(4,9), \n",
    "              'min_samples_split': np.arange(2,11), \n",
    "              'max_features': ['auto', 'sqrt']}\n",
    "dt = DecisionTreeRegressor()\n",
    "gs_dt = GridSearchCV(dt, param_grid, cv=5)\n",
    "gs_dt.fit(X_train, y_train)\n",
    "print(gs_dt.best_params_, gs_dt.best_score_)\n",
    "\n",
    "y_pred = gs_dt.predict(X_test)\n",
    "print(gs_dt.score(X_test, y_test))\n",
    "print(np.sqrt(mean_squared_error(y_test, y_pred)))"
   ]
  },
  {
   "cell_type": "markdown",
   "metadata": {},
   "source": [
    "## Ensemble Models"
   ]
  },
  {
   "cell_type": "markdown",
   "metadata": {},
   "source": [
    "### Bagging\n",
    "\n",
    "Bagging uses the boostrap for regression or classification: **Bagging** = **B**oostrap **agg**regation\n",
    "\n",
    "#### Algorithm\n",
    "For $b = 1,...,B$:\n",
    "1. Draw a boostrap sample $\\mathbb{B}_b$ of size $n$ from training data. (Boostrap = resampling with replacement)\n",
    "2. Train a classifier or regression model $f_b$ on $\\mathbb{B}_b$\n",
    "    - For a new point $x_0$, compute:\n",
    "    $$f_avg(X_0) = \\frac{1}{B}\\sum{b=1}^{B}f_b(X_0)$$\n",
    "    - For regression, f_avg(x_0) is the prediction\n",
    "    - For classification, view f_avg(x_0) as an average over $B$ votes. Pick the majority."
   ]
  },
  {
   "cell_type": "code",
   "execution_count": 27,
   "metadata": {},
   "outputs": [],
   "source": [
    "from sklearn.ensemble import BaggingRegressor"
   ]
  },
  {
   "cell_type": "code",
   "execution_count": 28,
   "metadata": {},
   "outputs": [],
   "source": [
    "def apply_bagging(model, X_train, y_train, X_test, y_test, iteration = 10):\n",
    "    bagging = BaggingRegressor(model,\n",
    "                               n_estimators=iteration)\n",
    "    bagging.fit(X_train, y_train)\n",
    "    y_pred = bagging.predict(X_test)\n",
    "    print('R-squared: {} RMSE: {}'.format(bagging.score(X_test, y_test), \n",
    "                                          np.sqrt(mean_squared_error(y_test, y_pred))))"
   ]
  },
  {
   "cell_type": "code",
   "execution_count": 29,
   "metadata": {},
   "outputs": [
    {
     "name": "stdout",
     "output_type": "stream",
     "text": [
      "Linear Regression\n",
      "R-squared: -573207.6422663371 RMSE: 62078019.85683996\n",
      "Ridge Regression\n",
      "R-squared: 0.8703482420457372 RMSE: 29523.694010441923\n",
      "Sparse Regression\n",
      "R-squared: 0.8900491541508485 RMSE: 27188.220161573994\n",
      "Kernel Regression\n",
      "R-squared: 0.8873744318652382 RMSE: 27516.930571959405\n",
      "Decision Tree Regression\n",
      "R-squared: 0.876959594580181 RMSE: 28761.091742617737\n"
     ]
    }
   ],
   "source": [
    "# initiate best models from previous codes\n",
    "lr = LinearRegression()\n",
    "ridge = Ridge(alpha=0.7, normalize=True)\n",
    "lasso = Lasso(alpha=10, normalize=True)\n",
    "kr = KernelRidge(alpha=10)\n",
    "dt = DecisionTreeRegressor(max_depth=7, max_features='auto', min_samples_split=9)\n",
    "\n",
    "models = [lr, ridge, lasso, kr, dt]\n",
    "model_names = ['Linear Regression',\n",
    "               'Ridge Regression',\n",
    "               'Sparse Regression',\n",
    "               'Kernel Regression',\n",
    "               'Decision Tree Regression']\n",
    "for (k, v) in zip(model_names, models):\n",
    "    print(k)\n",
    "    apply_bagging(v, X_train, np.ravel(y_train), X_test, y_test, 100)"
   ]
  },
  {
   "cell_type": "markdown",
   "metadata": {},
   "source": [
    "#### Model Improvement\n",
    "- We can further use the parameter max_features in BaggingRegressor to select a subset of features. However, if we use all features by default setting, bagged regressions are correlated. In general, when bootstrap samples are correlated, the benefit of bagging decreases. This could be the reason why bagging doesn't improve much compare to single models.\n",
    "- Random forests model is a modification of bagging where trees are designed to reduce correlation. The modification is to only consider random subset of dimensions of $x \\in \\mathbb{R}^d$."
   ]
  },
  {
   "cell_type": "markdown",
   "metadata": {},
   "source": [
    "### Random Forest\n",
    "\n",
    "#### Algorithm\n",
    "Input parameter: $m$ - a positive integer with $m<d$ often $m \\approx \\sqrt{d}$\n",
    "For $b = 1,...,B$:\n",
    "1. Draw a boostrap sample $\\mathbb{B}_b$ of size $n$ from the training data.\n",
    "2. Train a tree classfier on $\\mathbb{B}_b$, where each split is computed as follows:\n",
    "    - Randomly select $m$ dimensions of $x \\in \\mathbb{R}^d$ newly chosen for each $b$.\n",
    "    - Make the best split restricted to that subset of dimensions."
   ]
  },
  {
   "cell_type": "code",
   "execution_count": 30,
   "metadata": {},
   "outputs": [],
   "source": [
    "from sklearn.ensemble import RandomForestRegressor"
   ]
  },
  {
   "cell_type": "code",
   "execution_count": 31,
   "metadata": {},
   "outputs": [
    {
     "name": "stdout",
     "output_type": "stream",
     "text": [
      "{'max_depth': 8, 'n_estimators': 500, 'max_features': 'auto'} 0.828238688507\n",
      "0.883983324093 27928.1198586\n"
     ]
    }
   ],
   "source": [
    "param_grid = {'n_estimators':[100, 250, 500],\n",
    "              'max_depth': [3, 5, 8], \n",
    "              'max_features': ['auto', 'sqrt']}\n",
    "rf = RandomForestRegressor()\n",
    "gs_rf = GridSearchCV(rf, param_grid, cv=5)\n",
    "gs_rf.fit(X_train, np.ravel(y_train))\n",
    "print(gs_rf.best_params_, gs_rf.best_score_)\n",
    "\n",
    "y_pred = gs_rf.predict(X_test)\n",
    "print(gs_rf.score(X_test, y_test), np.sqrt(mean_squared_error(y_test, y_pred)))"
   ]
  },
  {
   "cell_type": "markdown",
   "metadata": {},
   "source": [
    "## Performance on Kaggle\n",
    "\n",
    "Using best models for final Kaggle submission, tt turns out that Lasso + Baggins has similar results with Random Forest. However, both are not very competitive models."
   ]
  },
  {
   "cell_type": "code",
   "execution_count": 32,
   "metadata": {},
   "outputs": [],
   "source": [
    "# Lasso + Bagging: 0.16457\n",
    "X_test_kaggle, y_test_kaggle = CleanHouseAttributes().transform(df_test, drop_cols)\n",
    "bagging = BaggingRegressor(Lasso(alpha=10, normalize=True),\n",
    "                           n_estimators=100)\n",
    "bagging.fit(X, np.ravel(y))\n",
    "y_pred_kaggle = bagging.predict(X_test_kaggle)\n",
    "pd.DataFrame({'Id': df_test.Id.values,\n",
    "              'SalePrice': np.squeeze(y_pred_kaggle)}).to_csv('../project-house-price-prediction/data/pred.csv', index=False)"
   ]
  },
  {
   "cell_type": "code",
   "execution_count": 33,
   "metadata": {},
   "outputs": [],
   "source": [
    "# Random Forest: 0.16539\n",
    "param_grid = {'n_estimators':[100, 250, 500],\n",
    "              'max_depth': [3, 5, 8], \n",
    "              'max_features': ['auto', 'sqrt']}\n",
    "rf = RandomForestRegressor()\n",
    "bagging.fit(X, np.ravel(y))\n",
    "y_pred_kaggle = bagging.predict(X_test_kaggle)\n",
    "pd.DataFrame({'Id': df_test.Id.values,\n",
    "              'SalePrice': np.squeeze(y_pred_kaggle)}).to_csv('../project-house-price-prediction/data/pred.csv', index=False)"
   ]
  },
  {
   "cell_type": "markdown",
   "metadata": {},
   "source": [
    "## References for Model Introduction and Algorithms\n",
    "- Applied Machine Learning Certification - Columnbia Engineering Executive Education\n",
    "\n",
    "#### Note: The coding was done through personal works and researches and not borrowed from the certification course."
   ]
  }
 ],
 "metadata": {
  "kernelspec": {
   "display_name": "Python 3",
   "language": "python",
   "name": "python3"
  },
  "language_info": {
   "codemirror_mode": {
    "name": "ipython",
    "version": 3
   },
   "file_extension": ".py",
   "mimetype": "text/x-python",
   "name": "python",
   "nbconvert_exporter": "python",
   "pygments_lexer": "ipython3",
   "version": "3.5.2"
  }
 },
 "nbformat": 4,
 "nbformat_minor": 2
}
