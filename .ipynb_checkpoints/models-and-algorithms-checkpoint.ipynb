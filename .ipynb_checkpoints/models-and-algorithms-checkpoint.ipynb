{
 "cells": [
  {
   "cell_type": "markdown",
   "metadata": {},
   "source": [
    "# House Price Prediction\n",
    "\n",
    "\n",
    "## Models\n",
    "\n",
    "This notebook implements regression models to predict continuous output and introduces algorithm of each model with special toptics while relevant. After the section of single model, two ensemble methods, bagging and random forest, are also discussed and applied in pursuit of better prediction performance.\n",
    "\n",
    "## Overview\n",
    "#### Regression\n",
    "1. Linear Regression\n",
    "    - Probablistic View of Linear Regression\n",
    "2. Ridge Regression\n",
    "    - Probablisitc View: Ridge Regression and Bayesian Modeling\n",
    "3. Sparse Regression (Lasso)\n",
    "4. Elastic Net\n",
    "    - Model Comparison - Linear Regression, Ridge, and Lasso\n",
    "5. Kernel Ridge\n",
    "    - Kernels\n",
    "6. Regression Tree\n",
    "\n",
    "#### Ensemble\n",
    "1. Bagging\n",
    "    - Algorithm\n",
    "    - Model Improvement\n",
    "2. Random Forest\n",
    "    - Algorithm"
   ]
  },
  {
   "cell_type": "code",
   "execution_count": 1,
   "metadata": {},
   "outputs": [],
   "source": [
    "%matplotlib inline\n",
    "import matplotlib.pyplot as plt\n",
    "import numpy as np\n",
    "import pandas as pd"
   ]
  },
  {
   "cell_type": "code",
   "execution_count": 2,
   "metadata": {},
   "outputs": [],
   "source": [
    "### Read in the data\n",
    "df = pd.read_csv('../project-house-price-prediction/data/train.csv')\n",
    "df_test = pd.read_csv('../project-house-price-prediction/data/test.csv')"
   ]
  },
  {
   "cell_type": "markdown",
   "metadata": {},
   "source": [
    "## Data\n",
    "***The data preparation below follows the process done in the seperate notebook data-exploration-and-preprocessing under the same repository.***"
   ]
  },
  {
   "cell_type": "code",
   "execution_count": 3,
   "metadata": {},
   "outputs": [],
   "source": [
    "from sklearn.base import BaseEstimator, TransformerMixin\n",
    "from sklearn.compose import ColumnTransformer\n",
    "from sklearn.pipeline import Pipeline\n",
    "from sklearn.impute import SimpleImputer\n",
    "from sklearn.preprocessing import StandardScaler, OneHotEncoder\n",
    "from sklearn.linear_model import LinearRegression\n",
    "from sklearn.model_selection import train_test_split\n",
    "from sklearn.metrics import mean_squared_error"
   ]
  },
  {
   "cell_type": "code",
   "execution_count": 4,
   "metadata": {},
   "outputs": [],
   "source": [
    "class HouseDataFeatureEngineering(BaseEstimator, TransformerMixin):\n",
    "    \"\"\"Apply rules during data exploration to clean house price dataset\"\"\"\n",
    "    \n",
    "    def fit(self, X, y=None):\n",
    "        return self\n",
    "    \n",
    "    def transform(self, X, y=None):\n",
    "        # Numerical Features:\n",
    "            # Age of building/remodle from YearBuilt and YearRemodAdd\n",
    "        if np.all((X.dtypes == 'int64') | (X.dtypes == 'float64')):\n",
    "            X = X.assign(AgeBuilding = 2012 - X['YearBuilt'],\n",
    "                         AgeRemodel = 2012 - X['YearRemodAdd'])\n",
    "\n",
    "            X.drop(['YearBuilt', 'YearRemodAdd'], axis=1, inplace=True)\n",
    "        \n",
    "        # Non-numerical Features:\n",
    "            # Create boolean variables for Alley, PoolQC, and Fence\n",
    "        if np.all(X.dtypes == 'object'):\n",
    "            X = X.assign(HasAlley = [False if x is None else True for x in X.Alley],\n",
    "                            HasPool = [False if x is None else True for x in X.PoolQC],\n",
    "                            Fence = [False if x is None else True for x in X.Fence])\n",
    "            X.drop(['Alley', 'PoolQC', 'Fence'], axis=1, inplace=True)\n",
    "\n",
    "        return X"
   ]
  },
  {
   "cell_type": "code",
   "execution_count": 5,
   "metadata": {},
   "outputs": [],
   "source": [
    "class HouseDataDropColumns(BaseEstimator, TransformerMixin):\n",
    "    \"\"\"Apply rules during data exploration to clean house price dataset\"\"\"\n",
    "    \n",
    "    def __init__(self, drop_columns=['Id', 'GarageYrBlt', 'TotalBsmtSF', 'TotRmsAbvGrd', 'MoSold', \n",
    "                                     'YrSold', 'GarageQual', 'Street', 'Utilities', 'LandSlope', \n",
    "                                     'Condition2', 'Heating', 'Functional', 'FireplaceQu', 'MiscFeature']):\n",
    "        self.drop_columns = drop_columns        \n",
    "    \n",
    "    def fit(self, X, y=None):\n",
    "        return self\n",
    "    \n",
    "    def transform(self, X, y=None):\n",
    "        # To apply the transformer on numeric and non-numeric data frames respectively\n",
    "        drop_it = [x for x in self.drop_columns if x in X.columns]\n",
    "        X.drop(drop_it, axis=1, inplace=True)\n",
    "\n",
    "        return X"
   ]
  },
  {
   "cell_type": "code",
   "execution_count": 6,
   "metadata": {},
   "outputs": [],
   "source": [
    "# Build preprocessing pipeline by numeric and non-numeric columns\n",
    "numeric_features = df.drop(['SalePrice'], axis=1).select_dtypes(include=['int64', 'float64']).columns\n",
    "numeric_transformer = Pipeline(steps=[\n",
    "    ('drop', HouseDataDropColumns()),\n",
    "    ('feature', HouseDataFeatureEngineering()),\n",
    "    ('imputer', SimpleImputer(strategy='median'))])\n",
    "\n",
    "categorical_features = df.select_dtypes(include=['object']).columns\n",
    "categorical_transformer = Pipeline(steps=[\n",
    "    ('drop', HouseDataDropColumns()),\n",
    "    ('feature', HouseDataFeatureEngineering()),\n",
    "    ('imputer', SimpleImputer(strategy='most_frequent')),\n",
    "    ('onehot', OneHotEncoder(handle_unknown='ignore'))])\n",
    "\n",
    "preprocessor = ColumnTransformer(\n",
    "    transformers=[\n",
    "        ('num', numeric_transformer, numeric_features),\n",
    "        ('cat', categorical_transformer, categorical_features)])"
   ]
  },
  {
   "cell_type": "code",
   "execution_count": 7,
   "metadata": {},
   "outputs": [],
   "source": [
    "X = df.drop(['SalePrice'], axis = 1)\n",
    "y = df[['SalePrice']]\n",
    "X_train, X_test, y_train, y_test = train_test_split(X, y, test_size = 0.3, random_state = 45)"
   ]
  },
  {
   "cell_type": "markdown",
   "metadata": {},
   "source": [
    "<a id = \"sklearn\"></a>\n",
    "## Regression\n",
    "\n",
    "### Probblem Definition\n",
    "**Input:** $x \\in \\mathbb{R}^{d}, d = 243$\n",
    "\n",
    "**Output:** $y \\in \\mathbb{R}$\n",
    "\n",
    "**Goal:** Find a function $f: \\mathbb{R}^{d} \\rightarrow \\mathbb{R}$ such that $y \\approx f(x;w)$ for the data pair $(x, y)$. $f(x;w)$ is call a $\\textit{regression funciton}$. Its free parameters are $w$."
   ]
  },
  {
   "cell_type": "markdown",
   "metadata": {},
   "source": [
    "### 1. Linear Regression\n",
    "\n",
    "A regression method is called $\\textit{linear}$ if the prediction $f$ is a linear function of the unknown parameters $w$. \n",
    "\n",
    "The linear regression has the form\n",
    "$$y_{i} \\approx f(x_{i};w) = w_{0} + x_{i}^{T}w,$$\n",
    "\n",
    "or in matrix form, \n",
    "$$y = \\mathbf{X}w,$$\n",
    "where a vector of 1 is attached in the first column of matrix $\\mathbf{X}$.\n",
    "\n",
    "With least square solution, we get the loss function for linear regression as\n",
    "$$L = \\sum_{i=1}^{n}\\left(y_{i}-x_{i}^{T}w\\right)^{2} = \\|y -\\mathbf{X}w\\|^{2} = (y-\\mathbf{X}w)^{T}(y-\\mathbf{X}w)$$\n",
    "\n",
    "If we take the gradient with respect to $w$, we find that\n",
    "$$\\nabla_{w}L = 2\\mathbf{X}^T\\mathbf{X}w-2\\mathbf{X}^Ty = 0 \\Rightarrow  w_{LS} = (\\mathbf{X}^T \\mathbf{X})^{−1}\\mathbf{X}^T y$$\n",
    "\n",
    "### Probablistic View of Linear Regression\n",
    "\n",
    "Gaussian density in $n$ dimensions: Assume a diagonal covariance matrix $\\Sigma = \\sigma^2I$. The density is \n",
    "$$p(y|\\mu, \\sigma^2) = \\frac{1}{(2\\pi\\sigma^2)^\\frac{n}{2}} \\exp (-\\frac{1}{2\\sigma^2}(y-\\mu)^T(y-\\mu)).$$\n",
    "Plug $\\mu=Xw$ into the multivariate Gaussian distribution and solve for $w$ using maximum likelihood.\n",
    "$$w_{ML} = \\operatorname*{arg\\,max}_w \\ln p(y|\\mu = Xw, \\sigma^2) \n",
    "= \\operatorname*{arg\\,max}_w -\\frac{1}{2\\sigma^2}\\|y-Xw\\|^2-\\frac{n}{2}\\ln(2\\pi\\sigma^2).$$\n",
    "\n",
    "**Least squres (LS) and maximum likelihood (ML) share the same solution.**\n",
    "\n",
    "$$\\text{LS: } \\operatorname*{arg\\,min}_w\\|y-Xw\\|^2  \\Leftrightarrow  \\text{ML: } \\operatorname*{arg\\,max}_w-\\frac{1}{2\\sigma^2}\\|y-Xw\\|^2$$"
   ]
  },
  {
   "cell_type": "code",
   "execution_count": 8,
   "metadata": {},
   "outputs": [],
   "source": [
    "from sklearn.model_selection import cross_val_score\n",
    "from sklearn.linear_model import LinearRegression\n",
    "from sklearn.metrics import mean_squared_error"
   ]
  },
  {
   "cell_type": "code",
   "execution_count": 9,
   "metadata": {},
   "outputs": [
    {
     "name": "stdout",
     "output_type": "stream",
     "text": [
      "R-squared: 0.8922996809485362\n",
      "RMSE: 25964.15416722345\n"
     ]
    }
   ],
   "source": [
    "lr = Pipeline(steps=[('preprocessor', preprocessor),\n",
    "                     ('linearReg', LinearRegression())])\n",
    "lr.fit(X_train, y_train)\n",
    "y_pred = lr.predict(X_test)\n",
    "\n",
    "print(\"R-squared:\", lr.score(X_test, y_test))\n",
    "print(\"RMSE:\", np.sqrt(mean_squared_error(y_test, y_pred)))"
   ]
  },
  {
   "cell_type": "markdown",
   "metadata": {},
   "source": [
    "If the purpose of builing linear regression models is for interpretation. The package `statsmodels.api` would be a better option than the package `sklearn` for providing coefficients with p-value."
   ]
  },
  {
   "cell_type": "code",
   "execution_count": 10,
   "metadata": {},
   "outputs": [],
   "source": [
    "# The codes are not run here as it couldn't be applied in the pipeline\n",
    "# import statsmodels.api as sm\n",
    "# X_sm = sm.add_constant(X)\n",
    "# lr_sm = sm.OLS(y, X_sm)\n",
    "# lr_sm = lr_sm.fit()\n",
    "# print(lr_sm.summary())"
   ]
  },
  {
   "cell_type": "markdown",
   "metadata": {},
   "source": [
    "### 2. Ridge Regression\n",
    "Least square solution is unbiased but potentially has high variance. The value in $w_{ML}$ may be huge. In general, we often want to constraint the model parameters. One way is to add regularization. Ridge Regression addresses variance issues with $w_{ML}$ by using the squared penalty on the gression coefficient vector $w$,\n",
    "$$w_{RR} = \\operatorname*{arg\\,min}_w \\|y-\\mathbf{X}w\\|^2+\\lambda\\|w\\|^2 = (\\lambda\\mathbf{I}+\\mathbf{X}^T\\mathbf{X})^{-1}\\mathbf{X}^Ty.$$\n",
    "\n",
    "### Probablisitc View: Ridge Regression and Bayesian Modeling\n",
    "Adding a $l2$ regularization term to linear regression is like defining a prior on the unknown parameter $w$ and trying to learn its posterior. \n",
    "\n",
    "In Bayesian setting, we can model the data as:\n",
    "\n",
    "**Likelihood:** $y \\sim N(Xw, \\sigma^2I)$\n",
    "\n",
    "**Prior:** $w \\sim N(0, \\lambda^{-1}I)$ Then \n",
    "$$p(w) = (\\frac{\\lambda}{2\\pi})^{\\frac{d}{2}} e^{-\\frac{\\lambda}{2}w^Tw}$$\n",
    "\n",
    "Maximum $\\textit{a poseriori}$ (MAP) estimation seeks the most probable value $w$ under the posterior:\n",
    "$$w_{MAP} = \\operatorname*{arg\\,max}_w\\ln p(w|y,X) = \\operatorname*{arg\\,max}_w\\ln p(y|w,X) + \\ln p(w)$$\n",
    "$$=\\operatorname*{arg\\,max}_w\\frac{1}{2\\sigma^2}(y-Xw)^T(y-Xw) - \\frac{\\lambda}{2}w^Tw + const.$$\n",
    "\n",
    "Take gradient of the function, we can get the solution for $w_{MAP}$ = $(\\lambda\\sigma^2I+X^TX)^{-1}X^Ty$.\n",
    "\n",
    "**Notice that $w_{MAP} = w_{RR}$**"
   ]
  },
  {
   "cell_type": "code",
   "execution_count": 11,
   "metadata": {},
   "outputs": [],
   "source": [
    "from sklearn.model_selection import GridSearchCV\n",
    "from sklearn.linear_model import Ridge"
   ]
  },
  {
   "cell_type": "code",
   "execution_count": 12,
   "metadata": {},
   "outputs": [
    {
     "name": "stdout",
     "output_type": "stream",
     "text": [
      "{'ridge__alpha': 1.2000000000000002} 0.7652435038241903\n",
      "R-squared: 0.8771484585916146\n",
      "RMSE: 27730.39074493702\n",
      "Wall time: 3min 6s\n"
     ]
    }
   ],
   "source": [
    "%%time\n",
    "param_grid = {'ridge__alpha': np.linspace(0, 10, 101)}\n",
    "ridge = Pipeline(steps=[('preprocessor', preprocessor),\n",
    "                        ('ridge', Ridge(normalize=True))])\n",
    "gs_ridge = GridSearchCV(ridge, param_grid, cv=5)\n",
    "gs_ridge.fit(X_train, y_train)\n",
    "print(gs_ridge.best_params_, gs_ridge.best_score_)\n",
    "\n",
    "y_pred = gs_ridge.predict(X_test)\n",
    "print(\"R-squared:\", gs_ridge.score(X_test, y_test))\n",
    "print(\"RMSE:\", np.sqrt(mean_squared_error(y_test, y_pred)))"
   ]
  },
  {
   "cell_type": "markdown",
   "metadata": {},
   "source": [
    "### 3. Sparse Regression (Lasso)\n",
    "The pentalty term of Lasso will select a small subset of the d dimensions and switch off the rest, encourasing sparse solutions.\n",
    "\n",
    "**LASSO:** Least Absolute Shrinkage and Selection Operator\n",
    "\n",
    "With the LASSO, we replac the $l_2$ penalty with an $l_1$ penalty:\n",
    "$$w_{lasso} = \\operatorname*{arg\\,min}_w \\|y-\\mathbf{X}w\\|^2+\\lambda\\|w\\|_1,$$\n",
    "where\n",
    "$$\\|w\\|_1 = \\sum_{j=1}^{d}|w_j|.$$"
   ]
  },
  {
   "cell_type": "code",
   "execution_count": 13,
   "metadata": {},
   "outputs": [],
   "source": [
    "# Suppress warnings from using Lasso\n",
    "import warnings\n",
    "def warn(*args, **kwargs):\n",
    "    pass\n",
    "import warnings\n",
    "warnings.warn = warn"
   ]
  },
  {
   "cell_type": "code",
   "execution_count": 14,
   "metadata": {},
   "outputs": [],
   "source": [
    "from sklearn.linear_model import Lasso"
   ]
  },
  {
   "cell_type": "code",
   "execution_count": 15,
   "metadata": {},
   "outputs": [
    {
     "name": "stdout",
     "output_type": "stream",
     "text": [
      "{'lasso__alpha': 10.0} 0.7092273570121129\n",
      "R-squared: 0.9066367526053263\n",
      "RMSE: 24174.28616474587\n",
      "Wall time: 1min 24s\n"
     ]
    }
   ],
   "source": [
    "%%time\n",
    "param_grid = {'lasso__alpha': np.linspace(0, 10, 11)}\n",
    "lasso = Pipeline(steps=[('preprocessor', preprocessor),\n",
    "                        ('lasso', Lasso(normalize=True))])\n",
    "gs_lasso = GridSearchCV(lasso, param_grid, cv=5)\n",
    "gs_lasso.fit(X_train, y_train)\n",
    "print(gs_lasso.best_params_, gs_lasso.best_score_)\n",
    "\n",
    "y_pred = gs_lasso.predict(X_test)\n",
    "print(\"R-squared:\", gs_lasso.score(X_test, y_test))\n",
    "print(\"RMSE:\", np.sqrt(mean_squared_error(y_test, y_pred)))"
   ]
  },
  {
   "cell_type": "markdown",
   "metadata": {},
   "source": [
    "### 4. Elastic Net\n",
    "Elastic Net combines $l_1$ and $l_2$ penalties.\n",
    "$$w_{elastic} = \\operatorname*{argmin}_w \\|y-\\mathbf{X}w\\|^2+\\lambda_2\\|w\\|^2+\\lambda_1\\|w\\|_1$$"
   ]
  },
  {
   "cell_type": "code",
   "execution_count": 16,
   "metadata": {},
   "outputs": [],
   "source": [
    "from sklearn.linear_model import ElasticNet"
   ]
  },
  {
   "cell_type": "code",
   "execution_count": 17,
   "metadata": {},
   "outputs": [
    {
     "name": "stdout",
     "output_type": "stream",
     "text": [
      "{'elasticNet__alpha': 1.0, 'elasticNet__l1_ratio': 1} 0.67665528029079\n",
      "R-squared: 0.8997537628503844\n",
      "RMSE: 25049.5382194495\n",
      "Wall time: 2min 32s\n"
     ]
    }
   ],
   "source": [
    "%%time\n",
    "param_grid = {'elasticNet__alpha': np.linspace(0, 1, 5), \n",
    "              'elasticNet__l1_ratio': [0.1, 1]}\n",
    "en = Pipeline(steps=[('preprocessor', preprocessor),\n",
    "                     ('elasticNet', ElasticNet())])\n",
    "gs_en = GridSearchCV(en, param_grid, cv=5)\n",
    "gs_en.fit(X_train, y_train)\n",
    "print(gs_en.best_params_, gs_en.best_score_)\n",
    "\n",
    "y_pred = gs_en.predict(X_test)\n",
    "print(\"R-squared:\", gs_en.score(X_test, y_test))\n",
    "print(\"RMSE:\", np.sqrt(mean_squared_error(y_test, y_pred)))"
   ]
  },
  {
   "cell_type": "markdown",
   "metadata": {},
   "source": [
    "### Model Comparison - Linear Regression, Ridge, Lasso, and Elastic Net\n",
    "#### Predictive Performance\n",
    "In this example, all models in general have high variance in terms of prediction outputs."
   ]
  },
  {
   "cell_type": "code",
   "execution_count": 18,
   "metadata": {},
   "outputs": [],
   "source": [
    "df_variance = pd.DataFrame({})\n",
    "# Apply best models from grid search\n",
    "lrg = Pipeline(steps=[('preprocessor', preprocessor),\n",
    "                      ('linearReg', LinearRegression())])\n",
    "ridge = Pipeline(steps=[('preprocessor', preprocessor),\n",
    "                        ('ridge', Ridge(alpha=1.2, normalize=True))])\n",
    "lasso = Pipeline(steps=[('preprocessor', preprocessor),\n",
    "                        ('lasso', Lasso(alpha=1.0, normalize=True))])\n",
    "en = Pipeline(steps=[('preprocessor', preprocessor),\n",
    "                     ('elasticNet', ElasticNet(l1_ratio=1.0, alpha=1.0))])\n",
    "for (k,v) in zip(['Linear Regression', 'Ridge Regression', 'Sparse Regression', 'Elastic Net'],\n",
    "                 [lrg, ridge, lasso, en]):\n",
    "    cv_results = cross_val_score(v, X, y, cv=5)\n",
    "    df_variance[k] = cv_results"
   ]
  },
  {
   "cell_type": "code",
   "execution_count": 19,
   "metadata": {},
   "outputs": [
    {
     "data": {
      "image/png": "[encoded data removed]",
      "text/plain": [
       "<matplotlib.figure.Figure at 0x28e2115ee80>"
      ]
     },
     "metadata": {
      "needs_background": "light"
     },
     "output_type": "display_data"
    }
   ],
   "source": [
    "df_variance_plot = df_variance.melt()\n",
    "plt.plot(df_variance_plot['variable'], df_variance_plot['value'], 'o')\n",
    "plt.show()"
   ]
  },
  {
   "cell_type": "markdown",
   "metadata": {},
   "source": [
    "#### Coefficients - Quadratic Penalty (Ridge) vs Linear Penalty (Lasso)\n",
    "- Suppose $w_k$ is large, all other$w_j$ are very small but non-zero\n",
    "- Linear penalty: Penalty should keep $w_k$ and push other $w_j$ to zero\n",
    "- Quadratic penalty: Will favor entries $w_j$ with all have similar size, and so it will push $w_k$ towards small value.\n",
    "\n",
    "Overall, a quadratic penalty favors many small but non-zero values, and a linear penalty term achieves sparsity"
   ]
  },
  {
   "cell_type": "code",
   "execution_count": 20,
   "metadata": {},
   "outputs": [
    {
     "data": {
      "image/png": "[encoded data removed]",
      "text/plain": [
       "<matplotlib.figure.Figure at 0x28e251933c8>"
      ]
     },
     "metadata": {
      "needs_background": "light"
     },
     "output_type": "display_data"
    }
   ],
   "source": [
    "plt.figure(figsize=(18, 4))\n",
    "plt.plot(lr.named_steps['linearReg'].coef_.squeeze(), label='LR', alpha = 0.5)\n",
    "plt.plot(gs_ridge.best_estimator_.named_steps['ridge'].coef_.squeeze(), color = 'green', label='Ridge', alpha =0.5)\n",
    "plt.plot(gs_lasso.best_estimator_.named_steps['lasso'].coef_, color = 'orange', label='Lasso', alpha =0.5)\n",
    "plt.legend();"
   ]
  },
  {
   "cell_type": "markdown",
   "metadata": {},
   "source": [
    "### 5. Kernel Ridge\n",
    "Definition from sklearn: Kernel ridge regression (KRR) combines ridge regression (linear least squares with l2-norm regularization) with the kernel trick. It thus learns a linear function in the space induced by the respective kernel and the data.\n",
    "\n",
    "### Kernels\n",
    "A kernel $K(\\cdot,\\cdot): \\mathbb{R}^d \\times \\mathbb{R}^d \\rightarrow$ is a symmetric function defined as follows:\n",
    "\n",
    "For any set of n data points $x_1,...,x_n \\in \\mathbb{R}^d$, the $n \\times n$ matrix $K$, where $K_{ij} = K(x_i, x_j)$, is positive semidefinite.\n",
    "\n",
    "From Mercer's theorem, if the function $K(\\cdot,\\cdot)$ satisfies the above properties, then there exists a mapping $\\pi: \\mathbb{R}^d \\rightarrow \\mathbb{R}^D$ such that\n",
    "$$K(x_i, x_j) = \\pi(x_i)^T\\pi(x_j).$$\n",
    "\n",
    "We usually only define $K(\\cdot,\\cdot)$ and avoid ever using $\\phi(\\cdot)$. However, the kernel $K(\\cdot,\\cdot)$ implies that x_i and x_j have been mapped into a higher, or infinite, dimension $D$ to get the output."
   ]
  },
  {
   "cell_type": "code",
   "execution_count": 21,
   "metadata": {},
   "outputs": [],
   "source": [
    "from sklearn.kernel_ridge import KernelRidge"
   ]
  },
  {
   "cell_type": "code",
   "execution_count": 22,
   "metadata": {},
   "outputs": [
    {
     "name": "stdout",
     "output_type": "stream",
     "text": [
      "{'kernelRidge__alpha': 0.1} 0.6700793950048427\n",
      "R-squared: 0.8972356831086387\n",
      "RMSE: 25362.195977836753\n",
      "Wall time: 15.1 s\n"
     ]
    }
   ],
   "source": [
    "%%time\n",
    "param_grid = {'kernelRidge__alpha': [0.1, 1, 10, 100]}\n",
    "kr = Pipeline(steps=[('preprocessor', preprocessor),\n",
    "                     ('kernelRidge', KernelRidge())])\n",
    "gs_kr = GridSearchCV(kr, param_grid, cv=5)\n",
    "gs_kr.fit(X_train, y_train)\n",
    "print(gs_kr.best_params_, gs_kr.best_score_)\n",
    "\n",
    "y_pred = gs_kr.predict(X_test)\n",
    "print(\"R-squared:\", gs_kr.score(X_test, y_test))\n",
    "print(\"RMSE:\", np.sqrt(mean_squared_error(y_test, y_pred)))"
   ]
  },
  {
   "cell_type": "markdown",
   "metadata": {},
   "source": [
    "### 6. Regression Tree"
   ]
  },
  {
   "cell_type": "code",
   "execution_count": 23,
   "metadata": {},
   "outputs": [],
   "source": [
    "from sklearn.tree import DecisionTreeRegressor"
   ]
  },
  {
   "cell_type": "code",
   "execution_count": 24,
   "metadata": {},
   "outputs": [
    {
     "name": "stdout",
     "output_type": "stream",
     "text": [
      "{'dt__min_samples_split': 2, 'dt__max_features': 'sqrt', 'dt__max_depth': 7} 0.6777006699974373\n",
      "0.644211107918765\n",
      "47191.29299799398\n",
      "Wall time: 2min 52s\n"
     ]
    }
   ],
   "source": [
    "%%time\n",
    "param_grid = {'dt__max_depth': np.arange(4,9), \n",
    "              'dt__min_samples_split': np.arange(2,11), \n",
    "              'dt__max_features': ['auto', 'sqrt']}\n",
    "dt = Pipeline(steps=[('preprocessor', preprocessor),\n",
    "                     ('dt', DecisionTreeRegressor())])\n",
    "gs_dt = GridSearchCV(dt, param_grid, cv=5)\n",
    "gs_dt.fit(X_train, y_train)\n",
    "print(gs_dt.best_params_, gs_dt.best_score_)\n",
    "\n",
    "y_pred = gs_dt.predict(X_test)\n",
    "print(gs_dt.score(X_test, y_test))\n",
    "print(np.sqrt(mean_squared_error(y_test, y_pred)))"
   ]
  },
  {
   "cell_type": "markdown",
   "metadata": {},
   "source": [
    "## Ensemble Models"
   ]
  },
  {
   "cell_type": "markdown",
   "metadata": {},
   "source": [
    "### Bagging\n",
    "\n",
    "Bagging uses the boostrap for regression or classification: **Bagging** = **B**oostrap **agg**regation\n",
    "\n",
    "#### Algorithm\n",
    "For $b = 1,...,B$:\n",
    "1. Draw a boostrap sample $\\mathbb{B}_b$ of size $n$ from training data. (Boostrap = resampling with replacement)\n",
    "2. Train a classifier or regression model $f_b$ on $\\mathbb{B}_b$\n",
    "    - For a new point $x_0$, compute:\n",
    "    $$f_avg(X_0) = \\frac{1}{B}\\sum{b=1}^{B}f_b(X_0)$$\n",
    "    - For regression, f_avg(x_0) is the prediction\n",
    "    - For classification, view f_avg(x_0) as an average over $B$ votes. Pick the majority."
   ]
  },
  {
   "cell_type": "code",
   "execution_count": 25,
   "metadata": {},
   "outputs": [],
   "source": [
    "from sklearn.ensemble import BaggingRegressor"
   ]
  },
  {
   "cell_type": "code",
   "execution_count": 26,
   "metadata": {},
   "outputs": [],
   "source": [
    "def apply_bagging(model, X_train, y_train, X_test, y_test, iteration = 10):\n",
    "    bagging = Pipeline(steps=[('preprocessor', preprocessor),\n",
    "                              ('bagging', BaggingRegressor(model, n_estimators=iteration))])\n",
    "    bagging.fit(X_train, y_train)\n",
    "    y_pred = bagging.predict(X_test)\n",
    "    print('R-squared: {} RMSE: {}'.format(bagging.score(X_test, y_test), \n",
    "                                          np.sqrt(mean_squared_error(y_test, y_pred))))"
   ]
  },
  {
   "cell_type": "code",
   "execution_count": 27,
   "metadata": {},
   "outputs": [
    {
     "name": "stdout",
     "output_type": "stream",
     "text": [
      "Linear Regression\n",
      "R-squared: 0.9058006362786918 RMSE: 24282.291531020786\n",
      "Ridge Regression\n",
      "R-squared: 0.8760872448467337 RMSE: 27849.903262513402\n",
      "Sparse Regression\n",
      "R-squared: 0.9122154183989108 RMSE: 23440.928275368726\n",
      "Kernel Regression\n",
      "R-squared: 0.9080267370238913 RMSE: 23993.65895171706\n",
      "Decision Tree Regression\n",
      "R-squared: 0.8554353811164694 RMSE: 30081.30631456114\n",
      "Wall time: 3min 24s\n"
     ]
    }
   ],
   "source": [
    "%%time\n",
    "# initiate best models from previous codes\n",
    "lr = LinearRegression()\n",
    "ridge = Ridge(alpha=1.2, normalize=True)\n",
    "lasso = Lasso(alpha=10, normalize=True)\n",
    "kr = KernelRidge(alpha=0.67)\n",
    "dt = DecisionTreeRegressor(max_depth=6, max_features='auto', min_samples_split=10)\n",
    "\n",
    "models = [lr, ridge, lasso, kr, dt]\n",
    "model_names = ['Linear Regression',\n",
    "               'Ridge Regression',\n",
    "               'Sparse Regression',\n",
    "               'Kernel Regression',\n",
    "               'Decision Tree Regression']\n",
    "for (k, v) in zip(model_names, models):\n",
    "    print(k)\n",
    "    apply_bagging(v, X_train, np.ravel(y_train), X_test, y_test, 100)"
   ]
  },
  {
   "cell_type": "markdown",
   "metadata": {},
   "source": [
    "Bagging method seems to improve all models in some extend. The biggest improvement is seen on the model with low performance to begin with.\n",
    "\n",
    "#### Model Improvement\n",
    "- We can further use the parameter max_features in BaggingRegressor to select a subset of features. However, if we use all features by default setting, bagged regressions are correlated. In general, when bootstrap samples are correlated, the benefit of bagging decreases. This could be the reason why sometimes bagging doesn't improve much compare to single models.\n",
    "- Random forests model is a modification of bagging where trees are designed to reduce correlation. The modification is to only consider random subset of dimensions of $x \\in \\mathbb{R}^d$."
   ]
  },
  {
   "cell_type": "markdown",
   "metadata": {},
   "source": [
    "### Random Forest\n",
    "\n",
    "#### Algorithm\n",
    "Input parameter: $m$ - a positive integer with $m<d$ often $m \\approx \\sqrt{d}$\n",
    "For $b = 1,...,B$:\n",
    "1. Draw a boostrap sample $\\mathbb{B}_b$ of size $n$ from the training data.\n",
    "2. Train a tree classfier on $\\mathbb{B}_b$, where each split is computed as follows:\n",
    "    - Randomly select $m$ dimensions of $x \\in \\mathbb{R}^d$ newly chosen for each $b$.\n",
    "    - Make the best split restricted to that subset of dimensions."
   ]
  },
  {
   "cell_type": "code",
   "execution_count": 28,
   "metadata": {},
   "outputs": [],
   "source": [
    "from sklearn.ensemble import RandomForestRegressor"
   ]
  },
  {
   "cell_type": "code",
   "execution_count": 29,
   "metadata": {},
   "outputs": [
    {
     "name": "stdout",
     "output_type": "stream",
     "text": [
      "{'rf__n_estimators': 500, 'rf__max_features': 'sqrt', 'rf__max_depth': 8} 0.7860572125619614\n",
      "0.865320836954347 29034.602766658583\n",
      "Wall time: 11min 44s\n"
     ]
    }
   ],
   "source": [
    "%%time\n",
    "param_grid = {'rf__n_estimators':[100, 250, 500],\n",
    "              'rf__max_depth': [3, 5, 8], \n",
    "              'rf__max_features': ['auto', 'sqrt']}\n",
    "rf = Pipeline(steps=[('preprocessor', preprocessor),\n",
    "                     ('rf', RandomForestRegressor())])\n",
    "gs_rf = GridSearchCV(rf, param_grid, cv=5)\n",
    "gs_rf.fit(X_train, np.ravel(y_train))\n",
    "print(gs_rf.best_params_, gs_rf.best_score_)\n",
    "\n",
    "y_pred = gs_rf.predict(X_test)\n",
    "print(gs_rf.score(X_test, y_test), np.sqrt(mean_squared_error(y_test, y_pred)))"
   ]
  },
  {
   "cell_type": "markdown",
   "metadata": {},
   "source": [
    "The performance of random forest is slightly better than that of decision tree with bagging, but bagging on other models still outperform random forest."
   ]
  },
  {
   "cell_type": "markdown",
   "metadata": {},
   "source": [
    "## Performance on Kaggle\n",
    "\n",
    "The best model with bagging and random forest are both used for Kaggle submission. Not surprisingly, lasso regression with bagging returns better result than random forest."
   ]
  },
  {
   "cell_type": "code",
   "execution_count": 30,
   "metadata": {},
   "outputs": [],
   "source": [
    "# Lasso + Bagging: 0.13439 # 2295/5117\n",
    "bagging = Pipeline(steps=[('preprocessor', preprocessor),\n",
    "                          ('bagging', BaggingRegressor(Lasso(alpha=10, normalize=True), \n",
    "                                                       n_estimators=100))])\n",
    "bagging.fit(X, y)\n",
    "y_pred_kaggle = bagging.predict(df_test)\n",
    "pd.DataFrame({'Id': df_test.Id.values,\n",
    "              'SalePrice': np.squeeze(y_pred_kaggle)}\n",
    "            ).to_csv('../project-house-price-prediction/data/pred.csv', index=False)"
   ]
  },
  {
   "cell_type": "code",
   "execution_count": 31,
   "metadata": {},
   "outputs": [],
   "source": [
    "# Random Forest: 0.14869\n",
    "param_grid = {'n_estimators':[100, 250, 500],\n",
    "              'max_depth': [3, 5, 8], \n",
    "              'max_features': ['auto', 'sqrt']}\n",
    "rf = Pipeline(steps=[('preprocessor', preprocessor),\n",
    "                     ('rf', RandomForestRegressor())])\n",
    "rf.fit(X, y)\n",
    "y_pred_kaggle = rf.predict(df_test)\n",
    "# pd.DataFrame({'Id': df_test.Id.values,\n",
    "#               'SalePrice': np.squeeze(y_pred_kaggle)}\n",
    "#             ).to_csv('../project-house-price-prediction/data/pred.csv', index=False)"
   ]
  },
  {
   "cell_type": "markdown",
   "metadata": {},
   "source": [
    "## References for Model Introduction and Algorithms\n",
    "- Applied Machine Learning Certification - Columnbia Engineering Executive Education\n",
    "\n",
    "#### Note: The coding was done through personal works and researches and not borrowed from the certification course."
   ]
  }
 ],
 "metadata": {
  "kernelspec": {
   "display_name": "Python 3",
   "language": "python",
   "name": "python3"
  },
  "language_info": {
   "codemirror_mode": {
    "name": "ipython",
    "version": 3
   },
   "file_extension": ".py",
   "mimetype": "text/x-python",
   "name": "python",
   "nbconvert_exporter": "python",
   "pygments_lexer": "ipython3",
   "version": "3.5.2"
  }
 },
 "nbformat": 4,
 "nbformat_minor": 2
}
