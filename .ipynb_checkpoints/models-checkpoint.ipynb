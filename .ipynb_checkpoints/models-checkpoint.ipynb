{
 "cells": [
  {
   "cell_type": "markdown",
   "metadata": {},
   "source": [
    "# House Price Prediction\n",
    "\n",
    "\n",
    "## Models\n",
    "\n",
    "This consists the codes for predicting house prices with regression models and ensemble methods."
   ]
  },
  {
   "cell_type": "code",
   "execution_count": 15,
   "metadata": {},
   "outputs": [],
   "source": [
    "%matplotlib inline\n",
    "import matplotlib.pyplot as plt\n",
    "import numpy as np\n",
    "import pandas as pd"
   ]
  },
  {
   "cell_type": "code",
   "execution_count": 3,
   "metadata": {},
   "outputs": [],
   "source": [
    "### Read in the data\n",
    "df = pd.read_csv('../project-house-price-prediction/data/train.csv')\n",
    "df_test = pd.read_csv('../project-house-price-prediction/data/test.csv')"
   ]
  },
  {
   "cell_type": "markdown",
   "metadata": {},
   "source": [
    "## Data\n",
    "The data preprocessing follows the data exploration done in the notebook notebook data-exploration-and-preprocessing and "
   ]
  },
  {
   "cell_type": "code",
   "execution_count": 4,
   "metadata": {},
   "outputs": [],
   "source": [
    "from sklearn.base import BaseEstimator, TransformerMixin"
   ]
  },
  {
   "cell_type": "code",
   "execution_count": 5,
   "metadata": {},
   "outputs": [],
   "source": [
    "class CleanHouseAttributes(BaseEstimator, TransformerMixin):\n",
    "    \"\"\"Apply rules during data exploration to clean house price dataset\"\"\"\n",
    "    \n",
    "    def fit(self, x, y=None):\n",
    "        return self\n",
    "    \n",
    "    def transform(self, df_house_price, cols_to_drop, target_col):\n",
    "        # Age of building/remodle from YearBuilt and YearRemodAdd\n",
    "        df_house_price['AgeBuilding'] = 2012 - df_house_price['YearBuilt']\n",
    "        df_house_price['AgeRemodel'] = 2012 - df_house_price['YearRemodAdd']\n",
    "    \n",
    "        # Remove categories not exist in test.csv\n",
    "        df_filtered = df_house_price[(df_house_price['HouseStyle'] != '2.5Fin') &\n",
    "                                     (df_house_price['Exterior1st'] != 'Stone') &\n",
    "                                     (df_house_price['Exterior1st'] != 'ImStucc') &\n",
    "                                     (df_house_price['Exterior2nd'] != 'Other')]\n",
    "        \n",
    "        # Drop columns\n",
    "        df_dropped = df_filtered.drop(cols_to_drop + target_col, axis=1)\n",
    "            \n",
    "        # Fill NA for numeric columns\n",
    "        df_numeric = df_dropped.select_dtypes(include=['int64', 'float64']).apply(lambda x: x.fillna(x.mean()), axis=1)\n",
    "        \n",
    "        # Create dummies for non numeric columns\n",
    "        df_nonNumeric = pd.get_dummies(df_dropped.select_dtypes(include=['object']).fillna('NA'))\n",
    "        \n",
    "        # Create boolean variables for Alley, PoolQC, and Fence\n",
    "        df['HasAlley'] = list(1 if x is None else 0 for x in df['Alley'])\n",
    "        df['HasPool'] = list(1 if x is None else 0 for x in df['PoolQC'])\n",
    "        df['Fence'] = list(1 if x is None else 0 for x in df['Fence'])\n",
    "        \n",
    "        X = pd.concat([df_numeric, df_nonNumeric], axis=1)\n",
    "        y = df_filtered[target_col]\n",
    "\n",
    "        return X, y"
   ]
  },
  {
   "cell_type": "code",
   "execution_count": 6,
   "metadata": {},
   "outputs": [],
   "source": [
    "drop_cols = ['Id', 'YearBuilt', 'YearRemodAdd', 'GarageYrBlt', 'TotalBsmtSF', \n",
    "             'TotRmsAbvGrd', 'MoSold', 'YrSold', 'Street', 'Alley', 'Utilities', \n",
    "             'LandSlope', 'Condition2', 'Heating', 'Functional', 'FireplaceQu', \n",
    "             'PoolQC', 'Fence', 'MiscFeature'            ]\n",
    "target_col = ['SalePrice']"
   ]
  },
  {
   "cell_type": "code",
   "execution_count": 7,
   "metadata": {},
   "outputs": [
    {
     "data": {
      "text/html": [
       "<div>\n",
       "<style>\n",
       "    .dataframe thead tr:only-child th {\n",
       "        text-align: right;\n",
       "    }\n",
       "\n",
       "    .dataframe thead th {\n",
       "        text-align: left;\n",
       "    }\n",
       "\n",
       "    .dataframe tbody tr th {\n",
       "        vertical-align: top;\n",
       "    }\n",
       "</style>\n",
       "<table border=\"1\" class=\"dataframe\">\n",
       "  <thead>\n",
       "    <tr style=\"text-align: right;\">\n",
       "      <th></th>\n",
       "      <th>MSSubClass</th>\n",
       "      <th>LotFrontage</th>\n",
       "      <th>LotArea</th>\n",
       "      <th>OverallQual</th>\n",
       "      <th>OverallCond</th>\n",
       "      <th>MasVnrArea</th>\n",
       "      <th>BsmtFinSF1</th>\n",
       "      <th>BsmtFinSF2</th>\n",
       "      <th>BsmtUnfSF</th>\n",
       "      <th>1stFlrSF</th>\n",
       "      <th>...</th>\n",
       "      <th>SaleType_ConLw</th>\n",
       "      <th>SaleType_New</th>\n",
       "      <th>SaleType_Oth</th>\n",
       "      <th>SaleType_WD</th>\n",
       "      <th>SaleCondition_Abnorml</th>\n",
       "      <th>SaleCondition_AdjLand</th>\n",
       "      <th>SaleCondition_Alloca</th>\n",
       "      <th>SaleCondition_Family</th>\n",
       "      <th>SaleCondition_Normal</th>\n",
       "      <th>SaleCondition_Partial</th>\n",
       "    </tr>\n",
       "  </thead>\n",
       "  <tbody>\n",
       "    <tr>\n",
       "      <th>0</th>\n",
       "      <td>60.0</td>\n",
       "      <td>65.0</td>\n",
       "      <td>8450.0</td>\n",
       "      <td>7.0</td>\n",
       "      <td>5.0</td>\n",
       "      <td>196.0</td>\n",
       "      <td>706.0</td>\n",
       "      <td>0.0</td>\n",
       "      <td>150.0</td>\n",
       "      <td>856.0</td>\n",
       "      <td>...</td>\n",
       "      <td>0</td>\n",
       "      <td>0</td>\n",
       "      <td>0</td>\n",
       "      <td>1</td>\n",
       "      <td>0</td>\n",
       "      <td>0</td>\n",
       "      <td>0</td>\n",
       "      <td>0</td>\n",
       "      <td>1</td>\n",
       "      <td>0</td>\n",
       "    </tr>\n",
       "    <tr>\n",
       "      <th>1</th>\n",
       "      <td>20.0</td>\n",
       "      <td>80.0</td>\n",
       "      <td>9600.0</td>\n",
       "      <td>6.0</td>\n",
       "      <td>8.0</td>\n",
       "      <td>0.0</td>\n",
       "      <td>978.0</td>\n",
       "      <td>0.0</td>\n",
       "      <td>284.0</td>\n",
       "      <td>1262.0</td>\n",
       "      <td>...</td>\n",
       "      <td>0</td>\n",
       "      <td>0</td>\n",
       "      <td>0</td>\n",
       "      <td>1</td>\n",
       "      <td>0</td>\n",
       "      <td>0</td>\n",
       "      <td>0</td>\n",
       "      <td>0</td>\n",
       "      <td>1</td>\n",
       "      <td>0</td>\n",
       "    </tr>\n",
       "    <tr>\n",
       "      <th>2</th>\n",
       "      <td>60.0</td>\n",
       "      <td>68.0</td>\n",
       "      <td>11250.0</td>\n",
       "      <td>7.0</td>\n",
       "      <td>5.0</td>\n",
       "      <td>162.0</td>\n",
       "      <td>486.0</td>\n",
       "      <td>0.0</td>\n",
       "      <td>434.0</td>\n",
       "      <td>920.0</td>\n",
       "      <td>...</td>\n",
       "      <td>0</td>\n",
       "      <td>0</td>\n",
       "      <td>0</td>\n",
       "      <td>1</td>\n",
       "      <td>0</td>\n",
       "      <td>0</td>\n",
       "      <td>0</td>\n",
       "      <td>0</td>\n",
       "      <td>1</td>\n",
       "      <td>0</td>\n",
       "    </tr>\n",
       "    <tr>\n",
       "      <th>3</th>\n",
       "      <td>70.0</td>\n",
       "      <td>60.0</td>\n",
       "      <td>9550.0</td>\n",
       "      <td>7.0</td>\n",
       "      <td>5.0</td>\n",
       "      <td>0.0</td>\n",
       "      <td>216.0</td>\n",
       "      <td>0.0</td>\n",
       "      <td>540.0</td>\n",
       "      <td>961.0</td>\n",
       "      <td>...</td>\n",
       "      <td>0</td>\n",
       "      <td>0</td>\n",
       "      <td>0</td>\n",
       "      <td>1</td>\n",
       "      <td>1</td>\n",
       "      <td>0</td>\n",
       "      <td>0</td>\n",
       "      <td>0</td>\n",
       "      <td>0</td>\n",
       "      <td>0</td>\n",
       "    </tr>\n",
       "    <tr>\n",
       "      <th>4</th>\n",
       "      <td>60.0</td>\n",
       "      <td>84.0</td>\n",
       "      <td>14260.0</td>\n",
       "      <td>8.0</td>\n",
       "      <td>5.0</td>\n",
       "      <td>350.0</td>\n",
       "      <td>655.0</td>\n",
       "      <td>0.0</td>\n",
       "      <td>490.0</td>\n",
       "      <td>1145.0</td>\n",
       "      <td>...</td>\n",
       "      <td>0</td>\n",
       "      <td>0</td>\n",
       "      <td>0</td>\n",
       "      <td>1</td>\n",
       "      <td>0</td>\n",
       "      <td>0</td>\n",
       "      <td>0</td>\n",
       "      <td>0</td>\n",
       "      <td>1</td>\n",
       "      <td>0</td>\n",
       "    </tr>\n",
       "  </tbody>\n",
       "</table>\n",
       "<p>5 rows × 244 columns</p>\n",
       "</div>"
      ],
      "text/plain": [
       "   MSSubClass  LotFrontage  LotArea  OverallQual  OverallCond  MasVnrArea  \\\n",
       "0        60.0         65.0   8450.0          7.0          5.0       196.0   \n",
       "1        20.0         80.0   9600.0          6.0          8.0         0.0   \n",
       "2        60.0         68.0  11250.0          7.0          5.0       162.0   \n",
       "3        70.0         60.0   9550.0          7.0          5.0         0.0   \n",
       "4        60.0         84.0  14260.0          8.0          5.0       350.0   \n",
       "\n",
       "   BsmtFinSF1  BsmtFinSF2  BsmtUnfSF  1stFlrSF          ...            \\\n",
       "0       706.0         0.0      150.0     856.0          ...             \n",
       "1       978.0         0.0      284.0    1262.0          ...             \n",
       "2       486.0         0.0      434.0     920.0          ...             \n",
       "3       216.0         0.0      540.0     961.0          ...             \n",
       "4       655.0         0.0      490.0    1145.0          ...             \n",
       "\n",
       "   SaleType_ConLw  SaleType_New  SaleType_Oth  SaleType_WD  \\\n",
       "0               0             0             0            1   \n",
       "1               0             0             0            1   \n",
       "2               0             0             0            1   \n",
       "3               0             0             0            1   \n",
       "4               0             0             0            1   \n",
       "\n",
       "   SaleCondition_Abnorml  SaleCondition_AdjLand  SaleCondition_Alloca  \\\n",
       "0                      0                      0                     0   \n",
       "1                      0                      0                     0   \n",
       "2                      0                      0                     0   \n",
       "3                      1                      0                     0   \n",
       "4                      0                      0                     0   \n",
       "\n",
       "   SaleCondition_Family  SaleCondition_Normal  SaleCondition_Partial  \n",
       "0                     0                     1                      0  \n",
       "1                     0                     1                      0  \n",
       "2                     0                     1                      0  \n",
       "3                     0                     0                      0  \n",
       "4                     0                     1                      0  \n",
       "\n",
       "[5 rows x 244 columns]"
      ]
     },
     "execution_count": 7,
     "metadata": {},
     "output_type": "execute_result"
    }
   ],
   "source": [
    "X, y = CleanHouseAttributes().transform(df, drop_cols, target_col)\n",
    "X.head()"
   ]
  },
  {
   "cell_type": "code",
   "execution_count": 10,
   "metadata": {},
   "outputs": [
    {
     "data": {
      "image/png": "[encoded data removed]",
      "text/plain": [
       "<matplotlib.figure.Figure at 0x23d8afe46a0>"
      ]
     },
     "metadata": {
      "needs_background": "light"
     },
     "output_type": "display_data"
    }
   ],
   "source": [
    "y.hist(bins=50)\n",
    "plt.show()"
   ]
  },
  {
   "cell_type": "markdown",
   "metadata": {},
   "source": [
    "<a id = \"sklearn\"></a>\n",
    "## Regression\n",
    "\n",
    "### Probblem Definition\n",
    "**Input:** $x \\in \\mathbb{R}^{d}, d = 244$\n",
    "\n",
    "**Output:** $y \\in \\mathbb{R}$\n",
    "\n",
    "**Goal:** Find a function $f: \\mathbb{R}^{d} \\rightarrow \\mathbb{R}$ such that $y \\approx f(x;w)$ for the data pair $(x, y)$. $f(x;w)$ is call a $\\textit{regression funciton}$. Its free parameters are $w$."
   ]
  },
  {
   "cell_type": "markdown",
   "metadata": {},
   "source": [
    "### 1. Linear Regression\n",
    "\n",
    "A regression method is called $\\textit{linear}$ if the prediction $f$ is a linear function of the unknown parameters $w$. \n",
    "\n",
    "The linear regression has the form\n",
    "$$y_{i} \\approx f(x_{i};w) = w_{0} + x_{i}^{T}w,$$\n",
    "\n",
    "or in matrix form, \n",
    "$$y = \\mathbf{X}w,$$\n",
    "where a vector of 1 is attached in the first column of matrix $\\mathbf{X}$.\n",
    "\n",
    "With least square solution, we get the loss function for linear regression as\n",
    "$$L = \\sum_{i=1}^{n}\\left(y_{i}-x_{i}^{T}w\\right)^{2} = \\|y -\\mathbf{X}w\\|^{2} = (y-\\mathbf{X}w)^{T}(y-\\mathbf{X}w)$$\n",
    "\n",
    "If we take the gradient with respect to $w$, we find that\n",
    "$$\\nabla_{w}L = 2\\mathbf{X}^T\\mathbf{X}w-2\\mathbf{X}^Ty = 0 \\Rightarrow  w_{LS} = (\\mathbf{X}^T \\mathbf{X})^{−1}\\mathbf{X}^T y$$\n",
    "\n",
    "### Probablistic View of Linear Regression\n",
    "\n",
    "Gaussian density in $n$ dimensions: Assume a diagonal covariance matrix $\\Sigma = \\sigma^2I$. The density is \n",
    "$$p(y|\\mu, \\sigma^2) = \\frac{1}{(2\\pi\\sigma^2)^\\frac{n}{2}} \\exp (-\\frac{1}{2\\sigma^2}(y-\\mu)^T(y-\\mu)).$$\n",
    "Plug $\\mu=Xw$ into the multivariate Gaussian distribution and solve for $w$ using maximum likelihood.\n",
    "$$w_{ML} = \\operatorname*{arg\\,max}_w \\ln p(y|\\mu = Xw, \\sigma^2) \n",
    "= \\operatorname*{arg\\,max}_w -\\frac{1}{2\\sigma^2}\\|y-Xw\\|^2-\\frac{n}{2}\\ln(2\\pi\\sigma^2).$$\n",
    "\n",
    "**Least squres (LS) and maximum likelihood (ML) share the same solution.**\n",
    "\n",
    "$$\\text{LS: } \\operatorname*{arg\\,min}_w\\|y-Xw\\|^2  \\Leftrightarrow  \\text{ML: } \\operatorname*{arg\\,max}_w-\\frac{1}{2\\sigma^2}\\|y-Xw\\|^2$$"
   ]
  },
  {
   "cell_type": "code",
   "execution_count": 13,
   "metadata": {},
   "outputs": [],
   "source": [
    "from sklearn.model_selection import train_test_split\n",
    "from sklearn.model_selection import cross_val_score\n",
    "from sklearn.linear_model import LinearRegression\n",
    "from sklearn.metrics import mean_squared_error"
   ]
  },
  {
   "cell_type": "code",
   "execution_count": 92,
   "metadata": {},
   "outputs": [
    {
     "name": "stdout",
     "output_type": "stream",
     "text": [
      "R-squared: 0.857646419466\n",
      "RMSE: 25676.4180144\n"
     ]
    }
   ],
   "source": [
    "X_train, X_test, y_train, y_test = train_test_split(X, y, test_size = 0.3, random_state = 42)\n",
    "lr = LinearRegression()\n",
    "lr.fit(X_train, y_train)\n",
    "y_pred = lr.predict(X_test)\n",
    "\n",
    "print(\"R-squared:\", lr.score(X_test, y_test))\n",
    "print(\"RMSE:\", np.sqrt(mean_squared_error(y_test, y_pred)))"
   ]
  },
  {
   "cell_type": "markdown",
   "metadata": {},
   "source": [
    "#### Note: See appendix for interpreting the coefficient of linear regression\n",
    "If the purpose of builing linear regression models is for interpretation. The package `statsmodels.api` would be a better option then the package `sklearn` for providing coefficients with p-value."
   ]
  },
  {
   "cell_type": "code",
   "execution_count": 26,
   "metadata": {},
   "outputs": [],
   "source": [
    "import statsmodels.api as sm"
   ]
  },
  {
   "cell_type": "code",
   "execution_count": 27,
   "metadata": {},
   "outputs": [
    {
     "name": "stdout",
     "output_type": "stream",
     "text": [
      "                            OLS Regression Results                            \n",
      "==============================================================================\n",
      "Dep. Variable:              SalePrice   R-squared:                       0.863\n",
      "Model:                            OLS   Adj. R-squared:                  0.854\n",
      "Method:                 Least Squares   F-statistic:                     87.07\n",
      "Date:                Wed, 04 Sep 2019   Prob (F-statistic):               0.00\n",
      "Time:                        20:37:47   Log-Likelihood:                -16944.\n",
      "No. Observations:                1448   AIC:                         3.409e+04\n",
      "Df Residuals:                    1349   BIC:                         3.461e+04\n",
      "Df Model:                          98                                         \n",
      "Covariance Type:            nonrobust                                         \n",
      "========================================================================================\n",
      "                           coef    std err          t      P>|t|      [0.025      0.975]\n",
      "----------------------------------------------------------------------------------------\n",
      "const                -3640.1388   6085.568     -0.598      0.550   -1.56e+04    8298.067\n",
      "MSSubClass            -208.9931     31.307     -6.676      0.000    -270.409    -147.577\n",
      "LotFrontage             -3.0260      3.484     -0.868      0.385      -9.861       3.809\n",
      "LotArea                  0.5284      0.115      4.595      0.000       0.303       0.754\n",
      "OverallQual           1.107e+04   1194.577      9.267      0.000    8726.454    1.34e+04\n",
      "OverallCond           5254.6050   1004.179      5.233      0.000    3284.683    7224.527\n",
      "MasVnrArea              14.8452      5.609      2.647      0.008       3.841      25.849\n",
      "BsmtFinSF1              11.9239      4.967      2.401      0.016       2.181      21.667\n",
      "BsmtFinSF2               5.8868      6.829      0.862      0.389      -7.510      19.284\n",
      "BsmtUnfSF                2.7989      4.742      0.590      0.555      -6.503      12.101\n",
      "1stFlrSF                10.5984      7.305      1.451      0.147      -3.732      24.929\n",
      "2ndFlrSF                28.5651      6.781      4.212      0.000      15.262      41.868\n",
      "LowQualFinSF            -5.0275     17.015     -0.295      0.768     -38.406      28.351\n",
      "GrLivArea               34.1359      6.371      5.358      0.000      21.637      46.635\n",
      "BsmtFullBath          9413.0553   2372.508      3.968      0.000    4758.848    1.41e+04\n",
      "BsmtHalfBath          5252.5800   3702.547      1.419      0.156   -2010.795    1.25e+04\n",
      "FullBath              7974.7743   2698.269      2.956      0.003    2681.515    1.33e+04\n",
      "HalfBath              3535.4605   2561.345      1.380      0.168   -1489.191    8560.112\n",
      "BedroomAbvGr         -1901.1667   1465.995     -1.297      0.195   -4777.044     974.710\n",
      "KitchenAbvGr         -5213.3591   4943.661     -1.055      0.292   -1.49e+04    4484.740\n",
      "Fireplaces            3840.8579   1666.516      2.305      0.021     571.613    7110.103\n",
      "GarageCars            1.221e+04   2642.230      4.622      0.000    7028.138    1.74e+04\n",
      "GarageArea              -9.4120      9.043     -1.041      0.298     -27.151       8.327\n",
      "WoodDeckSF              28.0046      7.240      3.868      0.000      13.802      42.208\n",
      "OpenPorchSF              0.5573     14.135      0.039      0.969     -27.171      28.286\n",
      "EnclosedPorch            4.4697     15.620      0.286      0.775     -26.173      35.112\n",
      "3SsnPorch               34.1574     28.161      1.213      0.225     -21.086      89.401\n",
      "ScreenPorch             43.5261     15.559      2.798      0.005      13.004      74.048\n",
      "PoolArea                -8.1797     21.499     -0.380      0.704     -50.354      33.995\n",
      "MiscVal                  0.2835      1.657      0.171      0.864      -2.966       3.533\n",
      "AgeBuilding           -162.4229     84.084     -1.932      0.054    -327.373       2.528\n",
      "AgeRemodel             -98.1063     66.853     -1.467      0.142    -229.254      33.041\n",
      "Neighborhood_Blmngtn   272.5254   8122.787      0.034      0.973   -1.57e+04    1.62e+04\n",
      "Neighborhood_Blueste -1.324e+04   2.11e+04     -0.627      0.531   -5.46e+04    2.82e+04\n",
      "Neighborhood_BrDale  -5857.9867   8572.152     -0.683      0.494   -2.27e+04     1.1e+04\n",
      "Neighborhood_BrkSide -3612.9540   5145.401     -0.702      0.483   -1.37e+04    6480.904\n",
      "Neighborhood_ClearCr -2864.2585   6341.778     -0.452      0.652   -1.53e+04    9576.561\n",
      "Neighborhood_CollgCr -4037.9152   3453.578     -1.169      0.243   -1.08e+04    2737.051\n",
      "Neighborhood_Crawfor  1.752e+04   5137.624      3.411      0.001    7446.226    2.76e+04\n",
      "Neighborhood_Edwards -2.047e+04   3739.019     -5.476      0.000   -2.78e+04   -1.31e+04\n",
      "Neighborhood_Gilbert -9343.4957   4488.158     -2.082      0.038   -1.81e+04    -538.968\n",
      "Neighborhood_IDOTRR  -1.271e+04   6051.113     -2.101      0.036   -2.46e+04    -844.370\n",
      "Neighborhood_MeadowV -1.048e+04   9616.204     -1.090      0.276   -2.93e+04    8383.670\n",
      "Neighborhood_Mitchel -1.508e+04   4798.819     -3.143      0.002   -2.45e+04   -5666.403\n",
      "Neighborhood_NAmes   -1.518e+04   3085.211     -4.921      0.000   -2.12e+04   -9131.455\n",
      "Neighborhood_NPkVill -3557.2543   1.55e+04     -0.230      0.818   -3.39e+04    2.68e+04\n",
      "Neighborhood_NWAmes  -1.906e+04   4235.972     -4.500      0.000   -2.74e+04   -1.08e+04\n",
      "Neighborhood_NoRidge  4.353e+04   5762.850      7.553      0.000    3.22e+04    5.48e+04\n",
      "Neighborhood_NridgHt  4.165e+04   4732.657      8.801      0.000    3.24e+04    5.09e+04\n",
      "Neighborhood_OldTown -1.876e+04   4485.440     -4.182      0.000   -2.76e+04   -9958.040\n",
      "Neighborhood_SWISU   -1.149e+04   7488.286     -1.534      0.125   -2.62e+04    3203.269\n",
      "Neighborhood_Sawyer  -1.373e+04   4142.893     -3.315      0.001   -2.19e+04   -5605.079\n",
      "Neighborhood_SawyerW -7170.9594   4413.245     -1.625      0.104   -1.58e+04    1486.609\n",
      "Neighborhood_Somerst  1.308e+04   4292.267      3.048      0.002    4662.029    2.15e+04\n",
      "Neighborhood_StoneBr  5.313e+04   6787.364      7.828      0.000    3.98e+04    6.64e+04\n",
      "Neighborhood_Timber   1336.8292   5577.048      0.240      0.811   -9603.800    1.23e+04\n",
      "Neighborhood_Veenker  1.249e+04   9396.048      1.329      0.184   -5944.190    3.09e+04\n",
      "HouseStyle_1.5Fin    -7599.4212   3495.121     -2.174      0.030   -1.45e+04    -742.959\n",
      "HouseStyle_1.5Unf     5426.3658   8002.130      0.678      0.498   -1.03e+04    2.11e+04\n",
      "HouseStyle_1Story     5062.8871   3390.432      1.493      0.136   -1588.205    1.17e+04\n",
      "HouseStyle_2.5Unf     -1.22e+04   9471.744     -1.288      0.198   -3.08e+04    6385.865\n",
      "HouseStyle_2Story    -1.414e+04   3977.090     -3.555      0.000   -2.19e+04   -6336.550\n",
      "HouseStyle_SFoyer     1.147e+04   5434.186      2.111      0.035     811.677    2.21e+04\n",
      "HouseStyle_SLvl       8331.5675   4471.254      1.863      0.063    -439.800    1.71e+04\n",
      "Exterior1st_AsbShng    927.2624   1.31e+04      0.071      0.944   -2.48e+04    2.66e+04\n",
      "Exterior1st_AsphShn  -9042.1334    3.6e+04     -0.251      0.802   -7.97e+04    6.16e+04\n",
      "Exterior1st_BrkComm  -2.101e+04   2.84e+04     -0.738      0.460   -7.68e+04    3.48e+04\n",
      "Exterior1st_BrkFace   2.008e+04   7630.023      2.632      0.009    5110.874     3.5e+04\n",
      "Exterior1st_CBlock    3135.8273   1.45e+04      0.216      0.829   -2.54e+04    3.16e+04\n",
      "Exterior1st_CemntBd   -371.0114   1.77e+04     -0.021      0.983   -3.51e+04    3.44e+04\n",
      "Exterior1st_HdBoard  -1760.4546   6739.292     -0.261      0.794    -1.5e+04    1.15e+04\n",
      "Exterior1st_MetalSd   1549.3838   1.01e+04      0.153      0.878   -1.83e+04    2.14e+04\n",
      "Exterior1st_Plywood  -1341.2231   6837.263     -0.196      0.845   -1.48e+04    1.21e+04\n",
      "Exterior1st_Stucco    7486.0247   1.04e+04      0.718      0.473    -1.3e+04    2.79e+04\n",
      "Exterior1st_VinylSd  -7380.0551   9214.499     -0.801      0.423   -2.55e+04    1.07e+04\n",
      "Exterior1st_Wd Sdng  -2181.8387   6341.538     -0.344      0.731   -1.46e+04    1.03e+04\n",
      "Exterior1st_WdShing   6265.0701   8144.420      0.769      0.442   -9712.034    2.22e+04\n",
      "Exterior2nd_AsbShng    985.4459   1.27e+04      0.077      0.938    -2.4e+04     2.6e+04\n",
      "Exterior2nd_AsphShn   4586.6908   2.11e+04      0.217      0.828   -3.69e+04     4.6e+04\n",
      "Exterior2nd_Brk Cmn   6379.0820   1.99e+04      0.320      0.749   -3.27e+04    4.54e+04\n",
      "Exterior2nd_BrkFace  -7149.4081   8814.254     -0.811      0.417   -2.44e+04    1.01e+04\n",
      "Exterior2nd_CBlock    3135.8273   1.45e+04      0.216      0.829   -2.54e+04    3.16e+04\n",
      "Exterior2nd_CmentBd   5862.3950   1.78e+04      0.330      0.742    -2.9e+04    4.07e+04\n",
      "Exterior2nd_HdBoard    412.1018   6002.621      0.069      0.945   -1.14e+04    1.22e+04\n",
      "Exterior2nd_ImStucc     3.3e+04   1.06e+04      3.122      0.002    1.23e+04    5.37e+04\n",
      "Exterior2nd_MetalSd    825.2683   9875.398      0.084      0.933   -1.85e+04    2.02e+04\n",
      "Exterior2nd_Plywood   -920.7554   5497.905     -0.167      0.867   -1.17e+04    9864.617\n",
      "Exterior2nd_Stone    -3.125e+04   1.57e+04     -1.997      0.046   -6.19e+04    -544.966\n",
      "Exterior2nd_Stucco   -2.307e+04   9931.500     -2.323      0.020   -4.26e+04   -3589.926\n",
      "Exterior2nd_VinylSd   1.112e+04   8677.785      1.281      0.200   -5905.695    2.81e+04\n",
      "Exterior2nd_Wd Sdng   1032.3800   5491.627      0.188      0.851   -9740.677    1.18e+04\n",
      "Exterior2nd_Wd Shng  -8591.6205   6626.044     -1.297      0.195   -2.16e+04    4406.850\n",
      "Foundation_BrkTil    -2547.0869   4816.320     -0.529      0.597    -1.2e+04    6901.204\n",
      "Foundation_CBlock     2699.7382   4122.893      0.655      0.513   -5388.241    1.08e+04\n",
      "Foundation_PConc      5287.0398   4329.232      1.221      0.222   -3205.719    1.38e+04\n",
      "Foundation_Slab       -271.1209   7802.227     -0.035      0.972   -1.56e+04     1.5e+04\n",
      "Foundation_Stone      1.162e+04   1.16e+04      1.004      0.315   -1.11e+04    3.43e+04\n",
      "Foundation_Wood      -2.043e+04   1.57e+04     -1.302      0.193   -5.12e+04    1.04e+04\n",
      "HeatingQC_Ex          5393.3282   6365.907      0.847      0.397   -7094.824    1.79e+04\n",
      "HeatingQC_Fa          7278.3711   7119.432      1.022      0.307   -6687.990    2.12e+04\n",
      "HeatingQC_Gd          2098.8898   6413.899      0.327      0.744   -1.05e+04    1.47e+04\n",
      "HeatingQC_Po         -2.045e+04   2.64e+04     -0.773      0.439   -7.23e+04    3.14e+04\n",
      "HeatingQC_TA          2040.5452   6301.855      0.324      0.746   -1.03e+04    1.44e+04\n",
      "CentralAir_N           794.3913   3710.603      0.214      0.831   -6484.788    8073.571\n",
      "CentralAir_Y         -4434.5301   3802.367     -1.166      0.244   -1.19e+04    3024.664\n",
      "KitchenQual_Ex        2.569e+04   4024.639      6.383      0.000    1.78e+04    3.36e+04\n",
      "KitchenQual_Fa       -8150.8411   4766.268     -1.710      0.087   -1.75e+04    1199.262\n",
      "KitchenQual_Gd       -1.126e+04   2598.567     -4.334      0.000   -1.64e+04   -6164.340\n",
      "KitchenQual_TA       -9916.8553   2428.041     -4.084      0.000   -1.47e+04   -5153.708\n",
      "==============================================================================\n",
      "Omnibus:                      559.153   Durbin-Watson:                   1.857\n",
      "Prob(Omnibus):                  0.000   Jarque-Bera (JB):            74705.580\n",
      "Skew:                          -0.730   Prob(JB):                         0.00\n",
      "Kurtosis:                      38.158   Cond. No.                     7.52e+16\n",
      "==============================================================================\n",
      "\n",
      "Warnings:\n",
      "[1] Standard Errors assume that the covariance matrix of the errors is correctly specified.\n",
      "[2] The smallest eigenvalue is 5.46e-23. This might indicate that there are\n",
      "strong multicollinearity problems or that the design matrix is singular.\n"
     ]
    }
   ],
   "source": [
    "X_sm = sm.add_constant(X)\n",
    "lr_sm = sm.OLS(y, X_sm)\n",
    "lr_sm = lr_sm.fit()\n",
    "print(lr_sm.summary())"
   ]
  },
  {
   "cell_type": "markdown",
   "metadata": {},
   "source": [
    "### 2. Ridge Regression\n",
    "Least square solution is unbiased but potentially has high variance. The value in $w_{ML}$ may be huge. In general, we often want to constraint the model parameters. One way is to add regularization. Ridge Regression addresses variance issues with $w_{ML}$ by using the squared penalty on the gression coefficient vector $w$,\n",
    "$$w_{RR} = \\operatorname*{arg\\,min}_w \\|y-\\mathbf{X}w\\|^2+\\lambda\\|w\\|^2 = (\\lambda\\mathbf{I}+\\mathbf{X}^T\\mathbf{X})^{-1}\\mathbf{X}^Ty.$$\n",
    "\n",
    "### Probablisitc View: Ridge Regression and Bayesian Modeling\n",
    "Adding a $l2$ regularization term to linear regression is like defining a prior on the unknown parameter $w$ and trying to learn its posterior. \n",
    "\n",
    "In Bayesian setting, we can model the data as:\n",
    "\n",
    "**Likelihood:** $y \\sim N(Xw, \\sigma^2I)$\n",
    "\n",
    "**Prior:** $w \\sim N(0, \\lambda^{-1}I)$ Then \n",
    "$$p(w) = (\\frac{\\lambda}{2\\pi})^{\\frac{d}{2}} e^{-\\frac{\\lambda}{2}w^Tw}$$\n",
    "\n",
    "Maximum $\\textit{a poseriori}$ (MAP) estimation seeks the most probable value $w$ under the posterior:\n",
    "$$w_{MAP} = \\operatorname*{arg\\,max}_w\\ln p(w|y,X) = \\operatorname*{arg\\,max}_w\\ln p(y|w,X) + \\ln p(w)$$\n",
    "$$=\\operatorname*{arg\\,max}_w\\frac{1}{2\\sigma^2}(y-Xw)^T(y-Xw) - \\frac{\\lambda}{2}w^Tw + const.$$\n",
    "\n",
    "Take gradient of the function, we can get the solution for $w_{MAP}$ = $(\\lambda\\sigma^2I+X^TX)^{-1}X^Ty$.\n",
    "\n",
    "**Notice that $w_{MAP} = w_{RR}$**"
   ]
  },
  {
   "cell_type": "code",
   "execution_count": 28,
   "metadata": {},
   "outputs": [],
   "source": [
    "from sklearn.model_selection import GridSearchCV\n",
    "from sklearn.linear_model import Ridge"
   ]
  },
  {
   "cell_type": "code",
   "execution_count": 31,
   "metadata": {},
   "outputs": [
    {
     "name": "stdout",
     "output_type": "stream",
     "text": [
      "{'alpha': 0.70000000000000007} 0.798337499746\n",
      "R-squared: 0.892846699556\n",
      "RMSE: 22276.810783\n"
     ]
    }
   ],
   "source": [
    "param_grid = {'alpha': np.linspace(0, 10, 101)}\n",
    "ridge = Ridge(normalize=True)\n",
    "gs_ridge = GridSearchCV(ridge, param_grid, cv=5)\n",
    "gs_ridge.fit(X_train, y_train)\n",
    "print(gs_ridge.best_params_, gs_ridge.best_score_)\n",
    "\n",
    "y_pred = gs_ridge.predict(X_test)\n",
    "print(\"R-squared:\", gs_ridge.score(X_test, y_test))\n",
    "print(\"RMSE:\", np.sqrt(mean_squared_error(y_test, y_pred)))"
   ]
  },
  {
   "cell_type": "markdown",
   "metadata": {},
   "source": [
    "### 3. Sparse Regression (Lasso)\n",
    "The pentalty term of Lasso will select a small subset of the d dimensions and switch off the rest, encourasing sparse solutions.\n",
    "\n",
    "**LASSO:** Least Absolute Shrinkage and Selection Operator\n",
    "\n",
    "With the LASSO, we replac the $l_2$ penalty with an $l_1$ penalty:\n",
    "$$w_{lasso} = \\operatorname*{arg\\,min}_w \\|y-\\mathbf{X}w\\|^2+\\lambda\\|w\\|_1,$$\n",
    "where\n",
    "$$\\|w\\|_1 = \\sum_{j=1}^{d}|w_j|.$$"
   ]
  },
  {
   "cell_type": "code",
   "execution_count": 40,
   "metadata": {},
   "outputs": [],
   "source": [
    "# Suppress warnings from using Lasso\n",
    "import warnings\n",
    "def warn(*args, **kwargs):\n",
    "    pass\n",
    "import warnings\n",
    "warnings.warn = warn"
   ]
  },
  {
   "cell_type": "code",
   "execution_count": 41,
   "metadata": {},
   "outputs": [],
   "source": [
    "from sklearn.linear_model import Lasso"
   ]
  },
  {
   "cell_type": "code",
   "execution_count": 43,
   "metadata": {},
   "outputs": [
    {
     "name": "stdout",
     "output_type": "stream",
     "text": [
      "{'alpha': 10.0} 0.778958046344\n",
      "R-squared: 0.883019421248\n",
      "RMSE: 23275.9343009\n"
     ]
    }
   ],
   "source": [
    "param_grid = {'alpha': np.linspace(0, 10, 11)}\n",
    "lasso = Lasso(normalize=True)\n",
    "gs_lasso = GridSearchCV(lasso, param_grid, cv=5)\n",
    "gs_lasso.fit(X_train, y_train)\n",
    "print(gs_lasso.best_params_, gs_lasso.best_score_)\n",
    "\n",
    "y_pred = gs_lasso.predict(X_test)\n",
    "print(\"R-squared:\", gs_lasso.score(X_test, y_test))\n",
    "print(\"RMSE:\", np.sqrt(mean_squared_error(y_test, y_pred)))"
   ]
  },
  {
   "cell_type": "markdown",
   "metadata": {},
   "source": [
    "### 4. Elastic Net\n",
    "Elastic Net combines $l_1$ and $l_2$ penalties.\n",
    "$$w_{elastic} = \\operatorname*{argmin}_w \\|y-\\mathbf{X}w\\|^2+\\lambda_2\\|w\\|^2+\\lambda_1\\|w\\|_1$$"
   ]
  },
  {
   "cell_type": "code",
   "execution_count": 21,
   "metadata": {},
   "outputs": [],
   "source": [
    "from sklearn.linear_model import ElasticNet"
   ]
  },
  {
   "cell_type": "code",
   "execution_count": 54,
   "metadata": {},
   "outputs": [
    {
     "name": "stdout",
     "output_type": "stream",
     "text": [
      "{'l1_ratio': 1, 'alpha': 1.0} 0.752483263323\n",
      "R-squared: 0.859179034362\n",
      "RMSE: 25537.8245446\n"
     ]
    }
   ],
   "source": [
    "param_grid = {'alpha': np.linspace(0, 1, 5), 'l1_ratio': [0.1, 1]}\n",
    "en = ElasticNet()\n",
    "gs_en = GridSearchCV(en, param_grid, cv=5)\n",
    "gs_en.fit(X_train, y_train)\n",
    "print(gs_en.best_params_, gs_en.best_score_)\n",
    "\n",
    "y_pred = gs_en.predict(X_test)\n",
    "print(\"R-squared:\", gs_en.score(X_test, y_test))\n",
    "print(\"RMSE:\", np.sqrt(mean_squared_error(y_test, y_pred)))"
   ]
  },
  {
   "cell_type": "markdown",
   "metadata": {},
   "source": [
    "### Model Comparison - Linear Regression, Ridge, Lasso, and Elastic Net\n",
    "#### Predictive Performance\n",
    "In general, regression models with regularization terms have better prediction, or generalization, than linear regression."
   ]
  },
  {
   "cell_type": "code",
   "execution_count": 62,
   "metadata": {},
   "outputs": [],
   "source": [
    "df_variance = pd.DataFrame({})\n",
    "# Apply best models from grid search\n",
    "for (k,v) in zip(['Linear Regression', 'Ridge Regression', 'Sparse Regression', 'Elastic Net'],\n",
    "                 [lr, Ridge(alpha=0.7), Lasso(alpha=10), ElasticNet(alpha=1, l1_ratio=1)]):\n",
    "    cv_results = cross_val_score(v, X, y, cv=5)\n",
    "    df_variance[k] = cv_results"
   ]
  },
  {
   "cell_type": "code",
   "execution_count": 63,
   "metadata": {},
   "outputs": [
    {
     "data": {
      "image/png": "[encoded data removed]",
      "text/plain": [
       "<matplotlib.figure.Figure at 0x23d8ee64ac8>"
      ]
     },
     "metadata": {
      "needs_background": "light"
     },
     "output_type": "display_data"
    }
   ],
   "source": [
    "df_variance_plot = df_variance.melt()\n",
    "plt.plot(df_variance_plot['variable'], df_variance_plot['value'], 'o')\n",
    "plt.show()"
   ]
  },
  {
   "cell_type": "markdown",
   "metadata": {},
   "source": [
    "#### Coefficients - Quadratic Penalty (Ridge) vs Linear Penalty (Lasso)\n",
    "- Suppose $w_k$ is large, all other$w_j$ are very small but non-zero\n",
    "- Linear penalty: Penalty should keep $w_k$ and push other $w_j$ to zero\n",
    "- Quadratic penalty: Will favor entries $w_j$ with all have similar size, and so it will push $w_k$ towards small value.\n",
    "\n",
    "Overall, a quadratic penalty favors many small but non-zero values, and a linear penalty term achieves sparsity"
   ]
  },
  {
   "cell_type": "code",
   "execution_count": 81,
   "metadata": {},
   "outputs": [
    {
     "data": {
      "image/png": "[encoded data removed]",
      "text/plain": [
       "<matplotlib.figure.Figure at 0x23d8b6e2400>"
      ]
     },
     "metadata": {
      "needs_background": "light"
     },
     "output_type": "display_data"
    }
   ],
   "source": [
    "plt.figure(figsize=(18, 4))\n",
    "plt.plot(lr.coef_.squeeze(), label='LR', alpha = 0.5)\n",
    "plt.plot(gs_ridge.best_estimator_.coef_.squeeze(), color = 'green', label='Ridge', alpha =0.5)\n",
    "plt.plot(gs_lasso.best_estimator_.coef_, color = 'orange', label='Lasso', alpha =0.5)\n",
    "plt.legend();"
   ]
  },
  {
   "cell_type": "markdown",
   "metadata": {},
   "source": [
    "### 5. Kernel Ridge\n",
    "Definition from sklearn: Kernel ridge regression (KRR) combines ridge regression (linear least squares with l2-norm regularization) with the kernel trick. It thus learns a linear function in the space induced by the respective kernel and the data.\n",
    "\n",
    "### Kernels\n",
    "A kernel $K(\\cdot,\\cdot): \\mathbb{R}^d \\times \\mathbb{R}^d \\rightarrow$ is a symmetric function defined as follows:\n",
    "\n",
    "For any set of n data points $x_1,...,x_n \\in \\mathbb{R}^d$, the $n \\times n$ matrix $K$, where $K_{ij} = K(x_i, x_j)$, is positive semidefinite.\n",
    "\n",
    "From Mercer's theorem, if the function $K(\\cdot,\\cdot)$ satisfies the above properties, then there exists a mapping $\\pi: \\mathbb{R}^d \\rightarrow \\mathbb{R}^D$ such that\n",
    "$$K(x_i, x_j) = \\pi(x_i)^T\\pi(x_j).$$\n",
    "\n",
    "We usually only define $K(\\cdot,\\cdot)$ and avoid ever using $\\phi(\\cdot)$. However, the kernel $K(\\cdot,\\cdot)$ implies that x_i and x_j have been mapped into a higher, or infinite, dimension $D$ to get the output."
   ]
  },
  {
   "cell_type": "code",
   "execution_count": 72,
   "metadata": {},
   "outputs": [],
   "source": [
    "from sklearn.kernel_ridge import KernelRidge"
   ]
  },
  {
   "cell_type": "code",
   "execution_count": 80,
   "metadata": {},
   "outputs": [
    {
     "name": "stdout",
     "output_type": "stream",
     "text": [
      "{'alpha': 10} 0.75619309626\n",
      "R-squared: 0.876486633334\n",
      "RMSE: 23917.0284244\n"
     ]
    }
   ],
   "source": [
    "param_grid = {'alpha': [0.1, 1, 10, 100]}\n",
    "kr = KernelRidge()\n",
    "gs_kr = GridSearchCV(kr, param_grid, cv=5)\n",
    "gs_kr.fit(X_train, y_train)\n",
    "print(gs_kr.best_params_, gs_kr.best_score_)\n",
    "\n",
    "y_pred = gs_kr.predict(X_test)\n",
    "print(\"R-squared:\", gs_kr.score(X_test, y_test))\n",
    "print(\"RMSE:\", np.sqrt(mean_squared_error(y_test, y_pred)))"
   ]
  },
  {
   "cell_type": "markdown",
   "metadata": {},
   "source": [
    "### 6. Regression Tree"
   ]
  },
  {
   "cell_type": "code",
   "execution_count": 82,
   "metadata": {},
   "outputs": [],
   "source": [
    "from sklearn.tree import DecisionTreeRegressor"
   ]
  },
  {
   "cell_type": "code",
   "execution_count": 86,
   "metadata": {},
   "outputs": [
    {
     "name": "stdout",
     "output_type": "stream",
     "text": [
      "{'max_depth': 7, 'max_features': 'auto', 'min_samples_split': 9} 0.697995302602\n",
      "0.766038280672\n",
      "32917.181488\n"
     ]
    }
   ],
   "source": [
    "param_grid = {'max_depth': np.arange(4,9), \n",
    "              'min_samples_split': np.arange(2,11), \n",
    "              'max_features': ['auto', 'sqrt']}\n",
    "dt = DecisionTreeRegressor()\n",
    "gs_dt = GridSearchCV(dt, param_grid, cv=5)\n",
    "gs_dt.fit(X_train, y_train)\n",
    "print(gs_dt.best_params_, gs_dt.best_score_)\n",
    "\n",
    "y_pred = gs_dt.predict(X_test)\n",
    "print(gs_dt.score(X_test, y_test))\n",
    "print(np.sqrt(mean_squared_error(y_test, y_pred)))"
   ]
  },
  {
   "cell_type": "markdown",
   "metadata": {},
   "source": [
    "## Ensemble Models"
   ]
  },
  {
   "cell_type": "markdown",
   "metadata": {},
   "source": [
    "### Bagging\n",
    "\n",
    "Bagging uses the boostrap for regression or classification: **Bagging** = **B**oostrap **agg**regation\n",
    "\n",
    "#### Algorithm\n",
    "For $b = 1,...,B$:\n",
    "1. Draw a boostrap sample $\\mathbb{B}_b$ of size $n$ from training data. (Boostrap = resampling with replacement)\n",
    "2. Train a classifier or regression model $f_b$ on $\\mathbb{B}_b$\n",
    "    - For a new point $x_0$, compute:\n",
    "    $$f_avg(X_0) = \\frac{1}{B}\\sum{b=1}^{B}f_b(X_0)$$\n",
    "    - For regression, f_avg(x_0) is the prediction\n",
    "    - For classification, view f_avg(x_0) as an average over $B$ votes. Pick the majority."
   ]
  },
  {
   "cell_type": "code",
   "execution_count": 87,
   "metadata": {},
   "outputs": [],
   "source": [
    "from sklearn.ensemble import BaggingRegressor"
   ]
  },
  {
   "cell_type": "code",
   "execution_count": 109,
   "metadata": {},
   "outputs": [],
   "source": [
    "def apply_bagging(model, X_train, y_train, X_test, y_test, iteration = 10):\n",
    "    bagging = BaggingRegressor(model,\n",
    "                               n_estimators=iteration)\n",
    "    bagging.fit(X_train, y_train)\n",
    "    y_pred = bagging.predict(X_test)\n",
    "    print('R-squared: {} RMSE: {}'.format(bagging.score(X_test, y_test), \n",
    "                                          np.sqrt(mean_squared_error(y_test, y_pred))))"
   ]
  },
  {
   "cell_type": "code",
   "execution_count": 112,
   "metadata": {},
   "outputs": [
    {
     "name": "stdout",
     "output_type": "stream",
     "text": [
      "Linear Regression\n",
      "R-squared: -65639786.51282491 RMSE: 551358181.1400583\n",
      "Ridge Regression\n",
      "R-squared: 0.8960664798194211 RMSE: 21939.567313765543\n",
      "Sparse Regression\n",
      "R-squared: 0.8884988886813485 RMSE: 22724.26461515499\n",
      "Kernel Regression\n",
      "R-squared: 0.8908491365634631 RMSE: 22483.49528643615\n",
      "Decision Tree Regression\n",
      "R-squared: 0.859535004883625 RMSE: 25505.526566497887\n"
     ]
    }
   ],
   "source": [
    "# initiate best models from previous codes\n",
    "lr = LinearRegression()\n",
    "ridge = Ridge(alpha=0.7, normalize=True)\n",
    "lasso = Lasso(alpha=10, normalize=True)\n",
    "kr = KernelRidge(alpha=10)\n",
    "dt = DecisionTreeRegressor(max_depth=7, max_features='auto', min_samples_split=9)\n",
    "\n",
    "models = [lr, ridge, lasso, kr, dt]\n",
    "model_names = ['Linear Regression',\n",
    "               'Ridge Regression',\n",
    "               'Sparse Regression',\n",
    "               'Kernel Regression',\n",
    "               'Decision Tree Regression']\n",
    "for (k, v) in zip(model_names, models):\n",
    "    print(k)\n",
    "    apply_bagging(v, X_train, np.ravel(y_train), X_test, y_test, 100)"
   ]
  },
  {
   "cell_type": "markdown",
   "metadata": {},
   "source": [
    "#### Model Improvement\n",
    "- We can further use the parameter max_features in BaggingRegressor to select a subset of features. However, if we use all features by default setting, bagged regressions are correlated. In general, when bootstrap samples are correlated, the benefit of bagging decreases. This could be the reason why bagging doesn't improve much compare to single models.\n",
    "- Random forests model is a modification of bagging where trees are designed to reduce correlation. The modification is to only consider random subset of dimensions of $x \\in \\mathbb{R}^d$."
   ]
  },
  {
   "cell_type": "markdown",
   "metadata": {},
   "source": [
    "### Random Forest\n",
    "\n",
    "#### Algorithm\n",
    "Input parameter: $m$ - a positive integer with $m<d$ often $m \\approx \\sqrt{d}$\n",
    "For $b = 1,...,B$:\n",
    "1. Draw a boostrap sample $\\mathbb{B}_b$ of size $n$ from the training data.\n",
    "2. Train a tree classfier on $\\mathbb{B}_b$, where each split is computed as follows:\n",
    "    - Randomly select $m$ dimensions of $x \\in \\mathbb{R}^d$ newly chosen for each $b$.\n",
    "    - Make the best split restricted to that subset of dimensions."
   ]
  },
  {
   "cell_type": "code",
   "execution_count": 114,
   "metadata": {},
   "outputs": [],
   "source": [
    "from sklearn.ensemble import RandomForestRegressor"
   ]
  },
  {
   "cell_type": "code",
   "execution_count": 115,
   "metadata": {},
   "outputs": [
    {
     "name": "stdout",
     "output_type": "stream",
     "text": [
      "{'max_depth': 9, 'max_features': 'auto', 'n_estimators': 500} 0.837605990642\n",
      "0.869178488593 24614.432142\n"
     ]
    }
   ],
   "source": [
    "param_grid = {'n_estimators':[100, 500, 1000],\n",
    "              'max_depth': np.arange(4, 10), \n",
    "              'max_features': ['auto', 'sqrt']}\n",
    "rf = RandomForestRegressor()\n",
    "gs_rf = GridSearchCV(rf, param_grid, cv=5)\n",
    "gs_rf.fit(X_train, np.ravel(y_train))\n",
    "print(gs_rf.best_params_, gs_rf.best_score_)\n",
    "\n",
    "y_pred = gs_rf.predict(X_test)\n",
    "print(gs_rf.score(X_test, y_test), np.sqrt(mean_squared_error(y_test, y_pred)))"
   ]
  },
  {
   "cell_type": "markdown",
   "metadata": {},
   "source": [
    "### AdaBoosting\n",
    "\n",
    "In bagging, each training example is equally likely to be picked. In boosting, the probability of a particular example being in the training set of a particular machine depends on the performance of the prior machines on that sample. In each round, each training samples is assigned a new weight depending on the prediction performance from the previous round. More weights are assigned to samples with worse prediction so that each subsequent machine would focus on training the \"difficult\" samples.\n",
    "\n",
    "#### Algorithm\n",
    "Given $(x_1, y_1),...,(x_n, y_n)$, assign a weight $w_i=1$ for $i = 1,...,n$.\n",
    "\n",
    "For $t = 1,..., T$\n",
    "1. The probability that training sample $i$ is in the training set is $p_i = \\frac{w_i}{\\sum w_i}$ where the summation is over all members of the training set. Pick $n$ samples with replacement to form the training set.\n",
    "2. Construct a regression machine $t$.\n",
    "3. Make prediction $y_i^{(p)}(x_i)$ for $i=1,...,n$ with machine $t$. **Note: $y_i^{(p)}(x_i)$ is not the final prediction.**\n",
    "4. Calculate a loss for $y_i^{(p)}(x_i)$ and $y_i$. The loss function may be of any functional form as long as $L \\in$ [0,1]. If we let $$ D = sup|y_i^{(p)}(x_i)-y_i|  i = 1,...,n,$$ which means D is the largest error, then we have three candidate loss functions:\n",
    "$$L_i=\\frac{|y_i^{(p)}(x_i)-y_i|}{D} \\textit{(linear)}$$\n",
    "$$L_i=\\frac{|y_i^{(p)}(x_i)-y_i|^2}{D^2} \\textit{(square law)}$$\n",
    "$$L_i=1-\\exp\\left[\\frac{-|y_i^{(p)}(x_i)-y_i|}{D}\\right] \\textit{(exponential)}$$\n",
    "5. Calculate aveage loss $\\overline{L}=\\sum_{i=1}^{N_1}L_ip_i$\n",
    "6. Form $\\beta=\\frac{\\overline{L}}{1-\\overline{L}}$. $\\beta$ is a measure of confidence in the predictor. Low $\\beta$ means high confidence in the prediction.\n",
    "7. Update the weights: $w_i \\rightarrow w_i\\beta^{[1-L_i]}$. The smaller the loss, the more weight is reduced , making the sample less likely to be picked in the next round.\n",
    "8. For a particular input $x_i$, each of the $T$ machines makes a prediction $h_t, t=1,...,T$. $h_f$ is cumulative prediction using the $T$ predictors:\n",
    "$$h_f = inf\\bigg\\{y \\in Y: \\sum_{t:h_t\\leq y}log(\\frac{1}{\\beta_t})\\geq\\frac{1}{2}\\sum_{t}log(\\frac{1}{\\beta_t})\\bigg\\}$$\n",
    "This equation is essentially relabel $y_i$ such that $y_i^{(1)}<y_i^{(2)}<,...,y_i^{(T)}$. Then sum the $log(1/\\beta_t)$ until we reach the smallest t that is equal or grater than $\\frac{1}{2}\\sum_{t}log(\\frac{1}{\\beta_t})$. This is the weighted median. If the $\\beta_t$ were all equal, this would be the median.\n"
   ]
  },
  {
   "cell_type": "code",
   "execution_count": 322,
   "metadata": {},
   "outputs": [],
   "source": [
    "from sklearn.ensemble import AdaBoostRegressor"
   ]
  },
  {
   "cell_type": "code",
   "execution_count": 334,
   "metadata": {},
   "outputs": [
    {
     "name": "stdout",
     "output_type": "stream",
     "text": [
      "0.876690211953 23897.3098963\n"
     ]
    }
   ],
   "source": [
    "abr = AdaBoostRegressor(DecisionTreeRegressor(max_depth=20), \n",
    "                        n_estimators=100,\n",
    "                        loss='exponential')\n",
    "abr.fit(X_train, np.ravel(y_train))\n",
    "y_pred = abr.predict(X_test)\n",
    "print(abr.score(X_test, y_test), np.sqrt(mean_squared_error(y_test, y_pred)))"
   ]
  },
  {
   "cell_type": "code",
   "execution_count": 411,
   "metadata": {},
   "outputs": [
    {
     "name": "stdout",
     "output_type": "stream",
     "text": [
      "{'n_estimators': 500} 0.851484206112\n"
     ]
    }
   ],
   "source": [
    "param_grid = {'n_estimators': [100, 250, 500]}\n",
    "abr = AdaBoostRegressor(DecisionTreeRegressor(max_depth=10))\n",
    "gs_cv = GridSearchCV(abr, param_grid, cv = 5)\n",
    "gs_cv.fit(X_train, np.ravel(y_train))\n",
    "print(gs_cv.best_params_, gs_cv.best_score_)"
   ]
  },
  {
   "cell_type": "markdown",
   "metadata": {},
   "source": [
    "### Gradient Boost"
   ]
  },
  {
   "cell_type": "code",
   "execution_count": 341,
   "metadata": {},
   "outputs": [],
   "source": [
    "from sklearn.ensemble import GradientBoostingRegressor"
   ]
  },
  {
   "cell_type": "code",
   "execution_count": 345,
   "metadata": {},
   "outputs": [
    {
     "name": "stdout",
     "output_type": "stream",
     "text": [
      "0.828102282846 28215.3404201\n"
     ]
    }
   ],
   "source": [
    "gbr = GradientBoostingRegressor(learning_rate = 0.01,\n",
    "                                n_estimators = 1000,\n",
    "                                max_depth = 10)\n",
    "gbr.fit(X_train, np.ravel(y_train))\n",
    "y_pred = gbr.predict(X_test)\n",
    "print(gbr.score(X_test, y_test), np.sqrt(mean_squared_error(y_test, y_pred)))"
   ]
  },
  {
   "cell_type": "code",
   "execution_count": 359,
   "metadata": {},
   "outputs": [
    {
     "name": "stdout",
     "output_type": "stream",
     "text": [
      "{'n_estimators': 100, 'learning_rate': 0.15555555555555556} 0.870965627566\n"
     ]
    }
   ],
   "source": [
    "param_grid = {'n_estimators': [100, 150],\n",
    "              'learning_rate': np.linspace(0.1, 0.2, 10)}\n",
    "gbr = GradientBoostingRegressor(max_depth=8, max_features='sqrt')\n",
    "gs_cv = GridSearchCV(estimator=gbr, param_grid=param_grid, cv=5)\n",
    "gs_cv.fit(X_train, np.ravel(y_train))\n",
    "print(gs_cv.best_params_, gs_cv.best_score_)"
   ]
  },
  {
   "cell_type": "markdown",
   "metadata": {},
   "source": [
    "<a id = \"conclusion\"></a>\n",
    "## Performance & Conclusion"
   ]
  },
  {
   "cell_type": "code",
   "execution_count": 99,
   "metadata": {},
   "outputs": [
    {
     "data": {
      "text/plain": [
       "array([[ 116384.01574647],\n",
       "       [ 158760.01461952],\n",
       "       [ 175540.3231846 ],\n",
       "       ..., \n",
       "       [ 181877.81006835],\n",
       "       [  93139.64124942],\n",
       "       [ 220235.59814217]])"
      ]
     },
     "execution_count": 99,
     "metadata": {},
     "output_type": "execute_result"
    }
   ],
   "source": [
    "X_test_kaggle, y_test_kaggle = house_price_data_cleaning(df_test, drop_cols)\n",
    "lr_kaggle = LinearRegression()\n",
    "lr_kaggle.fit(X, y)\n",
    "y_pred_kaggle = lr_kaggle.predict(X_test_kaggle)\n",
    "y_pred_kaggle"
   ]
  },
  {
   "cell_type": "markdown",
   "metadata": {},
   "source": [
    "### References for Model Introduction and Algorithms\n",
    "- Applied Machine Learning Certification - Columnbia Engineering Executive Education\n",
    "\n",
    "#### Note: The coding was done through personal works and researches and not borrowed from the certification course."
   ]
  },
  {
   "cell_type": "code",
   "execution_count": 177,
   "metadata": {},
   "outputs": [],
   "source": [
    "# Kaggle score 0.21015; Rank 3817\n",
    "pd.DataFrame({'Id': df_test.Id.values,\n",
    "              'SalePrice': np.squeeze(y_pred_kaggle)}).to_csv('../project-house-price-prediction/data/pred.csv',\n",
    "                                                             index=False)"
   ]
  },
  {
   "cell_type": "code",
   "execution_count": 35,
   "metadata": {},
   "outputs": [],
   "source": [
    "# Kaggle score 0.19031; Rank 3619\n",
    "ridge_kaggle = Ridge(alpha=0.5, normalize=True)\n",
    "ridge_kaggle.fit(X, y)\n",
    "y_pred_kaggle = ridge_kaggle.predict(X_test_kaggle)\n",
    "pd.DataFrame({'Id': df_test.Id.values,\n",
    "              'SalePrice': np.squeeze(y_pred_kaggle)}).to_csv('../project-house-price-prediction/data/pred.csv',\n",
    "                                                              index=False)"
   ]
  },
  {
   "cell_type": "code",
   "execution_count": 100,
   "metadata": {},
   "outputs": [
    {
     "name": "stderr",
     "output_type": "stream",
     "text": [
      "c:\\users\\byron\\appdata\\local\\programs\\python\\python35\\lib\\site-packages\\sklearn\\linear_model\\coordinate_descent.py:491: ConvergenceWarning: Objective did not converge. You might want to increase the number of iterations. Fitting data with very small alpha may cause precision problems.\n",
      "  ConvergenceWarning)\n"
     ]
    }
   ],
   "source": [
    "# Worse performance than Ridge Regression\n",
    "elastic_net_kaggle = ElasticNet(alpha=0.01, l1_ratio=0.1)\n",
    "elastic_net_kaggle.fit(X, y)\n",
    "y_pred_kaggle = elastic_net_kaggle.predict(X_test_kaggle)\n",
    "pd.DataFrame({'Id': df_test.Id.values,\n",
    "              'SalePrice': np.squeeze(y_pred_kaggle)}).to_csv('../project-house-price-prediction/data/pred.csv',\n",
    "                                                              index=False)"
   ]
  },
  {
   "cell_type": "code",
   "execution_count": 124,
   "metadata": {},
   "outputs": [],
   "source": [
    "# 0.18998; Rank 3587\n",
    "alpha_space = np.linspace(0, 1, 101)\n",
    "param_grid = {'alpha': alpha_space}\n",
    "ridge = Ridge(normalize=True)\n",
    "gm_cv = GridSearchCV(ridge, param_grid, cv=6)\n",
    "gm_cv.fit(X, y)\n",
    "y_pred_kaggle = gm_cv.predict(X_test_kaggle)\n",
    "pd.DataFrame({'Id': df_test.Id.values,\n",
    "              'SalePrice': np.squeeze(y_pred_kaggle)}).to_csv('../project-house-price-prediction/data/pred.csv',\n",
    "                                                              index=False)"
   ]
  },
  {
   "cell_type": "code",
   "execution_count": 264,
   "metadata": {},
   "outputs": [],
   "source": [
    "alpha_space = np.linspace(1, 5, 101)\n",
    "param_grid = {'alpha': alpha_space}\n",
    "kr = KernelRidge()\n",
    "gs_cv = GridSearchCV(kr, param_grid, cv=5)\n",
    "gs_cv.fit(X, y)\n",
    "y_pred_kaggle = gs_cv.predict(X_test_kaggle)\n",
    "pd.DataFrame({'Id': df_test.Id.values,\n",
    "              'SalePrice': np.squeeze(y_pred_kaggle)}).to_csv('../project-house-price-prediction/data/pred.csv',\n",
    "                                                              index=False)"
   ]
  },
  {
   "cell_type": "code",
   "execution_count": 379,
   "metadata": {},
   "outputs": [
    {
     "ename": "KeyboardInterrupt",
     "evalue": "",
     "output_type": "error",
     "traceback": [
      "\u001b[1;31m---------------------------------------------------------------------------\u001b[0m",
      "\u001b[1;31mKeyboardInterrupt\u001b[0m                         Traceback (most recent call last)",
      "\u001b[1;32m<ipython-input-379-6a9b933261c6>\u001b[0m in \u001b[0;36m<module>\u001b[1;34m()\u001b[0m\n\u001b[0;32m      7\u001b[0m \u001b[0mgbr\u001b[0m \u001b[1;33m=\u001b[0m \u001b[0mGradientBoostingRegressor\u001b[0m\u001b[1;33m(\u001b[0m\u001b[1;33m)\u001b[0m\u001b[1;33m\u001b[0m\u001b[0m\n\u001b[0;32m      8\u001b[0m \u001b[0mgs_cv\u001b[0m \u001b[1;33m=\u001b[0m \u001b[0mGridSearchCV\u001b[0m\u001b[1;33m(\u001b[0m\u001b[0mestimator\u001b[0m\u001b[1;33m=\u001b[0m\u001b[0mgbr\u001b[0m\u001b[1;33m,\u001b[0m \u001b[0mparam_grid\u001b[0m\u001b[1;33m=\u001b[0m\u001b[0mparam_grid\u001b[0m\u001b[1;33m,\u001b[0m \u001b[0mcv\u001b[0m\u001b[1;33m=\u001b[0m\u001b[1;36m5\u001b[0m\u001b[1;33m)\u001b[0m\u001b[1;33m\u001b[0m\u001b[0m\n\u001b[1;32m----> 9\u001b[1;33m \u001b[0mgs_cv\u001b[0m\u001b[1;33m.\u001b[0m\u001b[0mfit\u001b[0m\u001b[1;33m(\u001b[0m\u001b[0mX\u001b[0m\u001b[1;33m,\u001b[0m \u001b[0mnp\u001b[0m\u001b[1;33m.\u001b[0m\u001b[0mravel\u001b[0m\u001b[1;33m(\u001b[0m\u001b[0my\u001b[0m\u001b[1;33m)\u001b[0m\u001b[1;33m)\u001b[0m\u001b[1;33m\u001b[0m\u001b[0m\n\u001b[0m\u001b[0;32m     10\u001b[0m \u001b[0mprint\u001b[0m\u001b[1;33m(\u001b[0m\u001b[0mgs_cv\u001b[0m\u001b[1;33m.\u001b[0m\u001b[0mbest_params_\u001b[0m\u001b[1;33m,\u001b[0m \u001b[0mgs_cv\u001b[0m\u001b[1;33m.\u001b[0m\u001b[0mbest_score_\u001b[0m\u001b[1;33m)\u001b[0m\u001b[1;33m\u001b[0m\u001b[0m\n\u001b[0;32m     11\u001b[0m \u001b[0my_pred_kaggle\u001b[0m \u001b[1;33m=\u001b[0m \u001b[0mgs_cv\u001b[0m\u001b[1;33m.\u001b[0m\u001b[0mpredict\u001b[0m\u001b[1;33m(\u001b[0m\u001b[0mX_test_kaggle\u001b[0m\u001b[1;33m)\u001b[0m\u001b[1;33m\u001b[0m\u001b[0m\n",
      "\u001b[1;32mc:\\users\\byron\\appdata\\local\\programs\\python\\python35\\lib\\site-packages\\sklearn\\model_selection\\_search.py\u001b[0m in \u001b[0;36mfit\u001b[1;34m(self, X, y, groups, **fit_params)\u001b[0m\n\u001b[0;32m    637\u001b[0m                                   error_score=self.error_score)\n\u001b[0;32m    638\u001b[0m           for parameters, (train, test) in product(candidate_params,\n\u001b[1;32m--> 639\u001b[1;33m                                                    cv.split(X, y, groups)))\n\u001b[0m\u001b[0;32m    640\u001b[0m \u001b[1;33m\u001b[0m\u001b[0m\n\u001b[0;32m    641\u001b[0m         \u001b[1;31m# if one choose to see train score, \"out\" will contain train score info\u001b[0m\u001b[1;33m\u001b[0m\u001b[1;33m\u001b[0m\u001b[0m\n",
      "\u001b[1;32mc:\\users\\byron\\appdata\\local\\programs\\python\\python35\\lib\\site-packages\\sklearn\\externals\\joblib\\parallel.py\u001b[0m in \u001b[0;36m__call__\u001b[1;34m(self, iterable)\u001b[0m\n\u001b[0;32m    777\u001b[0m             \u001b[1;31m# was dispatched. In particular this covers the edge\u001b[0m\u001b[1;33m\u001b[0m\u001b[1;33m\u001b[0m\u001b[0m\n\u001b[0;32m    778\u001b[0m             \u001b[1;31m# case of Parallel used with an exhausted iterator.\u001b[0m\u001b[1;33m\u001b[0m\u001b[1;33m\u001b[0m\u001b[0m\n\u001b[1;32m--> 779\u001b[1;33m             \u001b[1;32mwhile\u001b[0m \u001b[0mself\u001b[0m\u001b[1;33m.\u001b[0m\u001b[0mdispatch_one_batch\u001b[0m\u001b[1;33m(\u001b[0m\u001b[0miterator\u001b[0m\u001b[1;33m)\u001b[0m\u001b[1;33m:\u001b[0m\u001b[1;33m\u001b[0m\u001b[0m\n\u001b[0m\u001b[0;32m    780\u001b[0m                 \u001b[0mself\u001b[0m\u001b[1;33m.\u001b[0m\u001b[0m_iterating\u001b[0m \u001b[1;33m=\u001b[0m \u001b[1;32mTrue\u001b[0m\u001b[1;33m\u001b[0m\u001b[0m\n\u001b[0;32m    781\u001b[0m             \u001b[1;32melse\u001b[0m\u001b[1;33m:\u001b[0m\u001b[1;33m\u001b[0m\u001b[0m\n",
      "\u001b[1;32mc:\\users\\byron\\appdata\\local\\programs\\python\\python35\\lib\\site-packages\\sklearn\\externals\\joblib\\parallel.py\u001b[0m in \u001b[0;36mdispatch_one_batch\u001b[1;34m(self, iterator)\u001b[0m\n\u001b[0;32m    623\u001b[0m                 \u001b[1;32mreturn\u001b[0m \u001b[1;32mFalse\u001b[0m\u001b[1;33m\u001b[0m\u001b[0m\n\u001b[0;32m    624\u001b[0m             \u001b[1;32melse\u001b[0m\u001b[1;33m:\u001b[0m\u001b[1;33m\u001b[0m\u001b[0m\n\u001b[1;32m--> 625\u001b[1;33m                 \u001b[0mself\u001b[0m\u001b[1;33m.\u001b[0m\u001b[0m_dispatch\u001b[0m\u001b[1;33m(\u001b[0m\u001b[0mtasks\u001b[0m\u001b[1;33m)\u001b[0m\u001b[1;33m\u001b[0m\u001b[0m\n\u001b[0m\u001b[0;32m    626\u001b[0m                 \u001b[1;32mreturn\u001b[0m \u001b[1;32mTrue\u001b[0m\u001b[1;33m\u001b[0m\u001b[0m\n\u001b[0;32m    627\u001b[0m \u001b[1;33m\u001b[0m\u001b[0m\n",
      "\u001b[1;32mc:\\users\\byron\\appdata\\local\\programs\\python\\python35\\lib\\site-packages\\sklearn\\externals\\joblib\\parallel.py\u001b[0m in \u001b[0;36m_dispatch\u001b[1;34m(self, batch)\u001b[0m\n\u001b[0;32m    586\u001b[0m         \u001b[0mdispatch_timestamp\u001b[0m \u001b[1;33m=\u001b[0m \u001b[0mtime\u001b[0m\u001b[1;33m.\u001b[0m\u001b[0mtime\u001b[0m\u001b[1;33m(\u001b[0m\u001b[1;33m)\u001b[0m\u001b[1;33m\u001b[0m\u001b[0m\n\u001b[0;32m    587\u001b[0m         \u001b[0mcb\u001b[0m \u001b[1;33m=\u001b[0m \u001b[0mBatchCompletionCallBack\u001b[0m\u001b[1;33m(\u001b[0m\u001b[0mdispatch_timestamp\u001b[0m\u001b[1;33m,\u001b[0m \u001b[0mlen\u001b[0m\u001b[1;33m(\u001b[0m\u001b[0mbatch\u001b[0m\u001b[1;33m)\u001b[0m\u001b[1;33m,\u001b[0m \u001b[0mself\u001b[0m\u001b[1;33m)\u001b[0m\u001b[1;33m\u001b[0m\u001b[0m\n\u001b[1;32m--> 588\u001b[1;33m         \u001b[0mjob\u001b[0m \u001b[1;33m=\u001b[0m \u001b[0mself\u001b[0m\u001b[1;33m.\u001b[0m\u001b[0m_backend\u001b[0m\u001b[1;33m.\u001b[0m\u001b[0mapply_async\u001b[0m\u001b[1;33m(\u001b[0m\u001b[0mbatch\u001b[0m\u001b[1;33m,\u001b[0m \u001b[0mcallback\u001b[0m\u001b[1;33m=\u001b[0m\u001b[0mcb\u001b[0m\u001b[1;33m)\u001b[0m\u001b[1;33m\u001b[0m\u001b[0m\n\u001b[0m\u001b[0;32m    589\u001b[0m         \u001b[0mself\u001b[0m\u001b[1;33m.\u001b[0m\u001b[0m_jobs\u001b[0m\u001b[1;33m.\u001b[0m\u001b[0mappend\u001b[0m\u001b[1;33m(\u001b[0m\u001b[0mjob\u001b[0m\u001b[1;33m)\u001b[0m\u001b[1;33m\u001b[0m\u001b[0m\n\u001b[0;32m    590\u001b[0m \u001b[1;33m\u001b[0m\u001b[0m\n",
      "\u001b[1;32mc:\\users\\byron\\appdata\\local\\programs\\python\\python35\\lib\\site-packages\\sklearn\\externals\\joblib\\_parallel_backends.py\u001b[0m in \u001b[0;36mapply_async\u001b[1;34m(self, func, callback)\u001b[0m\n\u001b[0;32m    109\u001b[0m     \u001b[1;32mdef\u001b[0m \u001b[0mapply_async\u001b[0m\u001b[1;33m(\u001b[0m\u001b[0mself\u001b[0m\u001b[1;33m,\u001b[0m \u001b[0mfunc\u001b[0m\u001b[1;33m,\u001b[0m \u001b[0mcallback\u001b[0m\u001b[1;33m=\u001b[0m\u001b[1;32mNone\u001b[0m\u001b[1;33m)\u001b[0m\u001b[1;33m:\u001b[0m\u001b[1;33m\u001b[0m\u001b[0m\n\u001b[0;32m    110\u001b[0m         \u001b[1;34m\"\"\"Schedule a func to be run\"\"\"\u001b[0m\u001b[1;33m\u001b[0m\u001b[0m\n\u001b[1;32m--> 111\u001b[1;33m         \u001b[0mresult\u001b[0m \u001b[1;33m=\u001b[0m \u001b[0mImmediateResult\u001b[0m\u001b[1;33m(\u001b[0m\u001b[0mfunc\u001b[0m\u001b[1;33m)\u001b[0m\u001b[1;33m\u001b[0m\u001b[0m\n\u001b[0m\u001b[0;32m    112\u001b[0m         \u001b[1;32mif\u001b[0m \u001b[0mcallback\u001b[0m\u001b[1;33m:\u001b[0m\u001b[1;33m\u001b[0m\u001b[0m\n\u001b[0;32m    113\u001b[0m             \u001b[0mcallback\u001b[0m\u001b[1;33m(\u001b[0m\u001b[0mresult\u001b[0m\u001b[1;33m)\u001b[0m\u001b[1;33m\u001b[0m\u001b[0m\n",
      "\u001b[1;32mc:\\users\\byron\\appdata\\local\\programs\\python\\python35\\lib\\site-packages\\sklearn\\externals\\joblib\\_parallel_backends.py\u001b[0m in \u001b[0;36m__init__\u001b[1;34m(self, batch)\u001b[0m\n\u001b[0;32m    330\u001b[0m         \u001b[1;31m# Don't delay the application, to avoid keeping the input\u001b[0m\u001b[1;33m\u001b[0m\u001b[1;33m\u001b[0m\u001b[0m\n\u001b[0;32m    331\u001b[0m         \u001b[1;31m# arguments in memory\u001b[0m\u001b[1;33m\u001b[0m\u001b[1;33m\u001b[0m\u001b[0m\n\u001b[1;32m--> 332\u001b[1;33m         \u001b[0mself\u001b[0m\u001b[1;33m.\u001b[0m\u001b[0mresults\u001b[0m \u001b[1;33m=\u001b[0m \u001b[0mbatch\u001b[0m\u001b[1;33m(\u001b[0m\u001b[1;33m)\u001b[0m\u001b[1;33m\u001b[0m\u001b[0m\n\u001b[0m\u001b[0;32m    333\u001b[0m \u001b[1;33m\u001b[0m\u001b[0m\n\u001b[0;32m    334\u001b[0m     \u001b[1;32mdef\u001b[0m \u001b[0mget\u001b[0m\u001b[1;33m(\u001b[0m\u001b[0mself\u001b[0m\u001b[1;33m)\u001b[0m\u001b[1;33m:\u001b[0m\u001b[1;33m\u001b[0m\u001b[0m\n",
      "\u001b[1;32mc:\\users\\byron\\appdata\\local\\programs\\python\\python35\\lib\\site-packages\\sklearn\\externals\\joblib\\parallel.py\u001b[0m in \u001b[0;36m__call__\u001b[1;34m(self)\u001b[0m\n\u001b[0;32m    129\u001b[0m \u001b[1;33m\u001b[0m\u001b[0m\n\u001b[0;32m    130\u001b[0m     \u001b[1;32mdef\u001b[0m \u001b[0m__call__\u001b[0m\u001b[1;33m(\u001b[0m\u001b[0mself\u001b[0m\u001b[1;33m)\u001b[0m\u001b[1;33m:\u001b[0m\u001b[1;33m\u001b[0m\u001b[0m\n\u001b[1;32m--> 131\u001b[1;33m         \u001b[1;32mreturn\u001b[0m \u001b[1;33m[\u001b[0m\u001b[0mfunc\u001b[0m\u001b[1;33m(\u001b[0m\u001b[1;33m*\u001b[0m\u001b[0margs\u001b[0m\u001b[1;33m,\u001b[0m \u001b[1;33m**\u001b[0m\u001b[0mkwargs\u001b[0m\u001b[1;33m)\u001b[0m \u001b[1;32mfor\u001b[0m \u001b[0mfunc\u001b[0m\u001b[1;33m,\u001b[0m \u001b[0margs\u001b[0m\u001b[1;33m,\u001b[0m \u001b[0mkwargs\u001b[0m \u001b[1;32min\u001b[0m \u001b[0mself\u001b[0m\u001b[1;33m.\u001b[0m\u001b[0mitems\u001b[0m\u001b[1;33m]\u001b[0m\u001b[1;33m\u001b[0m\u001b[0m\n\u001b[0m\u001b[0;32m    132\u001b[0m \u001b[1;33m\u001b[0m\u001b[0m\n\u001b[0;32m    133\u001b[0m     \u001b[1;32mdef\u001b[0m \u001b[0m__len__\u001b[0m\u001b[1;33m(\u001b[0m\u001b[0mself\u001b[0m\u001b[1;33m)\u001b[0m\u001b[1;33m:\u001b[0m\u001b[1;33m\u001b[0m\u001b[0m\n",
      "\u001b[1;32mc:\\users\\byron\\appdata\\local\\programs\\python\\python35\\lib\\site-packages\\sklearn\\externals\\joblib\\parallel.py\u001b[0m in \u001b[0;36m<listcomp>\u001b[1;34m(.0)\u001b[0m\n\u001b[0;32m    129\u001b[0m \u001b[1;33m\u001b[0m\u001b[0m\n\u001b[0;32m    130\u001b[0m     \u001b[1;32mdef\u001b[0m \u001b[0m__call__\u001b[0m\u001b[1;33m(\u001b[0m\u001b[0mself\u001b[0m\u001b[1;33m)\u001b[0m\u001b[1;33m:\u001b[0m\u001b[1;33m\u001b[0m\u001b[0m\n\u001b[1;32m--> 131\u001b[1;33m         \u001b[1;32mreturn\u001b[0m \u001b[1;33m[\u001b[0m\u001b[0mfunc\u001b[0m\u001b[1;33m(\u001b[0m\u001b[1;33m*\u001b[0m\u001b[0margs\u001b[0m\u001b[1;33m,\u001b[0m \u001b[1;33m**\u001b[0m\u001b[0mkwargs\u001b[0m\u001b[1;33m)\u001b[0m \u001b[1;32mfor\u001b[0m \u001b[0mfunc\u001b[0m\u001b[1;33m,\u001b[0m \u001b[0margs\u001b[0m\u001b[1;33m,\u001b[0m \u001b[0mkwargs\u001b[0m \u001b[1;32min\u001b[0m \u001b[0mself\u001b[0m\u001b[1;33m.\u001b[0m\u001b[0mitems\u001b[0m\u001b[1;33m]\u001b[0m\u001b[1;33m\u001b[0m\u001b[0m\n\u001b[0m\u001b[0;32m    132\u001b[0m \u001b[1;33m\u001b[0m\u001b[0m\n\u001b[0;32m    133\u001b[0m     \u001b[1;32mdef\u001b[0m \u001b[0m__len__\u001b[0m\u001b[1;33m(\u001b[0m\u001b[0mself\u001b[0m\u001b[1;33m)\u001b[0m\u001b[1;33m:\u001b[0m\u001b[1;33m\u001b[0m\u001b[0m\n",
      "\u001b[1;32mc:\\users\\byron\\appdata\\local\\programs\\python\\python35\\lib\\site-packages\\sklearn\\model_selection\\_validation.py\u001b[0m in \u001b[0;36m_fit_and_score\u001b[1;34m(estimator, X, y, scorer, train, test, verbose, parameters, fit_params, return_train_score, return_parameters, return_n_test_samples, return_times, error_score)\u001b[0m\n\u001b[0;32m    456\u001b[0m             \u001b[0mestimator\u001b[0m\u001b[1;33m.\u001b[0m\u001b[0mfit\u001b[0m\u001b[1;33m(\u001b[0m\u001b[0mX_train\u001b[0m\u001b[1;33m,\u001b[0m \u001b[1;33m**\u001b[0m\u001b[0mfit_params\u001b[0m\u001b[1;33m)\u001b[0m\u001b[1;33m\u001b[0m\u001b[0m\n\u001b[0;32m    457\u001b[0m         \u001b[1;32melse\u001b[0m\u001b[1;33m:\u001b[0m\u001b[1;33m\u001b[0m\u001b[0m\n\u001b[1;32m--> 458\u001b[1;33m             \u001b[0mestimator\u001b[0m\u001b[1;33m.\u001b[0m\u001b[0mfit\u001b[0m\u001b[1;33m(\u001b[0m\u001b[0mX_train\u001b[0m\u001b[1;33m,\u001b[0m \u001b[0my_train\u001b[0m\u001b[1;33m,\u001b[0m \u001b[1;33m**\u001b[0m\u001b[0mfit_params\u001b[0m\u001b[1;33m)\u001b[0m\u001b[1;33m\u001b[0m\u001b[0m\n\u001b[0m\u001b[0;32m    459\u001b[0m \u001b[1;33m\u001b[0m\u001b[0m\n\u001b[0;32m    460\u001b[0m     \u001b[1;32mexcept\u001b[0m \u001b[0mException\u001b[0m \u001b[1;32mas\u001b[0m \u001b[0me\u001b[0m\u001b[1;33m:\u001b[0m\u001b[1;33m\u001b[0m\u001b[0m\n",
      "\u001b[1;32mc:\\users\\byron\\appdata\\local\\programs\\python\\python35\\lib\\site-packages\\sklearn\\ensemble\\gradient_boosting.py\u001b[0m in \u001b[0;36mfit\u001b[1;34m(self, X, y, sample_weight, monitor)\u001b[0m\n\u001b[0;32m   1032\u001b[0m         \u001b[1;31m# fit the boosting stages\u001b[0m\u001b[1;33m\u001b[0m\u001b[1;33m\u001b[0m\u001b[0m\n\u001b[0;32m   1033\u001b[0m         n_stages = self._fit_stages(X, y, y_pred, sample_weight, random_state,\n\u001b[1;32m-> 1034\u001b[1;33m                                     begin_at_stage, monitor, X_idx_sorted)\n\u001b[0m\u001b[0;32m   1035\u001b[0m         \u001b[1;31m# change shape of arrays after fit (early-stopping or additional ests)\u001b[0m\u001b[1;33m\u001b[0m\u001b[1;33m\u001b[0m\u001b[0m\n\u001b[0;32m   1036\u001b[0m         \u001b[1;32mif\u001b[0m \u001b[0mn_stages\u001b[0m \u001b[1;33m!=\u001b[0m \u001b[0mself\u001b[0m\u001b[1;33m.\u001b[0m\u001b[0mestimators_\u001b[0m\u001b[1;33m.\u001b[0m\u001b[0mshape\u001b[0m\u001b[1;33m[\u001b[0m\u001b[1;36m0\u001b[0m\u001b[1;33m]\u001b[0m\u001b[1;33m:\u001b[0m\u001b[1;33m\u001b[0m\u001b[0m\n",
      "\u001b[1;32mc:\\users\\byron\\appdata\\local\\programs\\python\\python35\\lib\\site-packages\\sklearn\\ensemble\\gradient_boosting.py\u001b[0m in \u001b[0;36m_fit_stages\u001b[1;34m(self, X, y, y_pred, sample_weight, random_state, begin_at_stage, monitor, X_idx_sorted)\u001b[0m\n\u001b[0;32m   1087\u001b[0m             y_pred = self._fit_stage(i, X, y, y_pred, sample_weight,\n\u001b[0;32m   1088\u001b[0m                                      \u001b[0msample_mask\u001b[0m\u001b[1;33m,\u001b[0m \u001b[0mrandom_state\u001b[0m\u001b[1;33m,\u001b[0m \u001b[0mX_idx_sorted\u001b[0m\u001b[1;33m,\u001b[0m\u001b[1;33m\u001b[0m\u001b[0m\n\u001b[1;32m-> 1089\u001b[1;33m                                      X_csc, X_csr)\n\u001b[0m\u001b[0;32m   1090\u001b[0m \u001b[1;33m\u001b[0m\u001b[0m\n\u001b[0;32m   1091\u001b[0m             \u001b[1;31m# track deviance (= loss)\u001b[0m\u001b[1;33m\u001b[0m\u001b[1;33m\u001b[0m\u001b[0m\n",
      "\u001b[1;32mc:\\users\\byron\\appdata\\local\\programs\\python\\python35\\lib\\site-packages\\sklearn\\ensemble\\gradient_boosting.py\u001b[0m in \u001b[0;36m_fit_stage\u001b[1;34m(self, i, X, y, y_pred, sample_weight, sample_mask, random_state, X_idx_sorted, X_csc, X_csr)\u001b[0m\n\u001b[0;32m    786\u001b[0m             \u001b[1;32melse\u001b[0m\u001b[1;33m:\u001b[0m\u001b[1;33m\u001b[0m\u001b[0m\n\u001b[0;32m    787\u001b[0m                 tree.fit(X, residual, sample_weight=sample_weight,\n\u001b[1;32m--> 788\u001b[1;33m                          check_input=False, X_idx_sorted=X_idx_sorted)\n\u001b[0m\u001b[0;32m    789\u001b[0m \u001b[1;33m\u001b[0m\u001b[0m\n\u001b[0;32m    790\u001b[0m             \u001b[1;31m# update tree leaves\u001b[0m\u001b[1;33m\u001b[0m\u001b[1;33m\u001b[0m\u001b[0m\n",
      "\u001b[1;32mc:\\users\\byron\\appdata\\local\\programs\\python\\python35\\lib\\site-packages\\sklearn\\tree\\tree.py\u001b[0m in \u001b[0;36mfit\u001b[1;34m(self, X, y, sample_weight, check_input, X_idx_sorted)\u001b[0m\n\u001b[0;32m   1122\u001b[0m             \u001b[0msample_weight\u001b[0m\u001b[1;33m=\u001b[0m\u001b[0msample_weight\u001b[0m\u001b[1;33m,\u001b[0m\u001b[1;33m\u001b[0m\u001b[0m\n\u001b[0;32m   1123\u001b[0m             \u001b[0mcheck_input\u001b[0m\u001b[1;33m=\u001b[0m\u001b[0mcheck_input\u001b[0m\u001b[1;33m,\u001b[0m\u001b[1;33m\u001b[0m\u001b[0m\n\u001b[1;32m-> 1124\u001b[1;33m             X_idx_sorted=X_idx_sorted)\n\u001b[0m\u001b[0;32m   1125\u001b[0m         \u001b[1;32mreturn\u001b[0m \u001b[0mself\u001b[0m\u001b[1;33m\u001b[0m\u001b[0m\n\u001b[0;32m   1126\u001b[0m \u001b[1;33m\u001b[0m\u001b[0m\n",
      "\u001b[1;32mc:\\users\\byron\\appdata\\local\\programs\\python\\python35\\lib\\site-packages\\sklearn\\tree\\tree.py\u001b[0m in \u001b[0;36mfit\u001b[1;34m(self, X, y, sample_weight, check_input, X_idx_sorted)\u001b[0m\n\u001b[0;32m    360\u001b[0m                                            min_impurity_split)\n\u001b[0;32m    361\u001b[0m \u001b[1;33m\u001b[0m\u001b[0m\n\u001b[1;32m--> 362\u001b[1;33m         \u001b[0mbuilder\u001b[0m\u001b[1;33m.\u001b[0m\u001b[0mbuild\u001b[0m\u001b[1;33m(\u001b[0m\u001b[0mself\u001b[0m\u001b[1;33m.\u001b[0m\u001b[0mtree_\u001b[0m\u001b[1;33m,\u001b[0m \u001b[0mX\u001b[0m\u001b[1;33m,\u001b[0m \u001b[0my\u001b[0m\u001b[1;33m,\u001b[0m \u001b[0msample_weight\u001b[0m\u001b[1;33m,\u001b[0m \u001b[0mX_idx_sorted\u001b[0m\u001b[1;33m)\u001b[0m\u001b[1;33m\u001b[0m\u001b[0m\n\u001b[0m\u001b[0;32m    363\u001b[0m \u001b[1;33m\u001b[0m\u001b[0m\n\u001b[0;32m    364\u001b[0m         \u001b[1;32mif\u001b[0m \u001b[0mself\u001b[0m\u001b[1;33m.\u001b[0m\u001b[0mn_outputs_\u001b[0m \u001b[1;33m==\u001b[0m \u001b[1;36m1\u001b[0m\u001b[1;33m:\u001b[0m\u001b[1;33m\u001b[0m\u001b[0m\n",
      "\u001b[1;31mKeyboardInterrupt\u001b[0m: "
     ]
    }
   ],
   "source": [
    "# 0.14760; rank 2759\n",
    "param_grid = {'n_estimators': [50, 80, 100],\n",
    "              'learning_rate': np.linspace(0.1, 0.2, 10)}\n",
    "gbr = GradientBoostingRegressor(max_depth=8)\n",
    "gs_cv = GridSearchCV(estimator=gbr, param_grid=param_grid, cv=5)\n",
    "gs_cv.fit(X, np.ravel(y))\n",
    "y_pred_kaggle = gs_cv.predict(X_test_kaggle)\n",
    "pd.DataFrame({'Id': df_test.Id.values,\n",
    "              'SalePrice': np.squeeze(y_pred_kaggle)}).to_csv('../project-house-price-prediction/data/pred.csv',\n",
    "                                                              index=False)"
   ]
  },
  {
   "cell_type": "code",
   "execution_count": 391,
   "metadata": {},
   "outputs": [
    {
     "name": "stdout",
     "output_type": "stream",
     "text": [
      "{'n_estimators': 100, 'learning_rate': 0.12} 0.883070305873\n"
     ]
    }
   ],
   "source": [
    "# 0.14385; Rank 2637\n",
    "param_grid = {'learning_rate': np.linspace(0.1, 0.125, 11),\n",
    "              'n_estimators': [100, 120]            \n",
    "              }\n",
    "gbr = GradientBoostingRegressor(max_depth=8, max_features='sqrt', subsample = 0.6)\n",
    "gs_cv = GridSearchCV(estimator=gbr, param_grid=param_grid, cv=5)\n",
    "gs_cv.fit(X, np.ravel(y))\n",
    "print(gs_cv.best_params_, gs_cv.best_score_)\n",
    "y_pred_kaggle = gs_cv.predict(X_test_kaggle)\n",
    "pd.DataFrame({'Id': df_test.Id.values,\n",
    "              'SalePrice': np.squeeze(y_pred_kaggle)}).to_csv('../project-house-price-prediction/data/pred.csv',\n",
    "                                                              index=False)"
   ]
  },
  {
   "cell_type": "code",
   "execution_count": 419,
   "metadata": {},
   "outputs": [
    {
     "name": "stdout",
     "output_type": "stream",
     "text": [
      "{'n_estimators': 500, 'learning_rate': 0.12} 0.880555757765\n"
     ]
    }
   ],
   "source": [
    "# 0.14334; Rank 2621\n",
    "param_grid = {'learning_rate': [0.12],\n",
    "              'n_estimators': [100, 500, 1000]\n",
    "              }\n",
    "gbr = GradientBoostingRegressor(subsample=0.6, max_depth=8, max_features='sqrt')\n",
    "gs_cv = GridSearchCV(estimator=gbr, param_grid=param_grid, cv=5)\n",
    "gs_cv.fit(X, np.ravel(y))\n",
    "print(gs_cv.best_params_, gs_cv.best_score_)\n",
    "y_pred_kaggle = gs_cv.predict(X_test_kaggle)\n",
    "pd.DataFrame({'Id': df_test.Id.values,\n",
    "              'SalePrice': np.squeeze(y_pred_kaggle)}).to_csv('../project-house-price-prediction/data/pred.csv',\n",
    "                                                              index=False)"
   ]
  },
  {
   "cell_type": "code",
   "execution_count": 446,
   "metadata": {},
   "outputs": [
    {
     "name": "stdout",
     "output_type": "stream",
     "text": [
      "{'n_estimators': 500, 'learning_rate': 0.12} 0.858656448642\n",
      "0.879818737007\n",
      "SalePrice    0.139093\n",
      "dtype: float64\n"
     ]
    }
   ],
   "source": [
    "param_grid = {'learning_rate': [0.12],\n",
    "              'n_estimators': [100, 500]\n",
    "              }\n",
    "gbr = GradientBoostingRegressor(subsample=0.6, max_depth=8, max_features='sqrt')\n",
    "gs_cv = GridSearchCV(estimator=gbr, param_grid=param_grid, cv=5)\n",
    "gs_cv.fit(X_train, np.ravel(y_train))\n",
    "print(gs_cv.best_params_, gs_cv.best_score_)\n",
    "y_pred = gs_cv.predict(X_test)\n",
    "print(gs_cv.score(X_test, y_test))\n",
    "print(np.sqrt(mean_squared_error(y_pred, y_test))/np.mean(y_test))"
   ]
  },
  {
   "cell_type": "code",
   "execution_count": 437,
   "metadata": {},
   "outputs": [
    {
     "data": {
      "text/html": [
       "<div>\n",
       "<style>\n",
       "    .dataframe thead tr:only-child th {\n",
       "        text-align: right;\n",
       "    }\n",
       "\n",
       "    .dataframe thead th {\n",
       "        text-align: left;\n",
       "    }\n",
       "\n",
       "    .dataframe tbody tr th {\n",
       "        vertical-align: top;\n",
       "    }\n",
       "</style>\n",
       "<table border=\"1\" class=\"dataframe\">\n",
       "  <thead>\n",
       "    <tr style=\"text-align: right;\">\n",
       "      <th></th>\n",
       "      <th>SalePrice</th>\n",
       "    </tr>\n",
       "  </thead>\n",
       "  <tbody>\n",
       "    <tr>\n",
       "      <th>0</th>\n",
       "      <td>208500</td>\n",
       "    </tr>\n",
       "    <tr>\n",
       "      <th>1</th>\n",
       "      <td>181500</td>\n",
       "    </tr>\n",
       "    <tr>\n",
       "      <th>2</th>\n",
       "      <td>223500</td>\n",
       "    </tr>\n",
       "    <tr>\n",
       "      <th>3</th>\n",
       "      <td>140000</td>\n",
       "    </tr>\n",
       "    <tr>\n",
       "      <th>4</th>\n",
       "      <td>250000</td>\n",
       "    </tr>\n",
       "  </tbody>\n",
       "</table>\n",
       "</div>"
      ],
      "text/plain": [
       "   SalePrice\n",
       "0     208500\n",
       "1     181500\n",
       "2     223500\n",
       "3     140000\n",
       "4     250000"
      ]
     },
     "execution_count": 437,
     "metadata": {},
     "output_type": "execute_result"
    }
   ],
   "source": [
    "y[:5]"
   ]
  },
  {
   "cell_type": "code",
   "execution_count": null,
   "metadata": {},
   "outputs": [],
   "source": [
    "np.mean(y_pred - np.array(y))"
   ]
  },
  {
   "cell_type": "code",
   "execution_count": 417,
   "metadata": {},
   "outputs": [
    {
     "name": "stdout",
     "output_type": "stream",
     "text": [
      "{'max_depth': 8, 'n_estimators': 1500, 'learning_rate': 0.121} 0.881553951019\n"
     ]
    }
   ],
   "source": [
    "# Try to get best training result\n",
    "param_grid = {'learning_rate': np.linspace(0.115, 0.125, 6),\n",
    "              'n_estimators': [1000, 1500],\n",
    "              'max_depth': [7, 8]\n",
    "              }\n",
    "gbr = GradientBoostingRegressor(subsample=0.6, max_features='sqrt')\n",
    "gs_cv = GridSearchCV(estimator=gbr, param_grid=param_grid, cv=5)\n",
    "gs_cv.fit(X, np.ravel(y))\n",
    "print(gs_cv.best_params_, gs_cv.best_score_)\n",
    "y_pred_kaggle = gs_cv.predict(X_test_kaggle)\n",
    "pd.DataFrame({'Id': df_test.Id.values,\n",
    "              'SalePrice': np.squeeze(y_pred_kaggle)}).to_csv('../project-house-price-prediction/data/pred.csv',\n",
    "                                                              index=False)"
   ]
  },
  {
   "cell_type": "code",
   "execution_count": 375,
   "metadata": {},
   "outputs": [],
   "source": [
    "param_grid = {'n_estimators': [250, 500, 750],\n",
    "              'max_depth': [10]}\n",
    "rf = RandomForestRegressor(min_samples_split = 5, min_samples_leaf = 3)\n",
    "gs_cv = GridSearchCV(estimator=rf, param_grid=param_grid, cv=5)\n",
    "gs_cv.fit(X, np.ravel(y))\n",
    "#print(gs_cv.score(X_test, y_test))\n",
    "y_pred_kaggle = gs_cv.predict(X_test_kaggle)\n",
    "pd.DataFrame({'Id': df_test.Id.values,\n",
    "              'SalePrice': np.squeeze(y_pred_kaggle)}).to_csv('../project-house-price-prediction/data/pred.csv',\n",
    "                                                              index=False)"
   ]
  },
  {
   "cell_type": "code",
   "execution_count": 376,
   "metadata": {},
   "outputs": [
    {
     "name": "stdout",
     "output_type": "stream",
     "text": [
      "{'max_depth': 10, 'n_estimators': 750} 0.851810295887\n"
     ]
    }
   ],
   "source": [
    "print(gs_cv.best_params_, gs_cv.best_score_)"
   ]
  },
  {
   "cell_type": "code",
   "execution_count": 377,
   "metadata": {},
   "outputs": [
    {
     "name": "stdout",
     "output_type": "stream",
     "text": [
      "{'n_estimators': 500} 0.871623084652\n"
     ]
    }
   ],
   "source": [
    "param_grid = {'n_estimators': [100, 250, 500]}\n",
    "abr = AdaBoostRegressor(DecisionTreeRegressor(min_samples_split = 5, \n",
    "                                              min_samples_leaf = 3,\n",
    "                                              max_depth=20))\n",
    "gs_cv = GridSearchCV(abr, param_grid, cv = 5)\n",
    "gs_cv.fit(X, np.ravel(y))\n",
    "print(gs_cv.best_params_, gs_cv.best_score_)"
   ]
  },
  {
   "cell_type": "code",
   "execution_count": 378,
   "metadata": {},
   "outputs": [],
   "source": [
    "y_pred_kaggle = gs_cv.predict(X_test_kaggle)\n",
    "pd.DataFrame({'Id': df_test.Id.values,\n",
    "              'SalePrice': np.squeeze(y_pred_kaggle)}).to_csv('../project-house-price-prediction/data/pred.csv',\n",
    "                                                              index=False)"
   ]
  }
 ],
 "metadata": {
  "kernelspec": {
   "display_name": "Python 3",
   "language": "python",
   "name": "python3"
  },
  "language_info": {
   "codemirror_mode": {
    "name": "ipython",
    "version": 3
   },
   "file_extension": ".py",
   "mimetype": "text/x-python",
   "name": "python",
   "nbconvert_exporter": "python",
   "pygments_lexer": "ipython3",
   "version": "3.5.2"
  }
 },
 "nbformat": 4,
 "nbformat_minor": 2
}
